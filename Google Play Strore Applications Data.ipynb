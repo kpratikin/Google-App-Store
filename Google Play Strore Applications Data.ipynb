{
 "cells": [
  {
   "cell_type": "markdown",
   "metadata": {},
   "source": [
    "# <b>Google Play Store Data - Mobile Applications and Reviews"
   ]
  },
  {
   "cell_type": "markdown",
   "metadata": {},
   "source": [
    "There are two files- <ul><li><b>app_info.csv </b>- details of the applications on Google Play. </li><li><b>app_reviews.csv</b> - This file contains the first 'most relevant' 100 reviews for each app. <>/li>"
   ]
  },
  {
   "cell_type": "markdown",
   "metadata": {},
   "source": [
    "Importing libraries"
   ]
  },
  {
   "cell_type": "code",
   "execution_count": 1,
   "metadata": {},
   "outputs": [],
   "source": [
    "import pandas as pd\n",
    "import numpy as np\n",
    "import seaborn as sns\n",
    "sns.set()\n",
    "import matplotlib.pyplot as plt\n",
    "\n",
    "# print all the outputs in a cell\n",
    "from IPython.core.interactiveshell import InteractiveShell\n",
    "InteractiveShell.ast_node_interactivity = \"all\"\n",
    "\n",
    "import warnings\n",
    "warnings.filterwarnings('ignore')\n",
    "pd.set_option('display.float_format', lambda x: '%.2f' % x)"
   ]
  },
  {
   "cell_type": "markdown",
   "metadata": {},
   "source": [
    "Reading data"
   ]
  },
  {
   "cell_type": "code",
   "execution_count": 2,
   "metadata": {},
   "outputs": [],
   "source": [
    "df_appinfo = pd.read_csv('E:/My Work/Data/app_info.csv')"
   ]
  },
  {
   "cell_type": "code",
   "execution_count": 3,
   "metadata": {},
   "outputs": [],
   "source": [
    "df_appreviews = pd.read_csv('E:/My Work/Data/app_reviews.csv')"
   ]
  },
  {
   "cell_type": "markdown",
   "metadata": {},
   "source": [
    "# Data Exploration and Cleaning (App_info)"
   ]
  },
  {
   "cell_type": "markdown",
   "metadata": {},
   "source": [
    "There are 10,841 rows and 13 columns in app_info dataset."
   ]
  },
  {
   "cell_type": "code",
   "execution_count": 4,
   "metadata": {},
   "outputs": [
    {
     "data": {
      "text/plain": [
       "(10841, 13)"
      ]
     },
     "execution_count": 4,
     "metadata": {},
     "output_type": "execute_result"
    },
    {
     "data": {
      "text/html": [
       "<div>\n",
       "<style scoped>\n",
       "    .dataframe tbody tr th:only-of-type {\n",
       "        vertical-align: middle;\n",
       "    }\n",
       "\n",
       "    .dataframe tbody tr th {\n",
       "        vertical-align: top;\n",
       "    }\n",
       "\n",
       "    .dataframe thead th {\n",
       "        text-align: right;\n",
       "    }\n",
       "</style>\n",
       "<table border=\"1\" class=\"dataframe\">\n",
       "  <thead>\n",
       "    <tr style=\"text-align: right;\">\n",
       "      <th></th>\n",
       "      <th>App</th>\n",
       "      <th>Category</th>\n",
       "      <th>Rating</th>\n",
       "      <th>Reviews</th>\n",
       "      <th>Size</th>\n",
       "      <th>Installs</th>\n",
       "      <th>Type</th>\n",
       "      <th>Price</th>\n",
       "      <th>Content Rating</th>\n",
       "      <th>Genres</th>\n",
       "      <th>Last Updated</th>\n",
       "      <th>Current Ver</th>\n",
       "      <th>Android Ver</th>\n",
       "    </tr>\n",
       "  </thead>\n",
       "  <tbody>\n",
       "    <tr>\n",
       "      <th>0</th>\n",
       "      <td>Photo Editor &amp; Candy Camera &amp; Grid &amp; ScrapBook</td>\n",
       "      <td>ART_AND_DESIGN</td>\n",
       "      <td>4.10</td>\n",
       "      <td>159</td>\n",
       "      <td>19M</td>\n",
       "      <td>10,000+</td>\n",
       "      <td>Free</td>\n",
       "      <td>0</td>\n",
       "      <td>Everyone</td>\n",
       "      <td>Art &amp; Design</td>\n",
       "      <td>January 7, 2018</td>\n",
       "      <td>1.0.0</td>\n",
       "      <td>4.0.3 and up</td>\n",
       "    </tr>\n",
       "    <tr>\n",
       "      <th>1</th>\n",
       "      <td>Coloring book moana</td>\n",
       "      <td>ART_AND_DESIGN</td>\n",
       "      <td>3.90</td>\n",
       "      <td>967</td>\n",
       "      <td>14M</td>\n",
       "      <td>500,000+</td>\n",
       "      <td>Free</td>\n",
       "      <td>0</td>\n",
       "      <td>Everyone</td>\n",
       "      <td>Art &amp; Design;Pretend Play</td>\n",
       "      <td>January 15, 2018</td>\n",
       "      <td>2.0.0</td>\n",
       "      <td>4.0.3 and up</td>\n",
       "    </tr>\n",
       "    <tr>\n",
       "      <th>2</th>\n",
       "      <td>U Launcher Lite – FREE Live Cool Themes, Hide ...</td>\n",
       "      <td>ART_AND_DESIGN</td>\n",
       "      <td>4.70</td>\n",
       "      <td>87510</td>\n",
       "      <td>8.7M</td>\n",
       "      <td>5,000,000+</td>\n",
       "      <td>Free</td>\n",
       "      <td>0</td>\n",
       "      <td>Everyone</td>\n",
       "      <td>Art &amp; Design</td>\n",
       "      <td>August 1, 2018</td>\n",
       "      <td>1.2.4</td>\n",
       "      <td>4.0.3 and up</td>\n",
       "    </tr>\n",
       "  </tbody>\n",
       "</table>\n",
       "</div>"
      ],
      "text/plain": [
       "                                                 App        Category  Rating  \\\n",
       "0     Photo Editor & Candy Camera & Grid & ScrapBook  ART_AND_DESIGN    4.10   \n",
       "1                                Coloring book moana  ART_AND_DESIGN    3.90   \n",
       "2  U Launcher Lite – FREE Live Cool Themes, Hide ...  ART_AND_DESIGN    4.70   \n",
       "\n",
       "  Reviews  Size    Installs  Type Price Content Rating  \\\n",
       "0     159   19M     10,000+  Free     0       Everyone   \n",
       "1     967   14M    500,000+  Free     0       Everyone   \n",
       "2   87510  8.7M  5,000,000+  Free     0       Everyone   \n",
       "\n",
       "                      Genres      Last Updated Current Ver   Android Ver  \n",
       "0               Art & Design   January 7, 2018       1.0.0  4.0.3 and up  \n",
       "1  Art & Design;Pretend Play  January 15, 2018       2.0.0  4.0.3 and up  \n",
       "2               Art & Design    August 1, 2018       1.2.4  4.0.3 and up  "
      ]
     },
     "execution_count": 4,
     "metadata": {},
     "output_type": "execute_result"
    },
    {
     "data": {
      "text/plain": [
       "App                object\n",
       "Category           object\n",
       "Rating            float64\n",
       "Reviews            object\n",
       "Size               object\n",
       "Installs           object\n",
       "Type               object\n",
       "Price              object\n",
       "Content Rating     object\n",
       "Genres             object\n",
       "Last Updated       object\n",
       "Current Ver        object\n",
       "Android Ver        object\n",
       "dtype: object"
      ]
     },
     "execution_count": 4,
     "metadata": {},
     "output_type": "execute_result"
    }
   ],
   "source": [
    "df_appinfo.shape\n",
    "\n",
    "#Sample records\n",
    "df_appinfo.head(3)\n",
    "\n",
    "#Datatypes of each column\n",
    "df_appinfo.dtypes"
   ]
  },
  {
   "cell_type": "markdown",
   "metadata": {},
   "source": [
    "Each row represents an application (App) data in play store.<br>\n",
    "\n",
    "Column:\t\t\tDescription <br>\n",
    "App\t\t:\tApplication name <br>\n",
    "Category:\t\tCategory the app belongs to <br>\n",
    "Rating\t:\t\tOverall user rating of the app (as when scraped) <br>\n",
    "Reviews\t:\tNumber of user reviews for the app (as when scraped)<br>\n",
    "Size\t:\t\tSize of the app (as when scraped)<br>\n",
    "Installs:\t\t\tNumber of user downloads/installs for the app (as when scraped)<br>\n",
    "Type\t:\t\tPaid or Free<br>\n",
    "Price\t:\t\tPrice of the app (as when scraped)<br>\n",
    "Content Rating:\t\tAge group the app is targeted at - Children / Mature 21+ / Adult<br>\n",
    "Genres\t\t\t:An app can belong to multiple genres (apart from its main category).\n",
    "For eg, a musical family game will belong to Music, Game, Family genres.<br>\n",
    "Last Updated:\t\tDate when the app was last updated on Play Store (as when scraped)<br>\n",
    "Current Ver\t:\tCurrent version of the app available on Play Store (as when scraped)<br>\n",
    "Android Ver\t:\tMin required Android version (as when scraped)<br>"
   ]
  },
  {
   "cell_type": "markdown",
   "metadata": {},
   "source": [
    "Only Rating column is of type numeric in orginal dataframe. It ranges from 1 to 19. Value 19 seems to be off. There is only one record with that value."
   ]
  },
  {
   "cell_type": "code",
   "execution_count": 5,
   "metadata": {},
   "outputs": [
    {
     "data": {
      "text/html": [
       "<div>\n",
       "<style scoped>\n",
       "    .dataframe tbody tr th:only-of-type {\n",
       "        vertical-align: middle;\n",
       "    }\n",
       "\n",
       "    .dataframe tbody tr th {\n",
       "        vertical-align: top;\n",
       "    }\n",
       "\n",
       "    .dataframe thead th {\n",
       "        text-align: right;\n",
       "    }\n",
       "</style>\n",
       "<table border=\"1\" class=\"dataframe\">\n",
       "  <thead>\n",
       "    <tr style=\"text-align: right;\">\n",
       "      <th></th>\n",
       "      <th>Rating</th>\n",
       "    </tr>\n",
       "  </thead>\n",
       "  <tbody>\n",
       "    <tr>\n",
       "      <th>count</th>\n",
       "      <td>9367.00</td>\n",
       "    </tr>\n",
       "    <tr>\n",
       "      <th>mean</th>\n",
       "      <td>4.19</td>\n",
       "    </tr>\n",
       "    <tr>\n",
       "      <th>std</th>\n",
       "      <td>0.54</td>\n",
       "    </tr>\n",
       "    <tr>\n",
       "      <th>min</th>\n",
       "      <td>1.00</td>\n",
       "    </tr>\n",
       "    <tr>\n",
       "      <th>25%</th>\n",
       "      <td>4.00</td>\n",
       "    </tr>\n",
       "    <tr>\n",
       "      <th>50%</th>\n",
       "      <td>4.30</td>\n",
       "    </tr>\n",
       "    <tr>\n",
       "      <th>75%</th>\n",
       "      <td>4.50</td>\n",
       "    </tr>\n",
       "    <tr>\n",
       "      <th>max</th>\n",
       "      <td>19.00</td>\n",
       "    </tr>\n",
       "  </tbody>\n",
       "</table>\n",
       "</div>"
      ],
      "text/plain": [
       "       Rating\n",
       "count 9367.00\n",
       "mean     4.19\n",
       "std      0.54\n",
       "min      1.00\n",
       "25%      4.00\n",
       "50%      4.30\n",
       "75%      4.50\n",
       "max     19.00"
      ]
     },
     "execution_count": 5,
     "metadata": {},
     "output_type": "execute_result"
    },
    {
     "data": {
      "text/html": [
       "<div>\n",
       "<style scoped>\n",
       "    .dataframe tbody tr th:only-of-type {\n",
       "        vertical-align: middle;\n",
       "    }\n",
       "\n",
       "    .dataframe tbody tr th {\n",
       "        vertical-align: top;\n",
       "    }\n",
       "\n",
       "    .dataframe thead th {\n",
       "        text-align: right;\n",
       "    }\n",
       "</style>\n",
       "<table border=\"1\" class=\"dataframe\">\n",
       "  <thead>\n",
       "    <tr style=\"text-align: right;\">\n",
       "      <th></th>\n",
       "      <th>App</th>\n",
       "      <th>Category</th>\n",
       "      <th>Rating</th>\n",
       "      <th>Reviews</th>\n",
       "      <th>Size</th>\n",
       "      <th>Installs</th>\n",
       "      <th>Type</th>\n",
       "      <th>Price</th>\n",
       "      <th>Content Rating</th>\n",
       "      <th>Genres</th>\n",
       "      <th>Last Updated</th>\n",
       "      <th>Current Ver</th>\n",
       "      <th>Android Ver</th>\n",
       "    </tr>\n",
       "  </thead>\n",
       "  <tbody>\n",
       "    <tr>\n",
       "      <th>10472</th>\n",
       "      <td>Life Made WI-Fi Touchscreen Photo Frame</td>\n",
       "      <td>1.9</td>\n",
       "      <td>19.00</td>\n",
       "      <td>3.0M</td>\n",
       "      <td>1,000+</td>\n",
       "      <td>Free</td>\n",
       "      <td>0</td>\n",
       "      <td>Everyone</td>\n",
       "      <td>NaN</td>\n",
       "      <td>February 11, 2018</td>\n",
       "      <td>1.0.19</td>\n",
       "      <td>4.0 and up</td>\n",
       "      <td>NaN</td>\n",
       "    </tr>\n",
       "  </tbody>\n",
       "</table>\n",
       "</div>"
      ],
      "text/plain": [
       "                                           App Category  Rating Reviews  \\\n",
       "10472  Life Made WI-Fi Touchscreen Photo Frame      1.9   19.00    3.0M   \n",
       "\n",
       "         Size Installs Type     Price Content Rating             Genres  \\\n",
       "10472  1,000+     Free    0  Everyone            NaN  February 11, 2018   \n",
       "\n",
       "      Last Updated Current Ver Android Ver  \n",
       "10472       1.0.19  4.0 and up         NaN  "
      ]
     },
     "execution_count": 5,
     "metadata": {},
     "output_type": "execute_result"
    }
   ],
   "source": [
    "df_appinfo.describe()\n",
    "df_appinfo[df_appinfo.Rating==19]"
   ]
  },
  {
   "cell_type": "markdown",
   "metadata": {},
   "source": [
    "<b>Categories"
   ]
  },
  {
   "cell_type": "markdown",
   "metadata": {},
   "source": [
    "There are 34 categories."
   ]
  },
  {
   "cell_type": "code",
   "execution_count": 6,
   "metadata": {},
   "outputs": [
    {
     "data": {
      "text/plain": [
       "34"
      ]
     },
     "execution_count": 6,
     "metadata": {},
     "output_type": "execute_result"
    },
    {
     "name": "stdout",
     "output_type": "stream",
     "text": [
      "Number of records in each Categories:\n"
     ]
    },
    {
     "data": {
      "text/plain": [
       "FAMILY                 1972\n",
       "GAME                   1144\n",
       "TOOLS                   843\n",
       "MEDICAL                 463\n",
       "BUSINESS                460\n",
       "PRODUCTIVITY            424\n",
       "PERSONALIZATION         392\n",
       "COMMUNICATION           387\n",
       "SPORTS                  384\n",
       "LIFESTYLE               382\n",
       "FINANCE                 366\n",
       "HEALTH_AND_FITNESS      341\n",
       "PHOTOGRAPHY             335\n",
       "SOCIAL                  295\n",
       "NEWS_AND_MAGAZINES      283\n",
       "SHOPPING                260\n",
       "TRAVEL_AND_LOCAL        258\n",
       "DATING                  234\n",
       "BOOKS_AND_REFERENCE     231\n",
       "VIDEO_PLAYERS           175\n",
       "EDUCATION               156\n",
       "ENTERTAINMENT           149\n",
       "MAPS_AND_NAVIGATION     137\n",
       "FOOD_AND_DRINK          127\n",
       "HOUSE_AND_HOME           88\n",
       "LIBRARIES_AND_DEMO       85\n",
       "AUTO_AND_VEHICLES        85\n",
       "WEATHER                  82\n",
       "ART_AND_DESIGN           65\n",
       "EVENTS                   64\n",
       "PARENTING                60\n",
       "COMICS                   60\n",
       "BEAUTY                   53\n",
       "1.9                       1\n",
       "Name: Category, dtype: int64"
      ]
     },
     "execution_count": 6,
     "metadata": {},
     "output_type": "execute_result"
    }
   ],
   "source": [
    "df_appinfo.Category.nunique()\n",
    "\n",
    "print('Number of records in each Categories:')\n",
    "df_appinfo.Category.value_counts()"
   ]
  },
  {
   "cell_type": "markdown",
   "metadata": {},
   "source": [
    "Category '1.9' doesnt seems right. It seems to be a typo. \n",
    "Need to correctly classify or remove it. <br>"
   ]
  },
  {
   "cell_type": "code",
   "execution_count": 7,
   "metadata": {},
   "outputs": [
    {
     "data": {
      "text/html": [
       "<div>\n",
       "<style scoped>\n",
       "    .dataframe tbody tr th:only-of-type {\n",
       "        vertical-align: middle;\n",
       "    }\n",
       "\n",
       "    .dataframe tbody tr th {\n",
       "        vertical-align: top;\n",
       "    }\n",
       "\n",
       "    .dataframe thead th {\n",
       "        text-align: right;\n",
       "    }\n",
       "</style>\n",
       "<table border=\"1\" class=\"dataframe\">\n",
       "  <thead>\n",
       "    <tr style=\"text-align: right;\">\n",
       "      <th></th>\n",
       "      <th>App</th>\n",
       "      <th>Category</th>\n",
       "      <th>Rating</th>\n",
       "      <th>Reviews</th>\n",
       "      <th>Size</th>\n",
       "      <th>Installs</th>\n",
       "      <th>Type</th>\n",
       "      <th>Price</th>\n",
       "      <th>Content Rating</th>\n",
       "      <th>Genres</th>\n",
       "      <th>Last Updated</th>\n",
       "      <th>Current Ver</th>\n",
       "      <th>Android Ver</th>\n",
       "    </tr>\n",
       "  </thead>\n",
       "  <tbody>\n",
       "    <tr>\n",
       "      <th>10472</th>\n",
       "      <td>Life Made WI-Fi Touchscreen Photo Frame</td>\n",
       "      <td>1.9</td>\n",
       "      <td>19.00</td>\n",
       "      <td>3.0M</td>\n",
       "      <td>1,000+</td>\n",
       "      <td>Free</td>\n",
       "      <td>0</td>\n",
       "      <td>Everyone</td>\n",
       "      <td>NaN</td>\n",
       "      <td>February 11, 2018</td>\n",
       "      <td>1.0.19</td>\n",
       "      <td>4.0 and up</td>\n",
       "      <td>NaN</td>\n",
       "    </tr>\n",
       "  </tbody>\n",
       "</table>\n",
       "</div>"
      ],
      "text/plain": [
       "                                           App Category  Rating Reviews  \\\n",
       "10472  Life Made WI-Fi Touchscreen Photo Frame      1.9   19.00    3.0M   \n",
       "\n",
       "         Size Installs Type     Price Content Rating             Genres  \\\n",
       "10472  1,000+     Free    0  Everyone            NaN  February 11, 2018   \n",
       "\n",
       "      Last Updated Current Ver Android Ver  \n",
       "10472       1.0.19  4.0 and up         NaN  "
      ]
     },
     "execution_count": 7,
     "metadata": {},
     "output_type": "execute_result"
    }
   ],
   "source": [
    "df_appinfo[df_appinfo.Category=='1.9']"
   ]
  },
  {
   "cell_type": "markdown",
   "metadata": {},
   "source": [
    "If you look at the above record, Category columns should be NAN. Data is shifted one column towards their left. I mean 1.9 should be Rating, 19 should be Reviews, 3.0M should be Size, Type should be Free like that. Therefore, correcting this one record by shifting the columns."
   ]
  },
  {
   "cell_type": "code",
   "execution_count": 8,
   "metadata": {
    "scrolled": true
   },
   "outputs": [],
   "source": [
    "df_appinfo.iloc[10472,1:] = df_appinfo.iloc[10472,1:].shift(periods=1)"
   ]
  },
  {
   "cell_type": "code",
   "execution_count": 9,
   "metadata": {},
   "outputs": [],
   "source": [
    "df_appinfo.iloc[10472,1] = 'HOUSE_AND_HOME'"
   ]
  },
  {
   "cell_type": "code",
   "execution_count": 10,
   "metadata": {},
   "outputs": [
    {
     "data": {
      "text/html": [
       "<div>\n",
       "<style scoped>\n",
       "    .dataframe tbody tr th:only-of-type {\n",
       "        vertical-align: middle;\n",
       "    }\n",
       "\n",
       "    .dataframe tbody tr th {\n",
       "        vertical-align: top;\n",
       "    }\n",
       "\n",
       "    .dataframe thead th {\n",
       "        text-align: right;\n",
       "    }\n",
       "</style>\n",
       "<table border=\"1\" class=\"dataframe\">\n",
       "  <thead>\n",
       "    <tr style=\"text-align: right;\">\n",
       "      <th></th>\n",
       "      <th>App</th>\n",
       "      <th>Category</th>\n",
       "      <th>Rating</th>\n",
       "      <th>Reviews</th>\n",
       "      <th>Size</th>\n",
       "      <th>Installs</th>\n",
       "      <th>Type</th>\n",
       "      <th>Price</th>\n",
       "      <th>Content Rating</th>\n",
       "      <th>Genres</th>\n",
       "      <th>Last Updated</th>\n",
       "      <th>Current Ver</th>\n",
       "      <th>Android Ver</th>\n",
       "    </tr>\n",
       "  </thead>\n",
       "  <tbody>\n",
       "    <tr>\n",
       "      <th>10472</th>\n",
       "      <td>Life Made WI-Fi Touchscreen Photo Frame</td>\n",
       "      <td>HOUSE_AND_HOME</td>\n",
       "      <td>1.9</td>\n",
       "      <td>19.00</td>\n",
       "      <td>3.0M</td>\n",
       "      <td>1,000+</td>\n",
       "      <td>Free</td>\n",
       "      <td>0</td>\n",
       "      <td>Everyone</td>\n",
       "      <td>NaN</td>\n",
       "      <td>February 11, 2018</td>\n",
       "      <td>1.0.19</td>\n",
       "      <td>4.0 and up</td>\n",
       "    </tr>\n",
       "  </tbody>\n",
       "</table>\n",
       "</div>"
      ],
      "text/plain": [
       "                                           App        Category Rating Reviews  \\\n",
       "10472  Life Made WI-Fi Touchscreen Photo Frame  HOUSE_AND_HOME    1.9   19.00   \n",
       "\n",
       "       Size Installs  Type Price Content Rating Genres       Last Updated  \\\n",
       "10472  3.0M   1,000+  Free     0       Everyone    NaN  February 11, 2018   \n",
       "\n",
       "      Current Ver Android Ver  \n",
       "10472      1.0.19  4.0 and up  "
      ]
     },
     "execution_count": 10,
     "metadata": {},
     "output_type": "execute_result"
    }
   ],
   "source": [
    "#df_appinfo[df_appinfo.Category=='1.9']\n",
    "df_appinfo.iloc[10472:10473,:]"
   ]
  },
  {
   "cell_type": "markdown",
   "metadata": {},
   "source": [
    "<b>Size</b> - Contains K, M, 'Varies with device' strings along with numbers. - NEED TO CONVERT IT TO NUMBER."
   ]
  },
  {
   "cell_type": "markdown",
   "metadata": {},
   "source": [
    "Setting Size as -99 for now for the records where the Size is mentioned as 'Varies with device'. This value is later changed with corresponding Category's mean."
   ]
  },
  {
   "cell_type": "code",
   "execution_count": 11,
   "metadata": {},
   "outputs": [],
   "source": [
    "df_appinfo.loc[df_appinfo.Size == 'Varies with device','Size']='-99'"
   ]
  },
  {
   "cell_type": "code",
   "execution_count": 12,
   "metadata": {},
   "outputs": [],
   "source": [
    "#df_appinfo[df_appinfo.Size != 'Varies with device']\n",
    "df_appinfo.Size = df_appinfo.Size.apply(lambda a: \n",
    "                      float(a[:-1])*1000000 if ('M' or 'm') in a else \n",
    "                          (float(a[:-1])*1000 if ('k' or 'K') in a else float(a))\n",
    "                     )"
   ]
  },
  {
   "cell_type": "code",
   "execution_count": 13,
   "metadata": {},
   "outputs": [],
   "source": [
    "dict_Catergory_Size_Mean = (df_appinfo.loc[(df_appinfo.Size != -99)].groupby('Category')['Size'].mean()).to_dict()\n",
    "df_appinfo.loc[(df_appinfo.Size == -99),'Size'] = df_appinfo.loc[(df_appinfo.Size == -99)]['Category'].apply(lambda a: dict_Catergory_Size_Mean.get(a,np.NaN))"
   ]
  },
  {
   "cell_type": "markdown",
   "metadata": {
    "slideshow": {
     "slide_type": "slide"
    }
   },
   "source": [
    "<b>Price"
   ]
  },
  {
   "cell_type": "markdown",
   "metadata": {},
   "source": [
    "Price contains $ signs."
   ]
  },
  {
   "cell_type": "code",
   "execution_count": 14,
   "metadata": {},
   "outputs": [
    {
     "data": {
      "text/plain": [
       "0        10041\n",
       "$0.99      148\n",
       "$2.99      129\n",
       "$1.99       73\n",
       "$4.99       72\n",
       "Name: Price, dtype: int64"
      ]
     },
     "execution_count": 14,
     "metadata": {},
     "output_type": "execute_result"
    }
   ],
   "source": [
    "df_appinfo.Price.value_counts().head()"
   ]
  },
  {
   "cell_type": "markdown",
   "metadata": {},
   "source": [
    "Remove $ sign from the price and converting the values to float."
   ]
  },
  {
   "cell_type": "code",
   "execution_count": 15,
   "metadata": {},
   "outputs": [],
   "source": [
    "df_appinfo.Price = df_appinfo.Price.apply(lambda a: float(a[1:]) if '$' in a else float(a))"
   ]
  },
  {
   "cell_type": "code",
   "execution_count": 16,
   "metadata": {
    "scrolled": true
   },
   "outputs": [
    {
     "data": {
      "text/plain": [
       "0.00    10041\n",
       "0.99      148\n",
       "2.99      129\n",
       "1.99       73\n",
       "4.99       72\n",
       "Name: Price, dtype: int64"
      ]
     },
     "execution_count": 16,
     "metadata": {},
     "output_type": "execute_result"
    }
   ],
   "source": [
    "df_appinfo.Price.value_counts().head()"
   ]
  },
  {
   "cell_type": "markdown",
   "metadata": {},
   "source": [
    "<b>Number of Apps covered in the dataset."
   ]
  },
  {
   "cell_type": "code",
   "execution_count": 17,
   "metadata": {},
   "outputs": [
    {
     "name": "stdout",
     "output_type": "stream",
     "text": [
      "Number of Apps covered in the dataset:\n"
     ]
    },
    {
     "data": {
      "text/plain": [
       "9660"
      ]
     },
     "execution_count": 17,
     "metadata": {},
     "output_type": "execute_result"
    }
   ],
   "source": [
    "print('Number of Apps covered in the dataset:')\n",
    "df_appinfo.App.nunique()"
   ]
  },
  {
   "cell_type": "markdown",
   "metadata": {},
   "source": [
    "Number of records for each APP. <br>"
   ]
  },
  {
   "cell_type": "code",
   "execution_count": 18,
   "metadata": {},
   "outputs": [
    {
     "name": "stdout",
     "output_type": "stream",
     "text": [
      "Number of records for each APP\n"
     ]
    },
    {
     "data": {
      "text/plain": [
       "ROBLOX                                               9\n",
       "CBS Sports App - Scores, News, Stats & Watch Live    8\n",
       "8 Ball Pool                                          7\n",
       "Duolingo: Learn Languages Free                       7\n",
       "ESPN                                                 7\n",
       "Name: App, dtype: int64"
      ]
     },
     "execution_count": 18,
     "metadata": {},
     "output_type": "execute_result"
    }
   ],
   "source": [
    "print('Number of records for each APP')\n",
    "df_appinfo.App.value_counts().head()"
   ]
  },
  {
   "cell_type": "markdown",
   "metadata": {},
   "source": [
    "Why we have more than one record for certain(798) Apps? This could be because of below reasons:\n",
    "<ol><li> Duplicate records.</li>\n",
    "    <li><b> Data was retrieved multiple times (different timestamp).</li></ol>"
   ]
  },
  {
   "cell_type": "markdown",
   "metadata": {},
   "source": [
    "Example 1 - ESPN<br>\n",
    "Except Reviews, almost all other columns are same. It indicates that the data for an app is retrieved multiple times (on different timestamp). We can observe that reviews are increasing. We don't have information related to retrieval time i.e. when the data for an app retrieved from Play Store.\n",
    "\n",
    "Here I will assume that the user cannot delete their Reviews in the Play Store once posted. Hence, the row with highest number of reviews is the most recent data for that App. As one App data is new as compared to other app data, comparisions between them won't be right. Example: For ESPN App I retrieved there latest data (Jan 2020) from Play store while for other App (say ROBLOX), I have previous data i.e. from Jan 2016. Comparision between these two Apps in two different times is not right. Over the period of 4 years ESPN will have more number of installs etc. We need to compare data for the same time. This is a major drawback in the anaysis. In order to reduce such differences, out of all the records for an App, I will keep only that record which has minimum reviews. Considering that was the first time App data pulled for all the Apps. \n",
    "\n",
    "Also, note - index 2959, 3010, 3018 are exactly same. This is considered as duplicates."
   ]
  },
  {
   "cell_type": "code",
   "execution_count": 19,
   "metadata": {},
   "outputs": [
    {
     "data": {
      "text/html": [
       "<div>\n",
       "<style scoped>\n",
       "    .dataframe tbody tr th:only-of-type {\n",
       "        vertical-align: middle;\n",
       "    }\n",
       "\n",
       "    .dataframe tbody tr th {\n",
       "        vertical-align: top;\n",
       "    }\n",
       "\n",
       "    .dataframe thead th {\n",
       "        text-align: right;\n",
       "    }\n",
       "</style>\n",
       "<table border=\"1\" class=\"dataframe\">\n",
       "  <thead>\n",
       "    <tr style=\"text-align: right;\">\n",
       "      <th></th>\n",
       "      <th>App</th>\n",
       "      <th>Category</th>\n",
       "      <th>Rating</th>\n",
       "      <th>Reviews</th>\n",
       "      <th>Size</th>\n",
       "      <th>Installs</th>\n",
       "      <th>Type</th>\n",
       "      <th>Price</th>\n",
       "      <th>Content Rating</th>\n",
       "      <th>Genres</th>\n",
       "      <th>Last Updated</th>\n",
       "      <th>Current Ver</th>\n",
       "      <th>Android Ver</th>\n",
       "    </tr>\n",
       "  </thead>\n",
       "  <tbody>\n",
       "    <tr>\n",
       "      <th>2959</th>\n",
       "      <td>ESPN</td>\n",
       "      <td>SPORTS</td>\n",
       "      <td>4.20</td>\n",
       "      <td>521138</td>\n",
       "      <td>24339012.86</td>\n",
       "      <td>10,000,000+</td>\n",
       "      <td>Free</td>\n",
       "      <td>0.00</td>\n",
       "      <td>Everyone 10+</td>\n",
       "      <td>Sports</td>\n",
       "      <td>July 19, 2018</td>\n",
       "      <td>Varies with device</td>\n",
       "      <td>5.0 and up</td>\n",
       "    </tr>\n",
       "    <tr>\n",
       "      <th>3010</th>\n",
       "      <td>ESPN</td>\n",
       "      <td>SPORTS</td>\n",
       "      <td>4.20</td>\n",
       "      <td>521138</td>\n",
       "      <td>24339012.86</td>\n",
       "      <td>10,000,000+</td>\n",
       "      <td>Free</td>\n",
       "      <td>0.00</td>\n",
       "      <td>Everyone 10+</td>\n",
       "      <td>Sports</td>\n",
       "      <td>July 19, 2018</td>\n",
       "      <td>Varies with device</td>\n",
       "      <td>5.0 and up</td>\n",
       "    </tr>\n",
       "    <tr>\n",
       "      <th>3018</th>\n",
       "      <td>ESPN</td>\n",
       "      <td>SPORTS</td>\n",
       "      <td>4.20</td>\n",
       "      <td>521138</td>\n",
       "      <td>24339012.86</td>\n",
       "      <td>10,000,000+</td>\n",
       "      <td>Free</td>\n",
       "      <td>0.00</td>\n",
       "      <td>Everyone 10+</td>\n",
       "      <td>Sports</td>\n",
       "      <td>July 19, 2018</td>\n",
       "      <td>Varies with device</td>\n",
       "      <td>5.0 and up</td>\n",
       "    </tr>\n",
       "    <tr>\n",
       "      <th>3048</th>\n",
       "      <td>ESPN</td>\n",
       "      <td>SPORTS</td>\n",
       "      <td>4.20</td>\n",
       "      <td>521140</td>\n",
       "      <td>24339012.86</td>\n",
       "      <td>10,000,000+</td>\n",
       "      <td>Free</td>\n",
       "      <td>0.00</td>\n",
       "      <td>Everyone 10+</td>\n",
       "      <td>Sports</td>\n",
       "      <td>July 19, 2018</td>\n",
       "      <td>Varies with device</td>\n",
       "      <td>5.0 and up</td>\n",
       "    </tr>\n",
       "    <tr>\n",
       "      <th>3060</th>\n",
       "      <td>ESPN</td>\n",
       "      <td>SPORTS</td>\n",
       "      <td>4.20</td>\n",
       "      <td>521140</td>\n",
       "      <td>24339012.86</td>\n",
       "      <td>10,000,000+</td>\n",
       "      <td>Free</td>\n",
       "      <td>0.00</td>\n",
       "      <td>Everyone 10+</td>\n",
       "      <td>Sports</td>\n",
       "      <td>July 19, 2018</td>\n",
       "      <td>Varies with device</td>\n",
       "      <td>5.0 and up</td>\n",
       "    </tr>\n",
       "    <tr>\n",
       "      <th>3072</th>\n",
       "      <td>ESPN</td>\n",
       "      <td>SPORTS</td>\n",
       "      <td>4.20</td>\n",
       "      <td>521140</td>\n",
       "      <td>24339012.86</td>\n",
       "      <td>10,000,000+</td>\n",
       "      <td>Free</td>\n",
       "      <td>0.00</td>\n",
       "      <td>Everyone 10+</td>\n",
       "      <td>Sports</td>\n",
       "      <td>July 19, 2018</td>\n",
       "      <td>Varies with device</td>\n",
       "      <td>5.0 and up</td>\n",
       "    </tr>\n",
       "    <tr>\n",
       "      <th>4069</th>\n",
       "      <td>ESPN</td>\n",
       "      <td>SPORTS</td>\n",
       "      <td>4.20</td>\n",
       "      <td>521081</td>\n",
       "      <td>24339012.86</td>\n",
       "      <td>10,000,000+</td>\n",
       "      <td>Free</td>\n",
       "      <td>0.00</td>\n",
       "      <td>Everyone 10+</td>\n",
       "      <td>Sports</td>\n",
       "      <td>July 19, 2018</td>\n",
       "      <td>Varies with device</td>\n",
       "      <td>5.0 and up</td>\n",
       "    </tr>\n",
       "  </tbody>\n",
       "</table>\n",
       "</div>"
      ],
      "text/plain": [
       "       App Category Rating Reviews        Size     Installs  Type  Price  \\\n",
       "2959  ESPN   SPORTS   4.20  521138 24339012.86  10,000,000+  Free   0.00   \n",
       "3010  ESPN   SPORTS   4.20  521138 24339012.86  10,000,000+  Free   0.00   \n",
       "3018  ESPN   SPORTS   4.20  521138 24339012.86  10,000,000+  Free   0.00   \n",
       "3048  ESPN   SPORTS   4.20  521140 24339012.86  10,000,000+  Free   0.00   \n",
       "3060  ESPN   SPORTS   4.20  521140 24339012.86  10,000,000+  Free   0.00   \n",
       "3072  ESPN   SPORTS   4.20  521140 24339012.86  10,000,000+  Free   0.00   \n",
       "4069  ESPN   SPORTS   4.20  521081 24339012.86  10,000,000+  Free   0.00   \n",
       "\n",
       "     Content Rating  Genres   Last Updated         Current Ver Android Ver  \n",
       "2959   Everyone 10+  Sports  July 19, 2018  Varies with device  5.0 and up  \n",
       "3010   Everyone 10+  Sports  July 19, 2018  Varies with device  5.0 and up  \n",
       "3018   Everyone 10+  Sports  July 19, 2018  Varies with device  5.0 and up  \n",
       "3048   Everyone 10+  Sports  July 19, 2018  Varies with device  5.0 and up  \n",
       "3060   Everyone 10+  Sports  July 19, 2018  Varies with device  5.0 and up  \n",
       "3072   Everyone 10+  Sports  July 19, 2018  Varies with device  5.0 and up  \n",
       "4069   Everyone 10+  Sports  July 19, 2018  Varies with device  5.0 and up  "
      ]
     },
     "execution_count": 19,
     "metadata": {},
     "output_type": "execute_result"
    }
   ],
   "source": [
    "df_appinfo[df_appinfo.App == 'ESPN']"
   ]
  },
  {
   "cell_type": "markdown",
   "metadata": {},
   "source": [
    "Example 2- Except Reviews and Category, almost all other columns are same. It indicates that the data for an app is retrieved multiple times (on different timestamp)."
   ]
  },
  {
   "cell_type": "code",
   "execution_count": 20,
   "metadata": {},
   "outputs": [
    {
     "data": {
      "text/html": [
       "<div>\n",
       "<style scoped>\n",
       "    .dataframe tbody tr th:only-of-type {\n",
       "        vertical-align: middle;\n",
       "    }\n",
       "\n",
       "    .dataframe tbody tr th {\n",
       "        vertical-align: top;\n",
       "    }\n",
       "\n",
       "    .dataframe thead th {\n",
       "        text-align: right;\n",
       "    }\n",
       "</style>\n",
       "<table border=\"1\" class=\"dataframe\">\n",
       "  <thead>\n",
       "    <tr style=\"text-align: right;\">\n",
       "      <th></th>\n",
       "      <th>App</th>\n",
       "      <th>Category</th>\n",
       "      <th>Rating</th>\n",
       "      <th>Reviews</th>\n",
       "      <th>Size</th>\n",
       "      <th>Installs</th>\n",
       "      <th>Type</th>\n",
       "      <th>Price</th>\n",
       "      <th>Content Rating</th>\n",
       "      <th>Genres</th>\n",
       "      <th>Last Updated</th>\n",
       "      <th>Current Ver</th>\n",
       "      <th>Android Ver</th>\n",
       "    </tr>\n",
       "  </thead>\n",
       "  <tbody>\n",
       "    <tr>\n",
       "      <th>1653</th>\n",
       "      <td>ROBLOX</td>\n",
       "      <td>GAME</td>\n",
       "      <td>4.50</td>\n",
       "      <td>4447388</td>\n",
       "      <td>67000000.00</td>\n",
       "      <td>100,000,000+</td>\n",
       "      <td>Free</td>\n",
       "      <td>0.00</td>\n",
       "      <td>Everyone 10+</td>\n",
       "      <td>Adventure;Action &amp; Adventure</td>\n",
       "      <td>July 31, 2018</td>\n",
       "      <td>2.347.225742</td>\n",
       "      <td>4.1 and up</td>\n",
       "    </tr>\n",
       "    <tr>\n",
       "      <th>1701</th>\n",
       "      <td>ROBLOX</td>\n",
       "      <td>GAME</td>\n",
       "      <td>4.50</td>\n",
       "      <td>4447346</td>\n",
       "      <td>67000000.00</td>\n",
       "      <td>100,000,000+</td>\n",
       "      <td>Free</td>\n",
       "      <td>0.00</td>\n",
       "      <td>Everyone 10+</td>\n",
       "      <td>Adventure;Action &amp; Adventure</td>\n",
       "      <td>July 31, 2018</td>\n",
       "      <td>2.347.225742</td>\n",
       "      <td>4.1 and up</td>\n",
       "    </tr>\n",
       "    <tr>\n",
       "      <th>1748</th>\n",
       "      <td>ROBLOX</td>\n",
       "      <td>GAME</td>\n",
       "      <td>4.50</td>\n",
       "      <td>4448791</td>\n",
       "      <td>67000000.00</td>\n",
       "      <td>100,000,000+</td>\n",
       "      <td>Free</td>\n",
       "      <td>0.00</td>\n",
       "      <td>Everyone 10+</td>\n",
       "      <td>Adventure;Action &amp; Adventure</td>\n",
       "      <td>July 31, 2018</td>\n",
       "      <td>2.347.225742</td>\n",
       "      <td>4.1 and up</td>\n",
       "    </tr>\n",
       "    <tr>\n",
       "      <th>1841</th>\n",
       "      <td>ROBLOX</td>\n",
       "      <td>GAME</td>\n",
       "      <td>4.50</td>\n",
       "      <td>4449882</td>\n",
       "      <td>67000000.00</td>\n",
       "      <td>100,000,000+</td>\n",
       "      <td>Free</td>\n",
       "      <td>0.00</td>\n",
       "      <td>Everyone 10+</td>\n",
       "      <td>Adventure;Action &amp; Adventure</td>\n",
       "      <td>July 31, 2018</td>\n",
       "      <td>2.347.225742</td>\n",
       "      <td>4.1 and up</td>\n",
       "    </tr>\n",
       "    <tr>\n",
       "      <th>1870</th>\n",
       "      <td>ROBLOX</td>\n",
       "      <td>GAME</td>\n",
       "      <td>4.50</td>\n",
       "      <td>4449910</td>\n",
       "      <td>67000000.00</td>\n",
       "      <td>100,000,000+</td>\n",
       "      <td>Free</td>\n",
       "      <td>0.00</td>\n",
       "      <td>Everyone 10+</td>\n",
       "      <td>Adventure;Action &amp; Adventure</td>\n",
       "      <td>July 31, 2018</td>\n",
       "      <td>2.347.225742</td>\n",
       "      <td>4.1 and up</td>\n",
       "    </tr>\n",
       "    <tr>\n",
       "      <th>2016</th>\n",
       "      <td>ROBLOX</td>\n",
       "      <td>FAMILY</td>\n",
       "      <td>4.50</td>\n",
       "      <td>4449910</td>\n",
       "      <td>67000000.00</td>\n",
       "      <td>100,000,000+</td>\n",
       "      <td>Free</td>\n",
       "      <td>0.00</td>\n",
       "      <td>Everyone 10+</td>\n",
       "      <td>Adventure;Action &amp; Adventure</td>\n",
       "      <td>July 31, 2018</td>\n",
       "      <td>2.347.225742</td>\n",
       "      <td>4.1 and up</td>\n",
       "    </tr>\n",
       "    <tr>\n",
       "      <th>2088</th>\n",
       "      <td>ROBLOX</td>\n",
       "      <td>FAMILY</td>\n",
       "      <td>4.50</td>\n",
       "      <td>4450855</td>\n",
       "      <td>67000000.00</td>\n",
       "      <td>100,000,000+</td>\n",
       "      <td>Free</td>\n",
       "      <td>0.00</td>\n",
       "      <td>Everyone 10+</td>\n",
       "      <td>Adventure;Action &amp; Adventure</td>\n",
       "      <td>July 31, 2018</td>\n",
       "      <td>2.347.225742</td>\n",
       "      <td>4.1 and up</td>\n",
       "    </tr>\n",
       "    <tr>\n",
       "      <th>2206</th>\n",
       "      <td>ROBLOX</td>\n",
       "      <td>FAMILY</td>\n",
       "      <td>4.50</td>\n",
       "      <td>4450890</td>\n",
       "      <td>67000000.00</td>\n",
       "      <td>100,000,000+</td>\n",
       "      <td>Free</td>\n",
       "      <td>0.00</td>\n",
       "      <td>Everyone 10+</td>\n",
       "      <td>Adventure;Action &amp; Adventure</td>\n",
       "      <td>July 31, 2018</td>\n",
       "      <td>2.347.225742</td>\n",
       "      <td>4.1 and up</td>\n",
       "    </tr>\n",
       "    <tr>\n",
       "      <th>4527</th>\n",
       "      <td>ROBLOX</td>\n",
       "      <td>FAMILY</td>\n",
       "      <td>4.50</td>\n",
       "      <td>4443407</td>\n",
       "      <td>67000000.00</td>\n",
       "      <td>100,000,000+</td>\n",
       "      <td>Free</td>\n",
       "      <td>0.00</td>\n",
       "      <td>Everyone 10+</td>\n",
       "      <td>Adventure;Action &amp; Adventure</td>\n",
       "      <td>July 31, 2018</td>\n",
       "      <td>2.347.225742</td>\n",
       "      <td>4.1 and up</td>\n",
       "    </tr>\n",
       "  </tbody>\n",
       "</table>\n",
       "</div>"
      ],
      "text/plain": [
       "         App Category Rating  Reviews        Size      Installs  Type  Price  \\\n",
       "1653  ROBLOX     GAME   4.50  4447388 67000000.00  100,000,000+  Free   0.00   \n",
       "1701  ROBLOX     GAME   4.50  4447346 67000000.00  100,000,000+  Free   0.00   \n",
       "1748  ROBLOX     GAME   4.50  4448791 67000000.00  100,000,000+  Free   0.00   \n",
       "1841  ROBLOX     GAME   4.50  4449882 67000000.00  100,000,000+  Free   0.00   \n",
       "1870  ROBLOX     GAME   4.50  4449910 67000000.00  100,000,000+  Free   0.00   \n",
       "2016  ROBLOX   FAMILY   4.50  4449910 67000000.00  100,000,000+  Free   0.00   \n",
       "2088  ROBLOX   FAMILY   4.50  4450855 67000000.00  100,000,000+  Free   0.00   \n",
       "2206  ROBLOX   FAMILY   4.50  4450890 67000000.00  100,000,000+  Free   0.00   \n",
       "4527  ROBLOX   FAMILY   4.50  4443407 67000000.00  100,000,000+  Free   0.00   \n",
       "\n",
       "     Content Rating                        Genres   Last Updated  \\\n",
       "1653   Everyone 10+  Adventure;Action & Adventure  July 31, 2018   \n",
       "1701   Everyone 10+  Adventure;Action & Adventure  July 31, 2018   \n",
       "1748   Everyone 10+  Adventure;Action & Adventure  July 31, 2018   \n",
       "1841   Everyone 10+  Adventure;Action & Adventure  July 31, 2018   \n",
       "1870   Everyone 10+  Adventure;Action & Adventure  July 31, 2018   \n",
       "2016   Everyone 10+  Adventure;Action & Adventure  July 31, 2018   \n",
       "2088   Everyone 10+  Adventure;Action & Adventure  July 31, 2018   \n",
       "2206   Everyone 10+  Adventure;Action & Adventure  July 31, 2018   \n",
       "4527   Everyone 10+  Adventure;Action & Adventure  July 31, 2018   \n",
       "\n",
       "       Current Ver Android Ver  \n",
       "1653  2.347.225742  4.1 and up  \n",
       "1701  2.347.225742  4.1 and up  \n",
       "1748  2.347.225742  4.1 and up  \n",
       "1841  2.347.225742  4.1 and up  \n",
       "1870  2.347.225742  4.1 and up  \n",
       "2016  2.347.225742  4.1 and up  \n",
       "2088  2.347.225742  4.1 and up  \n",
       "2206  2.347.225742  4.1 and up  \n",
       "4527  2.347.225742  4.1 and up  "
      ]
     },
     "execution_count": 20,
     "metadata": {},
     "output_type": "execute_result"
    }
   ],
   "source": [
    "df_appinfo[df_appinfo.App == 'ROBLOX']"
   ]
  },
  {
   "cell_type": "markdown",
   "metadata": {},
   "source": [
    "There are multiple records for certain Apps. Keep only minimum reviews record for each app. Why? Reason is disussed above."
   ]
  },
  {
   "cell_type": "code",
   "execution_count": 21,
   "metadata": {},
   "outputs": [],
   "source": [
    "df_appinfo['Min_Reviews'] = df_appinfo.groupby('App')['Reviews'].transform(min)\n",
    "df_appinfo = df_appinfo[df_appinfo.Reviews == df_appinfo.Min_Reviews]"
   ]
  },
  {
   "cell_type": "markdown",
   "metadata": {},
   "source": [
    "Drop Duplicate Records."
   ]
  },
  {
   "cell_type": "code",
   "execution_count": 22,
   "metadata": {},
   "outputs": [
    {
     "name": "stdout",
     "output_type": "stream",
     "text": [
      "Before Droping\n"
     ]
    },
    {
     "data": {
      "text/plain": [
       "(10051, 14)"
      ]
     },
     "execution_count": 22,
     "metadata": {},
     "output_type": "execute_result"
    },
    {
     "name": "stdout",
     "output_type": "stream",
     "text": [
      "After Droping\n"
     ]
    },
    {
     "data": {
      "text/plain": [
       "(9667, 14)"
      ]
     },
     "execution_count": 22,
     "metadata": {},
     "output_type": "execute_result"
    }
   ],
   "source": [
    "print('Before Droping')\n",
    "df_appinfo.shape\n",
    "df_appinfo.drop_duplicates(inplace=True)\n",
    "\n",
    "print('After Droping')\n",
    "df_appinfo.shape"
   ]
  },
  {
   "cell_type": "markdown",
   "metadata": {},
   "source": [
    "<b>Installs"
   ]
  },
  {
   "cell_type": "code",
   "execution_count": 23,
   "metadata": {},
   "outputs": [
    {
     "data": {
      "text/plain": [
       "0        10,000+\n",
       "1       500,000+\n",
       "2     5,000,000+\n",
       "3    50,000,000+\n",
       "4       100,000+\n",
       "Name: Installs, dtype: object"
      ]
     },
     "execution_count": 23,
     "metadata": {},
     "output_type": "execute_result"
    }
   ],
   "source": [
    "df_appinfo['Installs'].head()"
   ]
  },
  {
   "cell_type": "markdown",
   "metadata": {},
   "source": [
    "Installs - Remove non numeric values like '+' and ','."
   ]
  },
  {
   "cell_type": "code",
   "execution_count": 24,
   "metadata": {},
   "outputs": [],
   "source": [
    "remove_values = ['+', ',']\n",
    "def removePuncStr(s):\n",
    "    for c in remove_values:\n",
    "        s = s.replace(c,\"\")\n",
    "    return s"
   ]
  },
  {
   "cell_type": "code",
   "execution_count": 25,
   "metadata": {},
   "outputs": [
    {
     "data": {
      "text/plain": [
       "0       10000\n",
       "1      500000\n",
       "2     5000000\n",
       "3    50000000\n",
       "4      100000\n",
       "Name: Installs, dtype: int64"
      ]
     },
     "execution_count": 25,
     "metadata": {},
     "output_type": "execute_result"
    }
   ],
   "source": [
    "df_appinfo['Installs'] = df_appinfo.Installs.apply(lambda a: int(removePuncStr(a)))\n",
    "df_appinfo['Installs'].head()"
   ]
  },
  {
   "cell_type": "markdown",
   "metadata": {},
   "source": [
    "Check for NA in the data."
   ]
  },
  {
   "cell_type": "code",
   "execution_count": 26,
   "metadata": {},
   "outputs": [
    {
     "data": {
      "text/plain": [
       "App                  0\n",
       "Category             0\n",
       "Rating            1464\n",
       "Reviews              0\n",
       "Size                 0\n",
       "Installs             0\n",
       "Type                 1\n",
       "Price                0\n",
       "Content Rating       0\n",
       "Genres               1\n",
       "Last Updated         0\n",
       "Current Ver          8\n",
       "Android Ver          2\n",
       "Min_Reviews          0\n",
       "dtype: int64"
      ]
     },
     "execution_count": 26,
     "metadata": {},
     "output_type": "execute_result"
    }
   ],
   "source": [
    "df_appinfo.isna().sum()"
   ]
  },
  {
   "cell_type": "code",
   "execution_count": 27,
   "metadata": {},
   "outputs": [],
   "source": [
    "df_appinfo.Rating = df_appinfo.Rating.astype('float64')"
   ]
  },
  {
   "cell_type": "code",
   "execution_count": 28,
   "metadata": {},
   "outputs": [],
   "source": [
    "dict_category_wise_mean_rating = df_appinfo.groupby('Category')['Rating'].mean()\n",
    "df_appinfo.loc[(df_appinfo.Rating.isna()),'Rating'] = df_appinfo.loc[(df_appinfo.Rating.isna())]['Category'].apply(lambda a: dict_category_wise_mean_rating.get(a,np.NaN))"
   ]
  },
  {
   "cell_type": "code",
   "execution_count": 29,
   "metadata": {},
   "outputs": [
    {
     "data": {
      "text/plain": [
       "App               0\n",
       "Category          0\n",
       "Rating            0\n",
       "Reviews           0\n",
       "Size              0\n",
       "Installs          0\n",
       "Type              1\n",
       "Price             0\n",
       "Content Rating    0\n",
       "Genres            1\n",
       "Last Updated      0\n",
       "Current Ver       8\n",
       "Android Ver       2\n",
       "Min_Reviews       0\n",
       "dtype: int64"
      ]
     },
     "execution_count": 29,
     "metadata": {},
     "output_type": "execute_result"
    }
   ],
   "source": [
    "df_appinfo.isna().sum()"
   ]
  },
  {
   "cell_type": "code",
   "execution_count": 30,
   "metadata": {},
   "outputs": [],
   "source": [
    "df_appinfo.Reviews = df_appinfo.Reviews.astype('int64')"
   ]
  },
  {
   "cell_type": "code",
   "execution_count": 31,
   "metadata": {},
   "outputs": [
    {
     "data": {
      "text/html": [
       "<div>\n",
       "<style scoped>\n",
       "    .dataframe tbody tr th:only-of-type {\n",
       "        vertical-align: middle;\n",
       "    }\n",
       "\n",
       "    .dataframe tbody tr th {\n",
       "        vertical-align: top;\n",
       "    }\n",
       "\n",
       "    .dataframe thead th {\n",
       "        text-align: right;\n",
       "    }\n",
       "</style>\n",
       "<table border=\"1\" class=\"dataframe\">\n",
       "  <thead>\n",
       "    <tr style=\"text-align: right;\">\n",
       "      <th></th>\n",
       "      <th>Rating</th>\n",
       "      <th>Reviews</th>\n",
       "      <th>Size</th>\n",
       "      <th>Installs</th>\n",
       "      <th>Price</th>\n",
       "    </tr>\n",
       "  </thead>\n",
       "  <tbody>\n",
       "    <tr>\n",
       "      <th>count</th>\n",
       "      <td>9667.00</td>\n",
       "      <td>9667.00</td>\n",
       "      <td>9667.00</td>\n",
       "      <td>9667.00</td>\n",
       "      <td>9667.00</td>\n",
       "    </tr>\n",
       "    <tr>\n",
       "      <th>mean</th>\n",
       "      <td>4.17</td>\n",
       "      <td>216519.24</td>\n",
       "      <td>20246784.18</td>\n",
       "      <td>7789339.96</td>\n",
       "      <td>1.10</td>\n",
       "    </tr>\n",
       "    <tr>\n",
       "      <th>std</th>\n",
       "      <td>0.50</td>\n",
       "      <td>1829953.35</td>\n",
       "      <td>20628176.16</td>\n",
       "      <td>53746146.03</td>\n",
       "      <td>16.84</td>\n",
       "    </tr>\n",
       "    <tr>\n",
       "      <th>min</th>\n",
       "      <td>1.00</td>\n",
       "      <td>0.00</td>\n",
       "      <td>8500.00</td>\n",
       "      <td>0.00</td>\n",
       "      <td>0.00</td>\n",
       "    </tr>\n",
       "    <tr>\n",
       "      <th>25%</th>\n",
       "      <td>4.00</td>\n",
       "      <td>25.00</td>\n",
       "      <td>5300000.00</td>\n",
       "      <td>1000.00</td>\n",
       "      <td>0.00</td>\n",
       "    </tr>\n",
       "    <tr>\n",
       "      <th>50%</th>\n",
       "      <td>4.20</td>\n",
       "      <td>969.00</td>\n",
       "      <td>13124245.61</td>\n",
       "      <td>100000.00</td>\n",
       "      <td>0.00</td>\n",
       "    </tr>\n",
       "    <tr>\n",
       "      <th>75%</th>\n",
       "      <td>4.50</td>\n",
       "      <td>29473.50</td>\n",
       "      <td>27000000.00</td>\n",
       "      <td>1000000.00</td>\n",
       "      <td>0.00</td>\n",
       "    </tr>\n",
       "    <tr>\n",
       "      <th>max</th>\n",
       "      <td>5.00</td>\n",
       "      <td>78128208.00</td>\n",
       "      <td>100000000.00</td>\n",
       "      <td>1000000000.00</td>\n",
       "      <td>400.00</td>\n",
       "    </tr>\n",
       "  </tbody>\n",
       "</table>\n",
       "</div>"
      ],
      "text/plain": [
       "       Rating     Reviews         Size      Installs   Price\n",
       "count 9667.00     9667.00      9667.00       9667.00 9667.00\n",
       "mean     4.17   216519.24  20246784.18    7789339.96    1.10\n",
       "std      0.50  1829953.35  20628176.16   53746146.03   16.84\n",
       "min      1.00        0.00      8500.00          0.00    0.00\n",
       "25%      4.00       25.00   5300000.00       1000.00    0.00\n",
       "50%      4.20      969.00  13124245.61     100000.00    0.00\n",
       "75%      4.50    29473.50  27000000.00    1000000.00    0.00\n",
       "max      5.00 78128208.00 100000000.00 1000000000.00  400.00"
      ]
     },
     "execution_count": 31,
     "metadata": {},
     "output_type": "execute_result"
    }
   ],
   "source": [
    "df_appinfo.describe()"
   ]
  },
  {
   "cell_type": "code",
   "execution_count": 32,
   "metadata": {},
   "outputs": [
    {
     "data": {
      "text/plain": [
       "App                object\n",
       "Category           object\n",
       "Rating            float64\n",
       "Reviews             int64\n",
       "Size              float64\n",
       "Installs            int64\n",
       "Type               object\n",
       "Price             float64\n",
       "Content Rating     object\n",
       "Genres             object\n",
       "Last Updated       object\n",
       "Current Ver        object\n",
       "Android Ver        object\n",
       "Min_Reviews        object\n",
       "dtype: object"
      ]
     },
     "execution_count": 32,
     "metadata": {},
     "output_type": "execute_result"
    }
   ],
   "source": [
    "df_appinfo.dtypes"
   ]
  },
  {
   "cell_type": "markdown",
   "metadata": {},
   "source": [
    "<b>Number of Applications by Categories."
   ]
  },
  {
   "cell_type": "code",
   "execution_count": 33,
   "metadata": {},
   "outputs": [
    {
     "data": {
      "text/plain": [
       "Text(0.5,0,'Categories')"
      ]
     },
     "execution_count": 33,
     "metadata": {},
     "output_type": "execute_result"
    },
    {
     "data": {
      "text/plain": [
       "Text(0,0.5,'Number of Applications')"
      ]
     },
     "execution_count": 33,
     "metadata": {},
     "output_type": "execute_result"
    },
    {
     "data": {
      "text/plain": [
       "Text(0.5,1,'Number of applications by categories')"
      ]
     },
     "execution_count": 33,
     "metadata": {},
     "output_type": "execute_result"
    },
    {
     "data": {
      "text/plain": [
       "<matplotlib.axes._subplots.AxesSubplot at 0x232bbecec18>"
      ]
     },
     "execution_count": 33,
     "metadata": {},
     "output_type": "execute_result"
    },
    {
     "data": {
      "image/png": "[encoded data removed]",
      "text/plain": [
       "<Figure size 576x576 with 1 Axes>"
      ]
     },
     "metadata": {},
     "output_type": "display_data"
    }
   ],
   "source": [
    "fig = plt.figure(figsize=(8,8))\n",
    "ax= fig.gca()\n",
    "ax.set_xlabel('Categories')\n",
    "ax.set_ylabel('Number of Applications')\n",
    "ax.set_title('Number of applications by categories')\n",
    "df_appinfo.Category.value_counts().plot.bar(ax=ax)"
   ]
  },
  {
   "cell_type": "markdown",
   "metadata": {},
   "source": [
    "Out of 9660 applications, 1972 (~20%) of the application are from Family Category.<br>\n",
    "\n",
    "<b>Most of the Ratings are between 4 nd 4.5."
   ]
  },
  {
   "cell_type": "code",
   "execution_count": 34,
   "metadata": {},
   "outputs": [
    {
     "data": {
      "text/plain": [
       "<matplotlib.axes._subplots.AxesSubplot at 0x232bb858710>"
      ]
     },
     "execution_count": 34,
     "metadata": {},
     "output_type": "execute_result"
    },
    {
     "data": {
      "image/png": "[encoded data removed]",
      "text/plain": [
       "<Figure size 432x288 with 1 Axes>"
      ]
     },
     "metadata": {},
     "output_type": "display_data"
    }
   ],
   "source": [
    "sns.distplot(df_appinfo.Rating)"
   ]
  },
  {
   "cell_type": "code",
   "execution_count": 35,
   "metadata": {},
   "outputs": [
    {
     "data": {
      "text/plain": [
       "<matplotlib.axes._subplots.AxesSubplot at 0x232bc3e20b8>"
      ]
     },
     "execution_count": 35,
     "metadata": {},
     "output_type": "execute_result"
    },
    {
     "data": {
      "text/plain": [
       "Text(0.5,1,'Box plots of auto engine size by fule type')"
      ]
     },
     "execution_count": 35,
     "metadata": {},
     "output_type": "execute_result"
    },
    {
     "data": {
      "text/plain": [
       "Text(0.5,0,'Category')"
      ]
     },
     "execution_count": 35,
     "metadata": {},
     "output_type": "execute_result"
    },
    {
     "data": {
      "text/plain": [
       "Text(0,0.5,'Rating')"
      ]
     },
     "execution_count": 35,
     "metadata": {},
     "output_type": "execute_result"
    },
    {
     "data": {
      "image/png": "[encoded data removed]",
      "text/plain": [
       "<Figure size 720x720 with 1 Axes>"
      ]
     },
     "metadata": {},
     "output_type": "display_data"
    }
   ],
   "source": [
    "fig = plt.figure(figsize=(10,10)) # define plot area\n",
    "ax = fig.gca() # define axis    \n",
    "df_appinfo[['Category','Rating']].boxplot(by = 'Category', ax = ax, rot=90) # Use the plot.bar method on the new data frame\n",
    "ax.set_title('Box plots of auto engine size by fule type') # Give the plot a main title\n",
    "ax.set_xlabel('Category') # Set text for the x axis\n",
    "ax.set_ylabel('Rating')# Set text for y axis"
   ]
  },
  {
   "cell_type": "markdown",
   "metadata": {},
   "source": [
    "Dating (categories) apps gets average lowest ratings by the users i.e. avrage 4.0. <br>\n",
    "Comics, Events and Arts & Designs (Categories) Apps gets avrage highest ratings.<br>\n",
    "\n",
    "<b> Which type of applications are in the dataset."
   ]
  },
  {
   "cell_type": "code",
   "execution_count": 36,
   "metadata": {},
   "outputs": [
    {
     "data": {
      "text/plain": [
       "Text(0.5,0,'Type')"
      ]
     },
     "execution_count": 36,
     "metadata": {},
     "output_type": "execute_result"
    },
    {
     "data": {
      "text/plain": [
       "Text(0,0.5,'Number of Applications')"
      ]
     },
     "execution_count": 36,
     "metadata": {},
     "output_type": "execute_result"
    },
    {
     "data": {
      "text/plain": [
       "Text(0.5,1,'Number of applications by Types')"
      ]
     },
     "execution_count": 36,
     "metadata": {},
     "output_type": "execute_result"
    },
    {
     "data": {
      "text/plain": [
       "<matplotlib.axes._subplots.AxesSubplot at 0x232bcd4ed68>"
      ]
     },
     "execution_count": 36,
     "metadata": {},
     "output_type": "execute_result"
    },
    {
     "data": {
      "image/png": "[encoded data removed]",
      "text/plain": [
       "<Figure size 576x576 with 1 Axes>"
      ]
     },
     "metadata": {},
     "output_type": "display_data"
    }
   ],
   "source": [
    "fig = plt.figure(figsize=(8,8))\n",
    "ax= fig.gca()\n",
    "ax.set_xlabel('Type')\n",
    "ax.set_ylabel('Number of Applications')\n",
    "ax.set_title('Number of applications by Types')\n",
    "df_appinfo.Type.value_counts().plot.bar(ax=ax)"
   ]
  },
  {
   "cell_type": "markdown",
   "metadata": {},
   "source": [
    "The majority of the applocations are Free Apps.<br>\n",
    "\n",
    "<b> What Category of Apps are Installed the most/least?"
   ]
  },
  {
   "cell_type": "code",
   "execution_count": 37,
   "metadata": {},
   "outputs": [
    {
     "data": {
      "text/plain": [
       "Text(0.5,0,'Installs')"
      ]
     },
     "execution_count": 37,
     "metadata": {},
     "output_type": "execute_result"
    },
    {
     "data": {
      "text/plain": [
       "Text(0,0.5,'Number of Installs')"
      ]
     },
     "execution_count": 37,
     "metadata": {},
     "output_type": "execute_result"
    },
    {
     "data": {
      "text/plain": [
       "Text(0.5,1,'Number of Installs by Category')"
      ]
     },
     "execution_count": 37,
     "metadata": {},
     "output_type": "execute_result"
    },
    {
     "data": {
      "text/plain": [
       "<matplotlib.axes._subplots.AxesSubplot at 0x232bcd8a588>"
      ]
     },
     "execution_count": 37,
     "metadata": {},
     "output_type": "execute_result"
    },
    {
     "data": {
      "image/png": "[encoded data removed]",
      "text/plain": [
       "<Figure size 576x576 with 1 Axes>"
      ]
     },
     "metadata": {},
     "output_type": "display_data"
    }
   ],
   "source": [
    "fig = plt.figure(figsize=(8,8))\n",
    "ax= fig.gca()\n",
    "ax.set_xlabel('Installs')\n",
    "ax.set_ylabel('Number of Installs')\n",
    "ax.set_title('Number of Installs by Category')\n",
    "df_appinfo.groupby('Category').Installs.sum().sort_values(ascending=False).plot.bar(ax=ax)"
   ]
  },
  {
   "cell_type": "markdown",
   "metadata": {},
   "source": [
    "Game and Communication Apps are Installed most. Events and Beauty apps are installed least. If the number of applications in the category is high then the number of installs in that vategory is also high. Instead of sum let's check for average install in each category. <br>\n",
    "<b> Average Installation by Category."
   ]
  },
  {
   "cell_type": "code",
   "execution_count": 38,
   "metadata": {},
   "outputs": [],
   "source": [
    "#df_appinfo['Num_of_Apps_in_Category'] = df_appinfo.groupby('Category').App.transform('count')"
   ]
  },
  {
   "cell_type": "code",
   "execution_count": 39,
   "metadata": {},
   "outputs": [
    {
     "data": {
      "text/plain": [
       "Text(0.5,0,'Installs')"
      ]
     },
     "execution_count": 39,
     "metadata": {},
     "output_type": "execute_result"
    },
    {
     "data": {
      "text/plain": [
       "Text(0,0.5,'Average Number of Installs')"
      ]
     },
     "execution_count": 39,
     "metadata": {},
     "output_type": "execute_result"
    },
    {
     "data": {
      "text/plain": [
       "Text(0.5,1,'Average Number of Installs by Category')"
      ]
     },
     "execution_count": 39,
     "metadata": {},
     "output_type": "execute_result"
    },
    {
     "data": {
      "text/plain": [
       "<matplotlib.axes._subplots.AxesSubplot at 0x232bcd4ee48>"
      ]
     },
     "execution_count": 39,
     "metadata": {},
     "output_type": "execute_result"
    },
    {
     "data": {
      "image/png": "[encoded data removed]",
      "text/plain": [
       "<Figure size 576x576 with 1 Axes>"
      ]
     },
     "metadata": {},
     "output_type": "display_data"
    }
   ],
   "source": [
    "fig = plt.figure(figsize=(8,8))\n",
    "ax= fig.gca()\n",
    "ax.set_xlabel('Installs')\n",
    "ax.set_ylabel('Average Number of Installs')\n",
    "ax.set_title('Average Number of Installs by Category')\n",
    "df_appinfo.groupby('Category').Installs.mean().sort_values(ascending=False).plot.bar(ax=ax)"
   ]
  },
  {
   "cell_type": "markdown",
   "metadata": {},
   "source": [
    "Communication and Video_Palyers categories have highest number of average installs. This means each apps in these categories have higher installations."
   ]
  },
  {
   "cell_type": "markdown",
   "metadata": {},
   "source": [
    "<b>Ratings of the top 10 applications which have the most installs."
   ]
  },
  {
   "cell_type": "code",
   "execution_count": 84,
   "metadata": {
    "scrolled": true
   },
   "outputs": [
    {
     "name": "stdout",
     "output_type": "stream",
     "text": [
      "Ratings of the top 10 applications which have the most installs\n"
     ]
    },
    {
     "data": {
      "text/html": [
       "<div>\n",
       "<style scoped>\n",
       "    .dataframe tbody tr th:only-of-type {\n",
       "        vertical-align: middle;\n",
       "    }\n",
       "\n",
       "    .dataframe tbody tr th {\n",
       "        vertical-align: top;\n",
       "    }\n",
       "\n",
       "    .dataframe thead th {\n",
       "        text-align: right;\n",
       "    }\n",
       "</style>\n",
       "<table border=\"1\" class=\"dataframe\">\n",
       "  <thead>\n",
       "    <tr style=\"text-align: right;\">\n",
       "      <th></th>\n",
       "      <th>App</th>\n",
       "      <th>Rating</th>\n",
       "      <th>Installs</th>\n",
       "    </tr>\n",
       "  </thead>\n",
       "  <tbody>\n",
       "    <tr>\n",
       "      <th>3896</th>\n",
       "      <td>Subway Surfers</td>\n",
       "      <td>4.50</td>\n",
       "      <td>1000000000</td>\n",
       "    </tr>\n",
       "    <tr>\n",
       "      <th>3909</th>\n",
       "      <td>Instagram</td>\n",
       "      <td>4.50</td>\n",
       "      <td>1000000000</td>\n",
       "    </tr>\n",
       "    <tr>\n",
       "      <th>5395</th>\n",
       "      <td>Google Photos</td>\n",
       "      <td>4.50</td>\n",
       "      <td>1000000000</td>\n",
       "    </tr>\n",
       "    <tr>\n",
       "      <th>3904</th>\n",
       "      <td>WhatsApp Messenger</td>\n",
       "      <td>4.40</td>\n",
       "      <td>1000000000</td>\n",
       "    </tr>\n",
       "    <tr>\n",
       "      <th>4150</th>\n",
       "      <td>Google</td>\n",
       "      <td>4.40</td>\n",
       "      <td>1000000000</td>\n",
       "    </tr>\n",
       "    <tr>\n",
       "      <th>4170</th>\n",
       "      <td>Google Drive</td>\n",
       "      <td>4.40</td>\n",
       "      <td>1000000000</td>\n",
       "    </tr>\n",
       "    <tr>\n",
       "      <th>340</th>\n",
       "      <td>Gmail</td>\n",
       "      <td>4.30</td>\n",
       "      <td>1000000000</td>\n",
       "    </tr>\n",
       "    <tr>\n",
       "      <th>865</th>\n",
       "      <td>Google Play Games</td>\n",
       "      <td>4.30</td>\n",
       "      <td>1000000000</td>\n",
       "    </tr>\n",
       "    <tr>\n",
       "      <th>3928</th>\n",
       "      <td>YouTube</td>\n",
       "      <td>4.30</td>\n",
       "      <td>1000000000</td>\n",
       "    </tr>\n",
       "    <tr>\n",
       "      <th>3996</th>\n",
       "      <td>Google Chrome: Fast &amp; Secure</td>\n",
       "      <td>4.30</td>\n",
       "      <td>1000000000</td>\n",
       "    </tr>\n",
       "  </tbody>\n",
       "</table>\n",
       "</div>"
      ],
      "text/plain": [
       "                               App  Rating    Installs\n",
       "3896                Subway Surfers    4.50  1000000000\n",
       "3909                     Instagram    4.50  1000000000\n",
       "5395                 Google Photos    4.50  1000000000\n",
       "3904            WhatsApp Messenger    4.40  1000000000\n",
       "4150                        Google    4.40  1000000000\n",
       "4170                  Google Drive    4.40  1000000000\n",
       "340                          Gmail    4.30  1000000000\n",
       "865              Google Play Games    4.30  1000000000\n",
       "3928                       YouTube    4.30  1000000000\n",
       "3996  Google Chrome: Fast & Secure    4.30  1000000000"
      ]
     },
     "execution_count": 84,
     "metadata": {},
     "output_type": "execute_result"
    }
   ],
   "source": [
    "print('Ratings of the top 10 applications which have the most installs')\n",
    "df_appinfo[['App','Rating','Installs']].sort_values(by = ['Installs','Rating'], ascending=False).head(10)"
   ]
  },
  {
   "cell_type": "markdown",
   "metadata": {},
   "source": [
    "# Data Exploration and Cleaning (App_Review dataset)"
   ]
  },
  {
   "cell_type": "code",
   "execution_count": 40,
   "metadata": {},
   "outputs": [
    {
     "name": "stdout",
     "output_type": "stream",
     "text": [
      "App_reviews (rows,col)\n"
     ]
    },
    {
     "data": {
      "text/plain": [
       "(64295, 5)"
      ]
     },
     "execution_count": 40,
     "metadata": {},
     "output_type": "execute_result"
    },
    {
     "name": "stdout",
     "output_type": "stream",
     "text": [
      "Number of unique Apps:\n"
     ]
    },
    {
     "data": {
      "text/plain": [
       "1074"
      ]
     },
     "execution_count": 40,
     "metadata": {},
     "output_type": "execute_result"
    }
   ],
   "source": [
    "print('App_reviews (rows,col)')\n",
    "df_appreviews.shape\n",
    "\n",
    "print('Number of unique Apps:')\n",
    "len(df_appreviews.groupby('App')['App'].count())"
   ]
  },
  {
   "cell_type": "markdown",
   "metadata": {},
   "source": [
    "Each record is a app review."
   ]
  },
  {
   "cell_type": "code",
   "execution_count": 41,
   "metadata": {
    "scrolled": true
   },
   "outputs": [
    {
     "data": {
      "text/html": [
       "<div>\n",
       "<style scoped>\n",
       "    .dataframe tbody tr th:only-of-type {\n",
       "        vertical-align: middle;\n",
       "    }\n",
       "\n",
       "    .dataframe tbody tr th {\n",
       "        vertical-align: top;\n",
       "    }\n",
       "\n",
       "    .dataframe thead th {\n",
       "        text-align: right;\n",
       "    }\n",
       "</style>\n",
       "<table border=\"1\" class=\"dataframe\">\n",
       "  <thead>\n",
       "    <tr style=\"text-align: right;\">\n",
       "      <th></th>\n",
       "      <th>App</th>\n",
       "      <th>Translated_Review</th>\n",
       "      <th>Sentiment</th>\n",
       "      <th>Sentiment_Polarity</th>\n",
       "      <th>Sentiment_Subjectivity</th>\n",
       "    </tr>\n",
       "  </thead>\n",
       "  <tbody>\n",
       "    <tr>\n",
       "      <th>0</th>\n",
       "      <td>10 Best Foods for You</td>\n",
       "      <td>I like eat delicious food. That's I'm cooking ...</td>\n",
       "      <td>Positive</td>\n",
       "      <td>1.00</td>\n",
       "      <td>0.53</td>\n",
       "    </tr>\n",
       "    <tr>\n",
       "      <th>1</th>\n",
       "      <td>10 Best Foods for You</td>\n",
       "      <td>This help eating healthy exercise regular basis</td>\n",
       "      <td>Positive</td>\n",
       "      <td>0.25</td>\n",
       "      <td>0.29</td>\n",
       "    </tr>\n",
       "    <tr>\n",
       "      <th>2</th>\n",
       "      <td>10 Best Foods for You</td>\n",
       "      <td>NaN</td>\n",
       "      <td>NaN</td>\n",
       "      <td>nan</td>\n",
       "      <td>nan</td>\n",
       "    </tr>\n",
       "    <tr>\n",
       "      <th>3</th>\n",
       "      <td>10 Best Foods for You</td>\n",
       "      <td>Works great especially going grocery store</td>\n",
       "      <td>Positive</td>\n",
       "      <td>0.40</td>\n",
       "      <td>0.88</td>\n",
       "    </tr>\n",
       "    <tr>\n",
       "      <th>4</th>\n",
       "      <td>10 Best Foods for You</td>\n",
       "      <td>Best idea us</td>\n",
       "      <td>Positive</td>\n",
       "      <td>1.00</td>\n",
       "      <td>0.30</td>\n",
       "    </tr>\n",
       "  </tbody>\n",
       "</table>\n",
       "</div>"
      ],
      "text/plain": [
       "                     App                                  Translated_Review  \\\n",
       "0  10 Best Foods for You  I like eat delicious food. That's I'm cooking ...   \n",
       "1  10 Best Foods for You    This help eating healthy exercise regular basis   \n",
       "2  10 Best Foods for You                                                NaN   \n",
       "3  10 Best Foods for You         Works great especially going grocery store   \n",
       "4  10 Best Foods for You                                       Best idea us   \n",
       "\n",
       "  Sentiment  Sentiment_Polarity  Sentiment_Subjectivity  \n",
       "0  Positive                1.00                    0.53  \n",
       "1  Positive                0.25                    0.29  \n",
       "2       NaN                 nan                     nan  \n",
       "3  Positive                0.40                    0.88  \n",
       "4  Positive                1.00                    0.30  "
      ]
     },
     "execution_count": 41,
     "metadata": {},
     "output_type": "execute_result"
    }
   ],
   "source": [
    "df_appreviews.head()"
   ]
  },
  {
   "cell_type": "code",
   "execution_count": 42,
   "metadata": {},
   "outputs": [
    {
     "data": {
      "text/plain": [
       "App                           0\n",
       "Translated_Review         26868\n",
       "Sentiment                 26863\n",
       "Sentiment_Polarity        26863\n",
       "Sentiment_Subjectivity    26863\n",
       "dtype: int64"
      ]
     },
     "execution_count": 42,
     "metadata": {},
     "output_type": "execute_result"
    }
   ],
   "source": [
    "df_appreviews.isna().sum()"
   ]
  },
  {
   "cell_type": "markdown",
   "metadata": {},
   "source": [
    "There are 5 records where Translated_Review is NaN but corresponding Sentiment, Sentiment_Polarity and Sentiment_Subjectiivety is specified."
   ]
  },
  {
   "cell_type": "code",
   "execution_count": 43,
   "metadata": {},
   "outputs": [
    {
     "data": {
      "text/html": [
       "<div>\n",
       "<style scoped>\n",
       "    .dataframe tbody tr th:only-of-type {\n",
       "        vertical-align: middle;\n",
       "    }\n",
       "\n",
       "    .dataframe tbody tr th {\n",
       "        vertical-align: top;\n",
       "    }\n",
       "\n",
       "    .dataframe thead th {\n",
       "        text-align: right;\n",
       "    }\n",
       "</style>\n",
       "<table border=\"1\" class=\"dataframe\">\n",
       "  <thead>\n",
       "    <tr style=\"text-align: right;\">\n",
       "      <th></th>\n",
       "      <th>App</th>\n",
       "      <th>Translated_Review</th>\n",
       "      <th>Sentiment</th>\n",
       "      <th>Sentiment_Polarity</th>\n",
       "      <th>Sentiment_Subjectivity</th>\n",
       "    </tr>\n",
       "  </thead>\n",
       "  <tbody>\n",
       "    <tr>\n",
       "      <th>268</th>\n",
       "      <td>11st</td>\n",
       "      <td>NaN</td>\n",
       "      <td>Neutral</td>\n",
       "      <td>0.00</td>\n",
       "      <td>0.00</td>\n",
       "    </tr>\n",
       "    <tr>\n",
       "      <th>15048</th>\n",
       "      <td>Birds Sounds Ringtones &amp; Wallpapers</td>\n",
       "      <td>NaN</td>\n",
       "      <td>Neutral</td>\n",
       "      <td>0.00</td>\n",
       "      <td>0.00</td>\n",
       "    </tr>\n",
       "    <tr>\n",
       "      <th>22092</th>\n",
       "      <td>Calorie Counter - MyFitnessPal</td>\n",
       "      <td>NaN</td>\n",
       "      <td>Neutral</td>\n",
       "      <td>0.00</td>\n",
       "      <td>0.00</td>\n",
       "    </tr>\n",
       "    <tr>\n",
       "      <th>31623</th>\n",
       "      <td>DC Comics</td>\n",
       "      <td>NaN</td>\n",
       "      <td>Neutral</td>\n",
       "      <td>0.00</td>\n",
       "      <td>0.00</td>\n",
       "    </tr>\n",
       "    <tr>\n",
       "      <th>52500</th>\n",
       "      <td>Garden Photo Frames - Garden Photo Editor</td>\n",
       "      <td>NaN</td>\n",
       "      <td>Neutral</td>\n",
       "      <td>0.00</td>\n",
       "      <td>0.00</td>\n",
       "    </tr>\n",
       "  </tbody>\n",
       "</table>\n",
       "</div>"
      ],
      "text/plain": [
       "                                             App Translated_Review Sentiment  \\\n",
       "268                                         11st               NaN   Neutral   \n",
       "15048        Birds Sounds Ringtones & Wallpapers               NaN   Neutral   \n",
       "22092             Calorie Counter - MyFitnessPal               NaN   Neutral   \n",
       "31623                                  DC Comics               NaN   Neutral   \n",
       "52500  Garden Photo Frames - Garden Photo Editor               NaN   Neutral   \n",
       "\n",
       "       Sentiment_Polarity  Sentiment_Subjectivity  \n",
       "268                  0.00                    0.00  \n",
       "15048                0.00                    0.00  \n",
       "22092                0.00                    0.00  \n",
       "31623                0.00                    0.00  \n",
       "52500                0.00                    0.00  "
      ]
     },
     "execution_count": 43,
     "metadata": {},
     "output_type": "execute_result"
    }
   ],
   "source": [
    "df_appreviews[(df_appreviews.Translated_Review.isna()==True) & (df_appreviews.Sentiment.isna()==False)]"
   ]
  },
  {
   "cell_type": "markdown",
   "metadata": {},
   "source": [
    "NaN's cannot be classified into Positive, Negatuve or Neutral. It is UNKNOWN.. Drop all the rows where Translated_Review is NaN."
   ]
  },
  {
   "cell_type": "code",
   "execution_count": 44,
   "metadata": {},
   "outputs": [
    {
     "name": "stdout",
     "output_type": "stream",
     "text": [
      "App_reviews (rows,col) after dropping rows where Translated_Review is NaN\n"
     ]
    },
    {
     "data": {
      "text/plain": [
       "(37427, 5)"
      ]
     },
     "execution_count": 44,
     "metadata": {},
     "output_type": "execute_result"
    },
    {
     "name": "stdout",
     "output_type": "stream",
     "text": [
      "Number of unique Apps after dropping rows where Translated_Review is NaN:\n"
     ]
    },
    {
     "data": {
      "text/plain": [
       "865"
      ]
     },
     "execution_count": 44,
     "metadata": {},
     "output_type": "execute_result"
    }
   ],
   "source": [
    "df_appreviews = df_appreviews[df_appreviews.Translated_Review.isna()==False]\n",
    "\n",
    "print('App_reviews (rows,col) after dropping rows where Translated_Review is NaN')\n",
    "df_appreviews.shape\n",
    "\n",
    "print('Number of unique Apps after dropping rows where Translated_Review is NaN:')\n",
    "len(df_appreviews.groupby('App')['App'].count())"
   ]
  },
  {
   "cell_type": "markdown",
   "metadata": {},
   "source": [
    "Again check for Null Values."
   ]
  },
  {
   "cell_type": "code",
   "execution_count": 45,
   "metadata": {},
   "outputs": [
    {
     "data": {
      "text/plain": [
       "App                       0\n",
       "Translated_Review         0\n",
       "Sentiment                 0\n",
       "Sentiment_Polarity        0\n",
       "Sentiment_Subjectivity    0\n",
       "dtype: int64"
      ]
     },
     "execution_count": 45,
     "metadata": {},
     "output_type": "execute_result"
    }
   ],
   "source": [
    "df_appreviews.isna().sum()"
   ]
  },
  {
   "cell_type": "markdown",
   "metadata": {},
   "source": [
    "There are more positive reviews then negative or neutral reviews."
   ]
  },
  {
   "cell_type": "code",
   "execution_count": 63,
   "metadata": {},
   "outputs": [
    {
     "data": {
      "text/plain": [
       "Text(0.5,0,'Sentiment')"
      ]
     },
     "execution_count": 63,
     "metadata": {},
     "output_type": "execute_result"
    },
    {
     "data": {
      "text/plain": [
       "Text(0,0.5,'Count')"
      ]
     },
     "execution_count": 63,
     "metadata": {},
     "output_type": "execute_result"
    },
    {
     "data": {
      "text/plain": [
       "Text(0.5,1,'Count of Apps by Sentiment')"
      ]
     },
     "execution_count": 63,
     "metadata": {},
     "output_type": "execute_result"
    },
    {
     "data": {
      "text/plain": [
       "<matplotlib.axes._subplots.AxesSubplot at 0x232c00a78d0>"
      ]
     },
     "execution_count": 63,
     "metadata": {},
     "output_type": "execute_result"
    },
    {
     "data": {
      "image/png": "[encoded data removed]",
      "text/plain": [
       "<Figure size 576x576 with 1 Axes>"
      ]
     },
     "metadata": {},
     "output_type": "display_data"
    }
   ],
   "source": [
    "fig = plt.figure(figsize=(8,8))\n",
    "ax= fig.gca()\n",
    "ax.set_xlabel('Sentiment')\n",
    "ax.set_ylabel('Count')\n",
    "ax.set_title('Count of Apps by Sentiment')\n",
    "df_appreviews.groupby('Sentiment').App.count().plot.bar(ax=ax)"
   ]
  },
  {
   "cell_type": "markdown",
   "metadata": {},
   "source": [
    "Dummy Varibles"
   ]
  },
  {
   "cell_type": "code",
   "execution_count": 64,
   "metadata": {},
   "outputs": [],
   "source": [
    "df_appreviews['Positive'] = df_appreviews.Sentiment == 'Positive'\n",
    "df_appreviews['Negative'] = df_appreviews.Sentiment == 'Negative'\n",
    "df_appreviews['Neutral'] = df_appreviews.Sentiment == 'Neutral'"
   ]
  },
  {
   "cell_type": "code",
   "execution_count": 65,
   "metadata": {},
   "outputs": [],
   "source": [
    "df_review_final = df_appreviews.groupby('App')[['Positive','Negative','Neutral']].mean().reset_index()\n",
    "\n",
    "#Multiply by 100 to convert it to %\n",
    "df_review_final[['Positive', 'Negative','Neutral']] = df_review_final[['Positive', 'Negative','Neutral']]*100 "
   ]
  },
  {
   "cell_type": "code",
   "execution_count": 66,
   "metadata": {},
   "outputs": [
    {
     "data": {
      "text/html": [
       "<div>\n",
       "<style scoped>\n",
       "    .dataframe tbody tr th:only-of-type {\n",
       "        vertical-align: middle;\n",
       "    }\n",
       "\n",
       "    .dataframe tbody tr th {\n",
       "        vertical-align: top;\n",
       "    }\n",
       "\n",
       "    .dataframe thead th {\n",
       "        text-align: right;\n",
       "    }\n",
       "</style>\n",
       "<table border=\"1\" class=\"dataframe\">\n",
       "  <thead>\n",
       "    <tr style=\"text-align: right;\">\n",
       "      <th></th>\n",
       "      <th>App</th>\n",
       "      <th>Positive</th>\n",
       "      <th>Negative</th>\n",
       "      <th>Neutral</th>\n",
       "    </tr>\n",
       "  </thead>\n",
       "  <tbody>\n",
       "    <tr>\n",
       "      <th>846</th>\n",
       "      <td>HomeWork</td>\n",
       "      <td>100.00</td>\n",
       "      <td>0.00</td>\n",
       "      <td>0.00</td>\n",
       "    </tr>\n",
       "    <tr>\n",
       "      <th>845</th>\n",
       "      <td>Home workouts - fat burning, abs, legs, arms,c...</td>\n",
       "      <td>100.00</td>\n",
       "      <td>0.00</td>\n",
       "      <td>0.00</td>\n",
       "    </tr>\n",
       "    <tr>\n",
       "      <th>761</th>\n",
       "      <td>Google+</td>\n",
       "      <td>100.00</td>\n",
       "      <td>0.00</td>\n",
       "      <td>0.00</td>\n",
       "    </tr>\n",
       "    <tr>\n",
       "      <th>759</th>\n",
       "      <td>Google Trips - Travel Planner</td>\n",
       "      <td>100.00</td>\n",
       "      <td>0.00</td>\n",
       "      <td>0.00</td>\n",
       "    </tr>\n",
       "    <tr>\n",
       "      <th>758</th>\n",
       "      <td>Google Translate</td>\n",
       "      <td>100.00</td>\n",
       "      <td>0.00</td>\n",
       "      <td>0.00</td>\n",
       "    </tr>\n",
       "    <tr>\n",
       "      <th>756</th>\n",
       "      <td>Google Slides</td>\n",
       "      <td>100.00</td>\n",
       "      <td>0.00</td>\n",
       "      <td>0.00</td>\n",
       "    </tr>\n",
       "    <tr>\n",
       "      <th>755</th>\n",
       "      <td>Google Primer</td>\n",
       "      <td>100.00</td>\n",
       "      <td>0.00</td>\n",
       "      <td>0.00</td>\n",
       "    </tr>\n",
       "    <tr>\n",
       "      <th>701</th>\n",
       "      <td>GPS Speedometer and Odometer</td>\n",
       "      <td>100.00</td>\n",
       "      <td>0.00</td>\n",
       "      <td>0.00</td>\n",
       "    </tr>\n",
       "    <tr>\n",
       "      <th>700</th>\n",
       "      <td>GPS Map Free</td>\n",
       "      <td>100.00</td>\n",
       "      <td>0.00</td>\n",
       "      <td>0.00</td>\n",
       "    </tr>\n",
       "    <tr>\n",
       "      <th>630</th>\n",
       "      <td>FlipaClip - Cartoon animation</td>\n",
       "      <td>100.00</td>\n",
       "      <td>0.00</td>\n",
       "      <td>0.00</td>\n",
       "    </tr>\n",
       "    <tr>\n",
       "      <th>497</th>\n",
       "      <td>Drawing for Kids Learning Games for Toddlers a...</td>\n",
       "      <td>100.00</td>\n",
       "      <td>0.00</td>\n",
       "      <td>0.00</td>\n",
       "    </tr>\n",
       "    <tr>\n",
       "      <th>496</th>\n",
       "      <td>Draw a Stickman: EPIC 2</td>\n",
       "      <td>100.00</td>\n",
       "      <td>0.00</td>\n",
       "      <td>0.00</td>\n",
       "    </tr>\n",
       "    <tr>\n",
       "      <th>486</th>\n",
       "      <td>Down Dog: Great Yoga Anywhere</td>\n",
       "      <td>100.00</td>\n",
       "      <td>0.00</td>\n",
       "      <td>0.00</td>\n",
       "    </tr>\n",
       "    <tr>\n",
       "      <th>440</th>\n",
       "      <td>DashClock Widget</td>\n",
       "      <td>100.00</td>\n",
       "      <td>0.00</td>\n",
       "      <td>0.00</td>\n",
       "    </tr>\n",
       "    <tr>\n",
       "      <th>439</th>\n",
       "      <td>Daniel Tiger for Parents</td>\n",
       "      <td>100.00</td>\n",
       "      <td>0.00</td>\n",
       "      <td>0.00</td>\n",
       "    </tr>\n",
       "    <tr>\n",
       "      <th>435</th>\n",
       "      <td>Daily Workouts - Exercise Fitness Routine Trainer</td>\n",
       "      <td>100.00</td>\n",
       "      <td>0.00</td>\n",
       "      <td>0.00</td>\n",
       "    </tr>\n",
       "    <tr>\n",
       "      <th>404</th>\n",
       "      <td>Couple - Relationship App</td>\n",
       "      <td>100.00</td>\n",
       "      <td>0.00</td>\n",
       "      <td>0.00</td>\n",
       "    </tr>\n",
       "    <tr>\n",
       "      <th>321</th>\n",
       "      <td>Caller ID +</td>\n",
       "      <td>100.00</td>\n",
       "      <td>0.00</td>\n",
       "      <td>0.00</td>\n",
       "    </tr>\n",
       "    <tr>\n",
       "      <th>320</th>\n",
       "      <td>CallApp: Caller ID, Blocker &amp; Phone Call Recorder</td>\n",
       "      <td>100.00</td>\n",
       "      <td>0.00</td>\n",
       "      <td>0.00</td>\n",
       "    </tr>\n",
       "    <tr>\n",
       "      <th>316</th>\n",
       "      <td>Calendar+ Schedule Planner App</td>\n",
       "      <td>100.00</td>\n",
       "      <td>0.00</td>\n",
       "      <td>0.00</td>\n",
       "    </tr>\n",
       "    <tr>\n",
       "      <th>313</th>\n",
       "      <td>Calculator Plus Free</td>\n",
       "      <td>100.00</td>\n",
       "      <td>0.00</td>\n",
       "      <td>0.00</td>\n",
       "    </tr>\n",
       "    <tr>\n",
       "      <th>312</th>\n",
       "      <td>Calculator - unit converter</td>\n",
       "      <td>100.00</td>\n",
       "      <td>0.00</td>\n",
       "      <td>0.00</td>\n",
       "    </tr>\n",
       "    <tr>\n",
       "      <th>310</th>\n",
       "      <td>Caf - Mon Compte</td>\n",
       "      <td>100.00</td>\n",
       "      <td>0.00</td>\n",
       "      <td>0.00</td>\n",
       "    </tr>\n",
       "    <tr>\n",
       "      <th>299</th>\n",
       "      <td>CM Flashlight (Compass, SOS)</td>\n",
       "      <td>100.00</td>\n",
       "      <td>0.00</td>\n",
       "      <td>0.00</td>\n",
       "    </tr>\n",
       "    <tr>\n",
       "      <th>264</th>\n",
       "      <td>Brightest Flashlight Free ®</td>\n",
       "      <td>100.00</td>\n",
       "      <td>0.00</td>\n",
       "      <td>0.00</td>\n",
       "    </tr>\n",
       "    <tr>\n",
       "      <th>221</th>\n",
       "      <td>Best Ovulation Tracker Fertility Calendar App ...</td>\n",
       "      <td>100.00</td>\n",
       "      <td>0.00</td>\n",
       "      <td>0.00</td>\n",
       "    </tr>\n",
       "    <tr>\n",
       "      <th>220</th>\n",
       "      <td>Best Fiends - Free Puzzle Game</td>\n",
       "      <td>100.00</td>\n",
       "      <td>0.00</td>\n",
       "      <td>0.00</td>\n",
       "    </tr>\n",
       "    <tr>\n",
       "      <th>218</th>\n",
       "      <td>Bed Time Fan - White Noise Sleep Sounds</td>\n",
       "      <td>100.00</td>\n",
       "      <td>0.00</td>\n",
       "      <td>0.00</td>\n",
       "    </tr>\n",
       "    <tr>\n",
       "      <th>178</th>\n",
       "      <td>Baby Panda’s Juice Shop</td>\n",
       "      <td>100.00</td>\n",
       "      <td>0.00</td>\n",
       "      <td>0.00</td>\n",
       "    </tr>\n",
       "    <tr>\n",
       "      <th>123</th>\n",
       "      <td>Apartment Decorating Ideas</td>\n",
       "      <td>100.00</td>\n",
       "      <td>0.00</td>\n",
       "      <td>0.00</td>\n",
       "    </tr>\n",
       "    <tr>\n",
       "      <th>...</th>\n",
       "      <td>...</td>\n",
       "      <td>...</td>\n",
       "      <td>...</td>\n",
       "      <td>...</td>\n",
       "    </tr>\n",
       "    <tr>\n",
       "      <th>657</th>\n",
       "      <td>Free Dating &amp; Flirt Chat - Choice of Love</td>\n",
       "      <td>28.57</td>\n",
       "      <td>31.43</td>\n",
       "      <td>40.00</td>\n",
       "    </tr>\n",
       "    <tr>\n",
       "      <th>224</th>\n",
       "      <td>BestCam Selfie-selfie, beauty camera, photo ed...</td>\n",
       "      <td>28.28</td>\n",
       "      <td>32.32</td>\n",
       "      <td>39.39</td>\n",
       "    </tr>\n",
       "    <tr>\n",
       "      <th>106</th>\n",
       "      <td>Amtrak</td>\n",
       "      <td>28.21</td>\n",
       "      <td>41.03</td>\n",
       "      <td>30.77</td>\n",
       "    </tr>\n",
       "    <tr>\n",
       "      <th>197</th>\n",
       "      <td>Banque Populaire</td>\n",
       "      <td>27.78</td>\n",
       "      <td>44.44</td>\n",
       "      <td>27.78</td>\n",
       "    </tr>\n",
       "    <tr>\n",
       "      <th>190</th>\n",
       "      <td>Bancomer móvil</td>\n",
       "      <td>27.50</td>\n",
       "      <td>52.50</td>\n",
       "      <td>20.00</td>\n",
       "    </tr>\n",
       "    <tr>\n",
       "      <th>369</th>\n",
       "      <td>Claro</td>\n",
       "      <td>27.50</td>\n",
       "      <td>35.00</td>\n",
       "      <td>37.50</td>\n",
       "    </tr>\n",
       "    <tr>\n",
       "      <th>605</th>\n",
       "      <td>File Manager</td>\n",
       "      <td>27.27</td>\n",
       "      <td>27.27</td>\n",
       "      <td>45.45</td>\n",
       "    </tr>\n",
       "    <tr>\n",
       "      <th>121</th>\n",
       "      <td>Anthem BC Anywhere</td>\n",
       "      <td>25.81</td>\n",
       "      <td>38.71</td>\n",
       "      <td>35.48</td>\n",
       "    </tr>\n",
       "    <tr>\n",
       "      <th>32</th>\n",
       "      <td>ABC News - US &amp; World News</td>\n",
       "      <td>25.71</td>\n",
       "      <td>41.43</td>\n",
       "      <td>32.86</td>\n",
       "    </tr>\n",
       "    <tr>\n",
       "      <th>534</th>\n",
       "      <td>Entel</td>\n",
       "      <td>25.64</td>\n",
       "      <td>33.33</td>\n",
       "      <td>41.03</td>\n",
       "    </tr>\n",
       "    <tr>\n",
       "      <th>437</th>\n",
       "      <td>Dailyhunt (Newshunt) - Latest News, Viral Videos</td>\n",
       "      <td>25.00</td>\n",
       "      <td>75.00</td>\n",
       "      <td>0.00</td>\n",
       "    </tr>\n",
       "    <tr>\n",
       "      <th>311</th>\n",
       "      <td>Calculator - free calculator, multi calculator...</td>\n",
       "      <td>25.00</td>\n",
       "      <td>25.00</td>\n",
       "      <td>50.00</td>\n",
       "    </tr>\n",
       "    <tr>\n",
       "      <th>774</th>\n",
       "      <td>HBO GO: Stream with TV Package</td>\n",
       "      <td>24.00</td>\n",
       "      <td>68.00</td>\n",
       "      <td>8.00</td>\n",
       "    </tr>\n",
       "    <tr>\n",
       "      <th>788</th>\n",
       "      <td>HTC File Manager</td>\n",
       "      <td>23.81</td>\n",
       "      <td>14.29</td>\n",
       "      <td>61.90</td>\n",
       "    </tr>\n",
       "    <tr>\n",
       "      <th>449</th>\n",
       "      <td>Delta Dental</td>\n",
       "      <td>22.50</td>\n",
       "      <td>50.00</td>\n",
       "      <td>27.50</td>\n",
       "    </tr>\n",
       "    <tr>\n",
       "      <th>837</th>\n",
       "      <td>Hitwe - meet people and chat</td>\n",
       "      <td>22.22</td>\n",
       "      <td>77.78</td>\n",
       "      <td>0.00</td>\n",
       "    </tr>\n",
       "    <tr>\n",
       "      <th>39</th>\n",
       "      <td>ANA</td>\n",
       "      <td>22.22</td>\n",
       "      <td>40.74</td>\n",
       "      <td>37.04</td>\n",
       "    </tr>\n",
       "    <tr>\n",
       "      <th>516</th>\n",
       "      <td>Easy Installer - Apps On SD</td>\n",
       "      <td>20.51</td>\n",
       "      <td>20.51</td>\n",
       "      <td>58.97</td>\n",
       "    </tr>\n",
       "    <tr>\n",
       "      <th>679</th>\n",
       "      <td>Fruit Block - Puzzle Legend</td>\n",
       "      <td>0.00</td>\n",
       "      <td>100.00</td>\n",
       "      <td>0.00</td>\n",
       "    </tr>\n",
       "    <tr>\n",
       "      <th>665</th>\n",
       "      <td>Free Live Talk-Video Call</td>\n",
       "      <td>0.00</td>\n",
       "      <td>100.00</td>\n",
       "      <td>0.00</td>\n",
       "    </tr>\n",
       "    <tr>\n",
       "      <th>495</th>\n",
       "      <td>Draw Your Game</td>\n",
       "      <td>0.00</td>\n",
       "      <td>100.00</td>\n",
       "      <td>0.00</td>\n",
       "    </tr>\n",
       "    <tr>\n",
       "      <th>494</th>\n",
       "      <td>Draw In</td>\n",
       "      <td>0.00</td>\n",
       "      <td>100.00</td>\n",
       "      <td>0.00</td>\n",
       "    </tr>\n",
       "    <tr>\n",
       "      <th>493</th>\n",
       "      <td>Draw A Stickman</td>\n",
       "      <td>0.00</td>\n",
       "      <td>100.00</td>\n",
       "      <td>0.00</td>\n",
       "    </tr>\n",
       "    <tr>\n",
       "      <th>467</th>\n",
       "      <td>Discover Mobile</td>\n",
       "      <td>0.00</td>\n",
       "      <td>100.00</td>\n",
       "      <td>0.00</td>\n",
       "    </tr>\n",
       "    <tr>\n",
       "      <th>424</th>\n",
       "      <td>DEER HUNTER 2018</td>\n",
       "      <td>0.00</td>\n",
       "      <td>100.00</td>\n",
       "      <td>0.00</td>\n",
       "    </tr>\n",
       "    <tr>\n",
       "      <th>319</th>\n",
       "      <td>Call of Duty:Black Ops Zombies</td>\n",
       "      <td>0.00</td>\n",
       "      <td>100.00</td>\n",
       "      <td>0.00</td>\n",
       "    </tr>\n",
       "    <tr>\n",
       "      <th>757</th>\n",
       "      <td>Google Street View</td>\n",
       "      <td>0.00</td>\n",
       "      <td>75.00</td>\n",
       "      <td>25.00</td>\n",
       "    </tr>\n",
       "    <tr>\n",
       "      <th>318</th>\n",
       "      <td>Call Control - Call Blocker</td>\n",
       "      <td>0.00</td>\n",
       "      <td>33.33</td>\n",
       "      <td>66.67</td>\n",
       "    </tr>\n",
       "    <tr>\n",
       "      <th>775</th>\n",
       "      <td>HD Camera</td>\n",
       "      <td>0.00</td>\n",
       "      <td>0.00</td>\n",
       "      <td>100.00</td>\n",
       "    </tr>\n",
       "    <tr>\n",
       "      <th>293</th>\n",
       "      <td>CBS News</td>\n",
       "      <td>0.00</td>\n",
       "      <td>0.00</td>\n",
       "      <td>100.00</td>\n",
       "    </tr>\n",
       "  </tbody>\n",
       "</table>\n",
       "<p>865 rows × 4 columns</p>\n",
       "</div>"
      ],
      "text/plain": [
       "                                                   App  Positive  Negative  \\\n",
       "846                                           HomeWork    100.00      0.00   \n",
       "845  Home workouts - fat burning, abs, legs, arms,c...    100.00      0.00   \n",
       "761                                            Google+    100.00      0.00   \n",
       "759                      Google Trips - Travel Planner    100.00      0.00   \n",
       "758                                   Google Translate    100.00      0.00   \n",
       "756                                      Google Slides    100.00      0.00   \n",
       "755                                      Google Primer    100.00      0.00   \n",
       "701                       GPS Speedometer and Odometer    100.00      0.00   \n",
       "700                                       GPS Map Free    100.00      0.00   \n",
       "630                      FlipaClip - Cartoon animation    100.00      0.00   \n",
       "497  Drawing for Kids Learning Games for Toddlers a...    100.00      0.00   \n",
       "496                            Draw a Stickman: EPIC 2    100.00      0.00   \n",
       "486                      Down Dog: Great Yoga Anywhere    100.00      0.00   \n",
       "440                                   DashClock Widget    100.00      0.00   \n",
       "439                           Daniel Tiger for Parents    100.00      0.00   \n",
       "435  Daily Workouts - Exercise Fitness Routine Trainer    100.00      0.00   \n",
       "404                          Couple - Relationship App    100.00      0.00   \n",
       "321                                        Caller ID +    100.00      0.00   \n",
       "320  CallApp: Caller ID, Blocker & Phone Call Recorder    100.00      0.00   \n",
       "316                     Calendar+ Schedule Planner App    100.00      0.00   \n",
       "313                               Calculator Plus Free    100.00      0.00   \n",
       "312                        Calculator - unit converter    100.00      0.00   \n",
       "310                                   Caf - Mon Compte    100.00      0.00   \n",
       "299                       CM Flashlight (Compass, SOS)    100.00      0.00   \n",
       "264                        Brightest Flashlight Free ®    100.00      0.00   \n",
       "221  Best Ovulation Tracker Fertility Calendar App ...    100.00      0.00   \n",
       "220                     Best Fiends - Free Puzzle Game    100.00      0.00   \n",
       "218            Bed Time Fan - White Noise Sleep Sounds    100.00      0.00   \n",
       "178                            Baby Panda’s Juice Shop    100.00      0.00   \n",
       "123                         Apartment Decorating Ideas    100.00      0.00   \n",
       "..                                                 ...       ...       ...   \n",
       "657          Free Dating & Flirt Chat - Choice of Love     28.57     31.43   \n",
       "224  BestCam Selfie-selfie, beauty camera, photo ed...     28.28     32.32   \n",
       "106                                             Amtrak     28.21     41.03   \n",
       "197                                   Banque Populaire     27.78     44.44   \n",
       "190                                     Bancomer móvil     27.50     52.50   \n",
       "369                                              Claro     27.50     35.00   \n",
       "605                                       File Manager     27.27     27.27   \n",
       "121                                 Anthem BC Anywhere     25.81     38.71   \n",
       "32                          ABC News - US & World News     25.71     41.43   \n",
       "534                                              Entel     25.64     33.33   \n",
       "437   Dailyhunt (Newshunt) - Latest News, Viral Videos     25.00     75.00   \n",
       "311  Calculator - free calculator, multi calculator...     25.00     25.00   \n",
       "774                     HBO GO: Stream with TV Package     24.00     68.00   \n",
       "788                                   HTC File Manager     23.81     14.29   \n",
       "449                                       Delta Dental     22.50     50.00   \n",
       "837                       Hitwe - meet people and chat     22.22     77.78   \n",
       "39                                                 ANA     22.22     40.74   \n",
       "516                        Easy Installer - Apps On SD     20.51     20.51   \n",
       "679                        Fruit Block - Puzzle Legend      0.00    100.00   \n",
       "665                          Free Live Talk-Video Call      0.00    100.00   \n",
       "495                                     Draw Your Game      0.00    100.00   \n",
       "494                                            Draw In      0.00    100.00   \n",
       "493                                    Draw A Stickman      0.00    100.00   \n",
       "467                                    Discover Mobile      0.00    100.00   \n",
       "424                                   DEER HUNTER 2018      0.00    100.00   \n",
       "319                     Call of Duty:Black Ops Zombies      0.00    100.00   \n",
       "757                                 Google Street View      0.00     75.00   \n",
       "318                        Call Control - Call Blocker      0.00     33.33   \n",
       "775                                          HD Camera      0.00      0.00   \n",
       "293                                           CBS News      0.00      0.00   \n",
       "\n",
       "     Neutral  \n",
       "846     0.00  \n",
       "845     0.00  \n",
       "761     0.00  \n",
       "759     0.00  \n",
       "758     0.00  \n",
       "756     0.00  \n",
       "755     0.00  \n",
       "701     0.00  \n",
       "700     0.00  \n",
       "630     0.00  \n",
       "497     0.00  \n",
       "496     0.00  \n",
       "486     0.00  \n",
       "440     0.00  \n",
       "439     0.00  \n",
       "435     0.00  \n",
       "404     0.00  \n",
       "321     0.00  \n",
       "320     0.00  \n",
       "316     0.00  \n",
       "313     0.00  \n",
       "312     0.00  \n",
       "310     0.00  \n",
       "299     0.00  \n",
       "264     0.00  \n",
       "221     0.00  \n",
       "220     0.00  \n",
       "218     0.00  \n",
       "178     0.00  \n",
       "123     0.00  \n",
       "..       ...  \n",
       "657    40.00  \n",
       "224    39.39  \n",
       "106    30.77  \n",
       "197    27.78  \n",
       "190    20.00  \n",
       "369    37.50  \n",
       "605    45.45  \n",
       "121    35.48  \n",
       "32     32.86  \n",
       "534    41.03  \n",
       "437     0.00  \n",
       "311    50.00  \n",
       "774     8.00  \n",
       "788    61.90  \n",
       "449    27.50  \n",
       "837     0.00  \n",
       "39     37.04  \n",
       "516    58.97  \n",
       "679     0.00  \n",
       "665     0.00  \n",
       "495     0.00  \n",
       "494     0.00  \n",
       "493     0.00  \n",
       "467     0.00  \n",
       "424     0.00  \n",
       "319     0.00  \n",
       "757    25.00  \n",
       "318    66.67  \n",
       "775   100.00  \n",
       "293   100.00  \n",
       "\n",
       "[865 rows x 4 columns]"
      ]
     },
     "execution_count": 66,
     "metadata": {},
     "output_type": "execute_result"
    }
   ],
   "source": [
    "#Sorting\n",
    "df_review_final.sort_values(['Positive', 'Negative','Neutral','App'], ascending=False)"
   ]
  },
  {
   "cell_type": "markdown",
   "metadata": {},
   "source": [
    "As there are more than 850 Apps, Showcasing all of them in a graph will create clutter. Therefore, just showing first few of them."
   ]
  },
  {
   "cell_type": "code",
   "execution_count": 72,
   "metadata": {},
   "outputs": [
    {
     "data": {
      "text/plain": [
       "[Text(0,0.5,'%'), Text(0.5,0,'App Name')]"
      ]
     },
     "execution_count": 72,
     "metadata": {},
     "output_type": "execute_result"
    },
    {
     "data": {
      "image/png": "[encoded data removed]",
      "text/plain": [
       "<Figure size 432x288 with 1 Axes>"
      ]
     },
     "metadata": {},
     "output_type": "display_data"
    }
   ],
   "source": [
    "df_small = df_review_final.iloc[:5]\n",
    "ax = sns.lineplot(x=\"App\", y=\"Positive\", data=df_small, label = 'Positive', legend='full')\n",
    "ax = sns.lineplot(x=\"App\", y=\"Negative\", data=df_small, label = 'Negative', legend='full')\n",
    "ax = sns.lineplot(x=\"App\", y=\"Neutral\", data=df_small, label = 'Neutral', legend='full')\n",
    "ax.set(xlabel='App Name', ylabel='%')"
   ]
  },
  {
   "cell_type": "markdown",
   "metadata": {},
   "source": [
    "Same information in Bar plot."
   ]
  },
  {
   "cell_type": "code",
   "execution_count": 83,
   "metadata": {},
   "outputs": [
    {
     "data": {
      "text/plain": [
       "Text(0.5,0,'App')"
      ]
     },
     "execution_count": 83,
     "metadata": {},
     "output_type": "execute_result"
    },
    {
     "data": {
      "text/plain": [
       "Text(0,0.5,'Average %')"
      ]
     },
     "execution_count": 83,
     "metadata": {},
     "output_type": "execute_result"
    },
    {
     "data": {
      "text/plain": [
       "Text(0.5,1,'Apps Mean Positive, Negative and Neutral Scores')"
      ]
     },
     "execution_count": 83,
     "metadata": {},
     "output_type": "execute_result"
    },
    {
     "data": {
      "text/plain": [
       "<matplotlib.axes._subplots.AxesSubplot at 0x232c45599b0>"
      ]
     },
     "execution_count": 83,
     "metadata": {},
     "output_type": "execute_result"
    },
    {
     "data": {
      "image/png": "[encoded data removed]",
      "text/plain": [
       "<Figure size 576x576 with 1 Axes>"
      ]
     },
     "metadata": {},
     "output_type": "display_data"
    }
   ],
   "source": [
    "fig = plt.figure(figsize=(8,8))\n",
    "ax= fig.gca()\n",
    "ax.set_xlabel('App')\n",
    "ax.set_ylabel('Average %')\n",
    "ax.set_title('Apps Mean Positive, Negative and Neutral Scores')\n",
    "df_small.groupby('App').mean().plot.bar(ax=ax)"
   ]
  },
  {
   "cell_type": "markdown",
   "metadata": {},
   "source": [
    "# Combining Data Frames (AppInfo and AppReviews)"
   ]
  },
  {
   "cell_type": "code",
   "execution_count": 88,
   "metadata": {},
   "outputs": [
    {
     "data": {
      "text/plain": [
       "865"
      ]
     },
     "execution_count": 88,
     "metadata": {},
     "output_type": "execute_result"
    },
    {
     "data": {
      "text/plain": [
       "9660"
      ]
     },
     "execution_count": 88,
     "metadata": {},
     "output_type": "execute_result"
    }
   ],
   "source": [
    "df_review_final.App.nunique()\n",
    "df_appinfo.App.nunique()"
   ]
  },
  {
   "cell_type": "markdown",
   "metadata": {},
   "source": [
    "Combining two dataframe into one."
   ]
  },
  {
   "cell_type": "code",
   "execution_count": 86,
   "metadata": {},
   "outputs": [
    {
     "data": {
      "text/plain": [
       "9709"
      ]
     },
     "execution_count": 86,
     "metadata": {},
     "output_type": "execute_result"
    }
   ],
   "source": [
    "df_combined = pd.merge(df_appinfo,df_review_final, on='App', how='outer')\n",
    "df_combined.App.nunique()"
   ]
  },
  {
   "cell_type": "code",
   "execution_count": 89,
   "metadata": {},
   "outputs": [
    {
     "data": {
      "text/html": [
       "<div>\n",
       "<style scoped>\n",
       "    .dataframe tbody tr th:only-of-type {\n",
       "        vertical-align: middle;\n",
       "    }\n",
       "\n",
       "    .dataframe tbody tr th {\n",
       "        vertical-align: top;\n",
       "    }\n",
       "\n",
       "    .dataframe thead th {\n",
       "        text-align: right;\n",
       "    }\n",
       "</style>\n",
       "<table border=\"1\" class=\"dataframe\">\n",
       "  <thead>\n",
       "    <tr style=\"text-align: right;\">\n",
       "      <th></th>\n",
       "      <th>App</th>\n",
       "      <th>Category</th>\n",
       "      <th>Rating</th>\n",
       "      <th>Reviews</th>\n",
       "      <th>Size</th>\n",
       "      <th>Installs</th>\n",
       "      <th>Type</th>\n",
       "      <th>Price</th>\n",
       "      <th>Content Rating</th>\n",
       "      <th>Genres</th>\n",
       "      <th>Last Updated</th>\n",
       "      <th>Current Ver</th>\n",
       "      <th>Android Ver</th>\n",
       "      <th>Min_Reviews</th>\n",
       "      <th>Positive</th>\n",
       "      <th>Negative</th>\n",
       "      <th>Neutral</th>\n",
       "    </tr>\n",
       "  </thead>\n",
       "  <tbody>\n",
       "    <tr>\n",
       "      <th>0</th>\n",
       "      <td>Photo Editor &amp; Candy Camera &amp; Grid &amp; ScrapBook</td>\n",
       "      <td>ART_AND_DESIGN</td>\n",
       "      <td>4.10</td>\n",
       "      <td>159.00</td>\n",
       "      <td>19000000.00</td>\n",
       "      <td>10000.00</td>\n",
       "      <td>Free</td>\n",
       "      <td>0.00</td>\n",
       "      <td>Everyone</td>\n",
       "      <td>Art &amp; Design</td>\n",
       "      <td>January 7, 2018</td>\n",
       "      <td>1.0.0</td>\n",
       "      <td>4.0.3 and up</td>\n",
       "      <td>159</td>\n",
       "      <td>nan</td>\n",
       "      <td>nan</td>\n",
       "      <td>nan</td>\n",
       "    </tr>\n",
       "    <tr>\n",
       "      <th>1</th>\n",
       "      <td>Coloring book moana</td>\n",
       "      <td>ART_AND_DESIGN</td>\n",
       "      <td>3.90</td>\n",
       "      <td>967.00</td>\n",
       "      <td>14000000.00</td>\n",
       "      <td>500000.00</td>\n",
       "      <td>Free</td>\n",
       "      <td>0.00</td>\n",
       "      <td>Everyone</td>\n",
       "      <td>Art &amp; Design;Pretend Play</td>\n",
       "      <td>January 15, 2018</td>\n",
       "      <td>2.0.0</td>\n",
       "      <td>4.0.3 and up</td>\n",
       "      <td>967</td>\n",
       "      <td>59.09</td>\n",
       "      <td>31.82</td>\n",
       "      <td>9.09</td>\n",
       "    </tr>\n",
       "  </tbody>\n",
       "</table>\n",
       "</div>"
      ],
      "text/plain": [
       "                                              App        Category  Rating  \\\n",
       "0  Photo Editor & Candy Camera & Grid & ScrapBook  ART_AND_DESIGN    4.10   \n",
       "1                             Coloring book moana  ART_AND_DESIGN    3.90   \n",
       "\n",
       "   Reviews        Size  Installs  Type  Price Content Rating  \\\n",
       "0   159.00 19000000.00  10000.00  Free   0.00       Everyone   \n",
       "1   967.00 14000000.00 500000.00  Free   0.00       Everyone   \n",
       "\n",
       "                      Genres      Last Updated Current Ver   Android Ver  \\\n",
       "0               Art & Design   January 7, 2018       1.0.0  4.0.3 and up   \n",
       "1  Art & Design;Pretend Play  January 15, 2018       2.0.0  4.0.3 and up   \n",
       "\n",
       "  Min_Reviews  Positive  Negative  Neutral  \n",
       "0         159       nan       nan      nan  \n",
       "1         967     59.09     31.82     9.09  "
      ]
     },
     "execution_count": 89,
     "metadata": {},
     "output_type": "execute_result"
    }
   ],
   "source": [
    "#Cross-Chek\n",
    "#df_combined[df_combined.App == '10 Best Foods for You']\n",
    "#df_appinfo[df_appinfo.App == '10 Best Foods for You']\n",
    "#df_review_final[df_review_final.App == '10 Best Foods for You']\n",
    "df_combined.head(2)"
   ]
  },
  {
   "cell_type": "markdown",
   "metadata": {},
   "source": [
    "Category Wise App Reviews."
   ]
  },
  {
   "cell_type": "code",
   "execution_count": 111,
   "metadata": {},
   "outputs": [
    {
     "data": {
      "text/plain": [
       "Text(0.5,0,'Category')"
      ]
     },
     "execution_count": 111,
     "metadata": {},
     "output_type": "execute_result"
    },
    {
     "data": {
      "text/plain": [
       "Text(0,0.5,'Average %')"
      ]
     },
     "execution_count": 111,
     "metadata": {},
     "output_type": "execute_result"
    },
    {
     "data": {
      "text/plain": [
       "Text(0.5,1,'Category Wise Sentiments Scores')"
      ]
     },
     "execution_count": 111,
     "metadata": {},
     "output_type": "execute_result"
    },
    {
     "data": {
      "text/plain": [
       "<matplotlib.axes._subplots.AxesSubplot at 0x232c5755908>"
      ]
     },
     "execution_count": 111,
     "metadata": {},
     "output_type": "execute_result"
    },
    {
     "data": {
      "image/png": "[encoded data removed]",
      "text/plain": [
       "<Figure size 576x576 with 1 Axes>"
      ]
     },
     "metadata": {},
     "output_type": "display_data"
    }
   ],
   "source": [
    "fig = plt.figure(figsize=(8,8))\n",
    "ax= fig.gca()\n",
    "ax.set_xlabel('Category')\n",
    "ax.set_ylabel('Average %')\n",
    "ax.set_title('Category Wise Sentiments Scores')\n",
    "df_combined[['Category','Positive','Negative', 'Neutral']].groupby('Category').mean().plot(ax=ax, rot=90)"
   ]
  },
  {
   "cell_type": "markdown",
   "metadata": {},
   "source": [
    "The positive reviews across categories ranges from ~60% to ~80%.<br>\n",
    "The negative reviews across categories ranges from ~1% to ~38%.<br>\n",
    "The neutral reviews across categories ranges from ~5% to ~25%.<br>\n",
    "<br>\n",
    "The Game Category has highest mean negative score and almost lowest postive score. This indicates that the Game category is challenging in terms of users satisfaction. Users are not very mush satisfied."
   ]
  },
  {
   "cell_type": "markdown",
   "metadata": {},
   "source": [
    "<b> If a company is looking to develop the next top trending application on the Google Play Store, what kind of app should they focus on building? Why? (ie. does number of installs correlate with a higher rating? Or perhaps number of reviews, or overall sentiment?) Present the data findings to back your claim. Use notebook for both results and explanation."
   ]
  },
  {
   "cell_type": "code",
   "execution_count": 112,
   "metadata": {},
   "outputs": [],
   "source": [
    "df_combined_dummies = pd.get_dummies(df_combined,columns=['Category','Type', 'Content Rating'])"
   ]
  },
  {
   "cell_type": "markdown",
   "metadata": {},
   "source": [
    "Uncomment below code to view the Correlation_matrix on all the columns."
   ]
  },
  {
   "cell_type": "markdown",
   "metadata": {},
   "source": [
    "X = df_combined_dummies[['Installs', 'Rating','Reviews', 'Size','Price', \n",
    "                 'Category_ART_AND_DESIGN','Category_AUTO_AND_VEHICLES', 'Category_BEAUTY',\n",
    "                 'Category_BOOKS_AND_REFERENCE', 'Category_BUSINESS', 'Category_COMICS',\n",
    "                 'Category_COMMUNICATION', 'Category_DATING', 'Category_EDUCATION',\n",
    "                 'Category_ENTERTAINMENT', 'Category_EVENTS', 'Category_FAMILY',\n",
    "                 'Category_FINANCE', 'Category_FOOD_AND_DRINK', 'Category_GAME',\n",
    "                 'Category_HEALTH_AND_FITNESS', 'Category_HOUSE_AND_HOME',\n",
    "                 'Category_LIBRARIES_AND_DEMO', 'Category_LIFESTYLE',\n",
    "                 'Category_MAPS_AND_NAVIGATION', 'Category_MEDICAL',\n",
    "                 'Category_NEWS_AND_MAGAZINES', 'Category_PARENTING',\n",
    "                 'Category_PERSONALIZATION', 'Category_PHOTOGRAPHY',\n",
    "                 'Category_PRODUCTIVITY', 'Category_SHOPPING', 'Category_SOCIAL',\n",
    "                 'Category_SPORTS', 'Category_TOOLS', 'Category_TRAVEL_AND_LOCAL',\n",
    "                 'Category_VIDEO_PLAYERS', 'Category_WEATHER', 'Type_Free', 'Type_Paid',\n",
    "                 'Content Rating_Adults only 18+', 'Content Rating_Everyone',\n",
    "                 'Content Rating_Everyone 10+', 'Content Rating_Mature 17+',\n",
    "                 'Content Rating_Teen', 'Content Rating_Unrated',\n",
    "                        'Positive', 'Negative', 'Neutral',]]\n",
    "corr = X.corr()\n",
    "corr.style.background_gradient(cmap='coolwarm')"
   ]
  },
  {
   "cell_type": "code",
   "execution_count": 113,
   "metadata": {},
   "outputs": [
    {
     "data": {
      "text/html": [
       "<style  type=\"text/css\" >\n",
       "    #T_33c062c2_4628_11ea_bcb1_107d1a375793row0_col0 {\n",
       "            background-color:  #b40426;\n",
       "            color:  #f1f1f1;\n",
       "        }    #T_33c062c2_4628_11ea_bcb1_107d1a375793row0_col1 {\n",
       "            background-color:  #7da0f9;\n",
       "            color:  #000000;\n",
       "        }    #T_33c062c2_4628_11ea_bcb1_107d1a375793row0_col2 {\n",
       "            background-color:  #f6bda2;\n",
       "            color:  #000000;\n",
       "        }    #T_33c062c2_4628_11ea_bcb1_107d1a375793row0_col3 {\n",
       "            background-color:  #81a4fb;\n",
       "            color:  #000000;\n",
       "        }    #T_33c062c2_4628_11ea_bcb1_107d1a375793row0_col4 {\n",
       "            background-color:  #7295f4;\n",
       "            color:  #000000;\n",
       "        }    #T_33c062c2_4628_11ea_bcb1_107d1a375793row0_col5 {\n",
       "            background-color:  #6c8ff1;\n",
       "            color:  #000000;\n",
       "        }    #T_33c062c2_4628_11ea_bcb1_107d1a375793row0_col6 {\n",
       "            background-color:  #4c66d6;\n",
       "            color:  #000000;\n",
       "        }    #T_33c062c2_4628_11ea_bcb1_107d1a375793row0_col7 {\n",
       "            background-color:  #4a63d3;\n",
       "            color:  #f1f1f1;\n",
       "        }    #T_33c062c2_4628_11ea_bcb1_107d1a375793row0_col8 {\n",
       "            background-color:  #81a4fb;\n",
       "            color:  #000000;\n",
       "        }    #T_33c062c2_4628_11ea_bcb1_107d1a375793row0_col9 {\n",
       "            background-color:  #536edd;\n",
       "            color:  #000000;\n",
       "        }    #T_33c062c2_4628_11ea_bcb1_107d1a375793row0_col10 {\n",
       "            background-color:  #5875e1;\n",
       "            color:  #000000;\n",
       "        }    #T_33c062c2_4628_11ea_bcb1_107d1a375793row0_col11 {\n",
       "            background-color:  #5673e0;\n",
       "            color:  #000000;\n",
       "        }    #T_33c062c2_4628_11ea_bcb1_107d1a375793row0_col12 {\n",
       "            background-color:  #536edd;\n",
       "            color:  #000000;\n",
       "        }    #T_33c062c2_4628_11ea_bcb1_107d1a375793row0_col13 {\n",
       "            background-color:  #81a4fb;\n",
       "            color:  #000000;\n",
       "        }    #T_33c062c2_4628_11ea_bcb1_107d1a375793row0_col14 {\n",
       "            background-color:  #6a8bef;\n",
       "            color:  #000000;\n",
       "        }    #T_33c062c2_4628_11ea_bcb1_107d1a375793row0_col15 {\n",
       "            background-color:  #bfd3f6;\n",
       "            color:  #000000;\n",
       "        }    #T_33c062c2_4628_11ea_bcb1_107d1a375793row0_col16 {\n",
       "            background-color:  #d7dce3;\n",
       "            color:  #000000;\n",
       "        }    #T_33c062c2_4628_11ea_bcb1_107d1a375793row0_col17 {\n",
       "            background-color:  #9abbff;\n",
       "            color:  #000000;\n",
       "        }    #T_33c062c2_4628_11ea_bcb1_107d1a375793row1_col0 {\n",
       "            background-color:  #5875e1;\n",
       "            color:  #000000;\n",
       "        }    #T_33c062c2_4628_11ea_bcb1_107d1a375793row1_col1 {\n",
       "            background-color:  #b40426;\n",
       "            color:  #f1f1f1;\n",
       "        }    #T_33c062c2_4628_11ea_bcb1_107d1a375793row1_col2 {\n",
       "            background-color:  #6180e9;\n",
       "            color:  #000000;\n",
       "        }    #T_33c062c2_4628_11ea_bcb1_107d1a375793row1_col3 {\n",
       "            background-color:  #85a8fc;\n",
       "            color:  #000000;\n",
       "        }    #T_33c062c2_4628_11ea_bcb1_107d1a375793row1_col4 {\n",
       "            background-color:  #6f92f3;\n",
       "            color:  #000000;\n",
       "        }    #T_33c062c2_4628_11ea_bcb1_107d1a375793row1_col5 {\n",
       "            background-color:  #4b64d5;\n",
       "            color:  #f1f1f1;\n",
       "        }    #T_33c062c2_4628_11ea_bcb1_107d1a375793row1_col6 {\n",
       "            background-color:  #3f53c6;\n",
       "            color:  #f1f1f1;\n",
       "        }    #T_33c062c2_4628_11ea_bcb1_107d1a375793row1_col7 {\n",
       "            background-color:  #4055c8;\n",
       "            color:  #f1f1f1;\n",
       "        }    #T_33c062c2_4628_11ea_bcb1_107d1a375793row1_col8 {\n",
       "            background-color:  #86a9fc;\n",
       "            color:  #000000;\n",
       "        }    #T_33c062c2_4628_11ea_bcb1_107d1a375793row1_col9 {\n",
       "            background-color:  #4961d2;\n",
       "            color:  #f1f1f1;\n",
       "        }    #T_33c062c2_4628_11ea_bcb1_107d1a375793row1_col10 {\n",
       "            background-color:  #516ddb;\n",
       "            color:  #000000;\n",
       "        }    #T_33c062c2_4628_11ea_bcb1_107d1a375793row1_col11 {\n",
       "            background-color:  #506bda;\n",
       "            color:  #000000;\n",
       "        }    #T_33c062c2_4628_11ea_bcb1_107d1a375793row1_col12 {\n",
       "            background-color:  #3d50c3;\n",
       "            color:  #f1f1f1;\n",
       "        }    #T_33c062c2_4628_11ea_bcb1_107d1a375793row1_col13 {\n",
       "            background-color:  #688aef;\n",
       "            color:  #000000;\n",
       "        }    #T_33c062c2_4628_11ea_bcb1_107d1a375793row1_col14 {\n",
       "            background-color:  #6687ed;\n",
       "            color:  #000000;\n",
       "        }    #T_33c062c2_4628_11ea_bcb1_107d1a375793row1_col15 {\n",
       "            background-color:  #f2c9b4;\n",
       "            color:  #000000;\n",
       "        }    #T_33c062c2_4628_11ea_bcb1_107d1a375793row1_col16 {\n",
       "            background-color:  #a2c1ff;\n",
       "            color:  #000000;\n",
       "        }    #T_33c062c2_4628_11ea_bcb1_107d1a375793row1_col17 {\n",
       "            background-color:  #779af7;\n",
       "            color:  #000000;\n",
       "        }    #T_33c062c2_4628_11ea_bcb1_107d1a375793row2_col0 {\n",
       "            background-color:  #f6bea4;\n",
       "            color:  #000000;\n",
       "        }    #T_33c062c2_4628_11ea_bcb1_107d1a375793row2_col1 {\n",
       "            background-color:  #81a4fb;\n",
       "            color:  #000000;\n",
       "        }    #T_33c062c2_4628_11ea_bcb1_107d1a375793row2_col2 {\n",
       "            background-color:  #b40426;\n",
       "            color:  #f1f1f1;\n",
       "        }    #T_33c062c2_4628_11ea_bcb1_107d1a375793row2_col3 {\n",
       "            background-color:  #8badfd;\n",
       "            color:  #000000;\n",
       "        }    #T_33c062c2_4628_11ea_bcb1_107d1a375793row2_col4 {\n",
       "            background-color:  #7396f5;\n",
       "            color:  #000000;\n",
       "        }    #T_33c062c2_4628_11ea_bcb1_107d1a375793row2_col5 {\n",
       "            background-color:  #6687ed;\n",
       "            color:  #000000;\n",
       "        }    #T_33c062c2_4628_11ea_bcb1_107d1a375793row2_col6 {\n",
       "            background-color:  #465ecf;\n",
       "            color:  #f1f1f1;\n",
       "        }    #T_33c062c2_4628_11ea_bcb1_107d1a375793row2_col7 {\n",
       "            background-color:  #445acc;\n",
       "            color:  #f1f1f1;\n",
       "        }    #T_33c062c2_4628_11ea_bcb1_107d1a375793row2_col8 {\n",
       "            background-color:  #86a9fc;\n",
       "            color:  #000000;\n",
       "        }    #T_33c062c2_4628_11ea_bcb1_107d1a375793row2_col9 {\n",
       "            background-color:  #4f69d9;\n",
       "            color:  #000000;\n",
       "        }    #T_33c062c2_4628_11ea_bcb1_107d1a375793row2_col10 {\n",
       "            background-color:  #4e68d8;\n",
       "            color:  #000000;\n",
       "        }    #T_33c062c2_4628_11ea_bcb1_107d1a375793row2_col11 {\n",
       "            background-color:  #5d7ce6;\n",
       "            color:  #000000;\n",
       "        }    #T_33c062c2_4628_11ea_bcb1_107d1a375793row2_col12 {\n",
       "            background-color:  #4a63d3;\n",
       "            color:  #f1f1f1;\n",
       "        }    #T_33c062c2_4628_11ea_bcb1_107d1a375793row2_col13 {\n",
       "            background-color:  #7ea1fa;\n",
       "            color:  #000000;\n",
       "        }    #T_33c062c2_4628_11ea_bcb1_107d1a375793row2_col14 {\n",
       "            background-color:  #6a8bef;\n",
       "            color:  #000000;\n",
       "        }    #T_33c062c2_4628_11ea_bcb1_107d1a375793row2_col15 {\n",
       "            background-color:  #bbd1f8;\n",
       "            color:  #000000;\n",
       "        }    #T_33c062c2_4628_11ea_bcb1_107d1a375793row2_col16 {\n",
       "            background-color:  #dcdddd;\n",
       "            color:  #000000;\n",
       "        }    #T_33c062c2_4628_11ea_bcb1_107d1a375793row2_col17 {\n",
       "            background-color:  #97b8ff;\n",
       "            color:  #000000;\n",
       "        }    #T_33c062c2_4628_11ea_bcb1_107d1a375793row3_col0 {\n",
       "            background-color:  #5977e3;\n",
       "            color:  #000000;\n",
       "        }    #T_33c062c2_4628_11ea_bcb1_107d1a375793row3_col1 {\n",
       "            background-color:  #82a6fb;\n",
       "            color:  #000000;\n",
       "        }    #T_33c062c2_4628_11ea_bcb1_107d1a375793row3_col2 {\n",
       "            background-color:  #6788ee;\n",
       "            color:  #000000;\n",
       "        }    #T_33c062c2_4628_11ea_bcb1_107d1a375793row3_col3 {\n",
       "            background-color:  #b40426;\n",
       "            color:  #f1f1f1;\n",
       "        }    #T_33c062c2_4628_11ea_bcb1_107d1a375793row3_col4 {\n",
       "            background-color:  #6f92f3;\n",
       "            color:  #000000;\n",
       "        }    #T_33c062c2_4628_11ea_bcb1_107d1a375793row3_col5 {\n",
       "            background-color:  #3b4cc0;\n",
       "            color:  #f1f1f1;\n",
       "        }    #T_33c062c2_4628_11ea_bcb1_107d1a375793row3_col6 {\n",
       "            background-color:  #516ddb;\n",
       "            color:  #000000;\n",
       "        }    #T_33c062c2_4628_11ea_bcb1_107d1a375793row3_col7 {\n",
       "            background-color:  #465ecf;\n",
       "            color:  #f1f1f1;\n",
       "        }    #T_33c062c2_4628_11ea_bcb1_107d1a375793row3_col8 {\n",
       "            background-color:  #d5dbe5;\n",
       "            color:  #000000;\n",
       "        }    #T_33c062c2_4628_11ea_bcb1_107d1a375793row3_col9 {\n",
       "            background-color:  #4055c8;\n",
       "            color:  #f1f1f1;\n",
       "        }    #T_33c062c2_4628_11ea_bcb1_107d1a375793row3_col10 {\n",
       "            background-color:  #3b4cc0;\n",
       "            color:  #f1f1f1;\n",
       "        }    #T_33c062c2_4628_11ea_bcb1_107d1a375793row3_col11 {\n",
       "            background-color:  #4055c8;\n",
       "            color:  #f1f1f1;\n",
       "        }    #T_33c062c2_4628_11ea_bcb1_107d1a375793row3_col12 {\n",
       "            background-color:  #3e51c5;\n",
       "            color:  #f1f1f1;\n",
       "        }    #T_33c062c2_4628_11ea_bcb1_107d1a375793row3_col13 {\n",
       "            background-color:  #7a9df8;\n",
       "            color:  #000000;\n",
       "        }    #T_33c062c2_4628_11ea_bcb1_107d1a375793row3_col14 {\n",
       "            background-color:  #89acfd;\n",
       "            color:  #000000;\n",
       "        }    #T_33c062c2_4628_11ea_bcb1_107d1a375793row3_col15 {\n",
       "            background-color:  #afcafc;\n",
       "            color:  #000000;\n",
       "        }    #T_33c062c2_4628_11ea_bcb1_107d1a375793row3_col16 {\n",
       "            background-color:  #f2cab5;\n",
       "            color:  #000000;\n",
       "        }    #T_33c062c2_4628_11ea_bcb1_107d1a375793row3_col17 {\n",
       "            background-color:  #7597f6;\n",
       "            color:  #000000;\n",
       "        }    #T_33c062c2_4628_11ea_bcb1_107d1a375793row4_col0 {\n",
       "            background-color:  #4961d2;\n",
       "            color:  #f1f1f1;\n",
       "        }    #T_33c062c2_4628_11ea_bcb1_107d1a375793row4_col1 {\n",
       "            background-color:  #6c8ff1;\n",
       "            color:  #000000;\n",
       "        }    #T_33c062c2_4628_11ea_bcb1_107d1a375793row4_col2 {\n",
       "            background-color:  #4e68d8;\n",
       "            color:  #000000;\n",
       "        }    #T_33c062c2_4628_11ea_bcb1_107d1a375793row4_col3 {\n",
       "            background-color:  #6e90f2;\n",
       "            color:  #000000;\n",
       "        }    #T_33c062c2_4628_11ea_bcb1_107d1a375793row4_col4 {\n",
       "            background-color:  #b40426;\n",
       "            color:  #f1f1f1;\n",
       "        }    #T_33c062c2_4628_11ea_bcb1_107d1a375793row4_col5 {\n",
       "            background-color:  #4e68d8;\n",
       "            color:  #000000;\n",
       "        }    #T_33c062c2_4628_11ea_bcb1_107d1a375793row4_col6 {\n",
       "            background-color:  #465ecf;\n",
       "            color:  #f1f1f1;\n",
       "        }    #T_33c062c2_4628_11ea_bcb1_107d1a375793row4_col7 {\n",
       "            background-color:  #4257c9;\n",
       "            color:  #f1f1f1;\n",
       "        }    #T_33c062c2_4628_11ea_bcb1_107d1a375793row4_col8 {\n",
       "            background-color:  #7699f6;\n",
       "            color:  #000000;\n",
       "        }    #T_33c062c2_4628_11ea_bcb1_107d1a375793row4_col9 {\n",
       "            background-color:  #4961d2;\n",
       "            color:  #f1f1f1;\n",
       "        }    #T_33c062c2_4628_11ea_bcb1_107d1a375793row4_col10 {\n",
       "            background-color:  #4e68d8;\n",
       "            color:  #000000;\n",
       "        }    #T_33c062c2_4628_11ea_bcb1_107d1a375793row4_col11 {\n",
       "            background-color:  #465ecf;\n",
       "            color:  #f1f1f1;\n",
       "        }    #T_33c062c2_4628_11ea_bcb1_107d1a375793row4_col12 {\n",
       "            background-color:  #445acc;\n",
       "            color:  #f1f1f1;\n",
       "        }    #T_33c062c2_4628_11ea_bcb1_107d1a375793row4_col13 {\n",
       "            background-color:  #3b4cc0;\n",
       "            color:  #f1f1f1;\n",
       "        }    #T_33c062c2_4628_11ea_bcb1_107d1a375793row4_col14 {\n",
       "            background-color:  #5875e1;\n",
       "            color:  #000000;\n",
       "        }    #T_33c062c2_4628_11ea_bcb1_107d1a375793row4_col15 {\n",
       "            background-color:  #cbd8ee;\n",
       "            color:  #000000;\n",
       "        }    #T_33c062c2_4628_11ea_bcb1_107d1a375793row4_col16 {\n",
       "            background-color:  #c6d6f1;\n",
       "            color:  #000000;\n",
       "        }    #T_33c062c2_4628_11ea_bcb1_107d1a375793row4_col17 {\n",
       "            background-color:  #a3c2fe;\n",
       "            color:  #000000;\n",
       "        }    #T_33c062c2_4628_11ea_bcb1_107d1a375793row5_col0 {\n",
       "            background-color:  #688aef;\n",
       "            color:  #000000;\n",
       "        }    #T_33c062c2_4628_11ea_bcb1_107d1a375793row5_col1 {\n",
       "            background-color:  #6c8ff1;\n",
       "            color:  #000000;\n",
       "        }    #T_33c062c2_4628_11ea_bcb1_107d1a375793row5_col2 {\n",
       "            background-color:  #6485ec;\n",
       "            color:  #000000;\n",
       "        }    #T_33c062c2_4628_11ea_bcb1_107d1a375793row5_col3 {\n",
       "            background-color:  #5e7de7;\n",
       "            color:  #000000;\n",
       "        }    #T_33c062c2_4628_11ea_bcb1_107d1a375793row5_col4 {\n",
       "            background-color:  #7295f4;\n",
       "            color:  #000000;\n",
       "        }    #T_33c062c2_4628_11ea_bcb1_107d1a375793row5_col5 {\n",
       "            background-color:  #b40426;\n",
       "            color:  #f1f1f1;\n",
       "        }    #T_33c062c2_4628_11ea_bcb1_107d1a375793row5_col6 {\n",
       "            background-color:  #4055c8;\n",
       "            color:  #f1f1f1;\n",
       "        }    #T_33c062c2_4628_11ea_bcb1_107d1a375793row5_col7 {\n",
       "            background-color:  #3e51c5;\n",
       "            color:  #f1f1f1;\n",
       "        }    #T_33c062c2_4628_11ea_bcb1_107d1a375793row5_col8 {\n",
       "            background-color:  #688aef;\n",
       "            color:  #000000;\n",
       "        }    #T_33c062c2_4628_11ea_bcb1_107d1a375793row5_col9 {\n",
       "            background-color:  #4257c9;\n",
       "            color:  #f1f1f1;\n",
       "        }    #T_33c062c2_4628_11ea_bcb1_107d1a375793row5_col10 {\n",
       "            background-color:  #455cce;\n",
       "            color:  #f1f1f1;\n",
       "        }    #T_33c062c2_4628_11ea_bcb1_107d1a375793row5_col11 {\n",
       "            background-color:  #4055c8;\n",
       "            color:  #f1f1f1;\n",
       "        }    #T_33c062c2_4628_11ea_bcb1_107d1a375793row5_col12 {\n",
       "            background-color:  #3f53c6;\n",
       "            color:  #f1f1f1;\n",
       "        }    #T_33c062c2_4628_11ea_bcb1_107d1a375793row5_col13 {\n",
       "            background-color:  #7597f6;\n",
       "            color:  #000000;\n",
       "        }    #T_33c062c2_4628_11ea_bcb1_107d1a375793row5_col14 {\n",
       "            background-color:  #5673e0;\n",
       "            color:  #000000;\n",
       "        }    #T_33c062c2_4628_11ea_bcb1_107d1a375793row5_col15 {\n",
       "            background-color:  #c3d5f4;\n",
       "            color:  #000000;\n",
       "        }    #T_33c062c2_4628_11ea_bcb1_107d1a375793row5_col16 {\n",
       "            background-color:  #c9d7f0;\n",
       "            color:  #000000;\n",
       "        }    #T_33c062c2_4628_11ea_bcb1_107d1a375793row5_col17 {\n",
       "            background-color:  #adc9fd;\n",
       "            color:  #000000;\n",
       "        }    #T_33c062c2_4628_11ea_bcb1_107d1a375793row6_col0 {\n",
       "            background-color:  #506bda;\n",
       "            color:  #000000;\n",
       "        }    #T_33c062c2_4628_11ea_bcb1_107d1a375793row6_col1 {\n",
       "            background-color:  #688aef;\n",
       "            color:  #000000;\n",
       "        }    #T_33c062c2_4628_11ea_bcb1_107d1a375793row6_col2 {\n",
       "            background-color:  #4e68d8;\n",
       "            color:  #000000;\n",
       "        }    #T_33c062c2_4628_11ea_bcb1_107d1a375793row6_col3 {\n",
       "            background-color:  #7da0f9;\n",
       "            color:  #000000;\n",
       "        }    #T_33c062c2_4628_11ea_bcb1_107d1a375793row6_col4 {\n",
       "            background-color:  #7396f5;\n",
       "            color:  #000000;\n",
       "        }    #T_33c062c2_4628_11ea_bcb1_107d1a375793row6_col5 {\n",
       "            background-color:  #4961d2;\n",
       "            color:  #f1f1f1;\n",
       "        }    #T_33c062c2_4628_11ea_bcb1_107d1a375793row6_col6 {\n",
       "            background-color:  #b40426;\n",
       "            color:  #f1f1f1;\n",
       "        }    #T_33c062c2_4628_11ea_bcb1_107d1a375793row6_col7 {\n",
       "            background-color:  #3f53c6;\n",
       "            color:  #f1f1f1;\n",
       "        }    #T_33c062c2_4628_11ea_bcb1_107d1a375793row6_col8 {\n",
       "            background-color:  #6b8df0;\n",
       "            color:  #000000;\n",
       "        }    #T_33c062c2_4628_11ea_bcb1_107d1a375793row6_col9 {\n",
       "            background-color:  #4358cb;\n",
       "            color:  #f1f1f1;\n",
       "        }    #T_33c062c2_4628_11ea_bcb1_107d1a375793row6_col10 {\n",
       "            background-color:  #465ecf;\n",
       "            color:  #f1f1f1;\n",
       "        }    #T_33c062c2_4628_11ea_bcb1_107d1a375793row6_col11 {\n",
       "            background-color:  #4257c9;\n",
       "            color:  #f1f1f1;\n",
       "        }    #T_33c062c2_4628_11ea_bcb1_107d1a375793row6_col12 {\n",
       "            background-color:  #4055c8;\n",
       "            color:  #f1f1f1;\n",
       "        }    #T_33c062c2_4628_11ea_bcb1_107d1a375793row6_col13 {\n",
       "            background-color:  #7a9df8;\n",
       "            color:  #000000;\n",
       "        }    #T_33c062c2_4628_11ea_bcb1_107d1a375793row6_col14 {\n",
       "            background-color:  #4f69d9;\n",
       "            color:  #000000;\n",
       "        }    #T_33c062c2_4628_11ea_bcb1_107d1a375793row6_col15 {\n",
       "            background-color:  #c3d5f4;\n",
       "            color:  #000000;\n",
       "        }    #T_33c062c2_4628_11ea_bcb1_107d1a375793row6_col16 {\n",
       "            background-color:  #c7d7f0;\n",
       "            color:  #000000;\n",
       "        }    #T_33c062c2_4628_11ea_bcb1_107d1a375793row6_col17 {\n",
       "            background-color:  #afcafc;\n",
       "            color:  #000000;\n",
       "        }    #T_33c062c2_4628_11ea_bcb1_107d1a375793row7_col0 {\n",
       "            background-color:  #536edd;\n",
       "            color:  #000000;\n",
       "        }    #T_33c062c2_4628_11ea_bcb1_107d1a375793row7_col1 {\n",
       "            background-color:  #6e90f2;\n",
       "            color:  #000000;\n",
       "        }    #T_33c062c2_4628_11ea_bcb1_107d1a375793row7_col2 {\n",
       "            background-color:  #506bda;\n",
       "            color:  #000000;\n",
       "        }    #T_33c062c2_4628_11ea_bcb1_107d1a375793row7_col3 {\n",
       "            background-color:  #779af7;\n",
       "            color:  #000000;\n",
       "        }    #T_33c062c2_4628_11ea_bcb1_107d1a375793row7_col4 {\n",
       "            background-color:  #7396f5;\n",
       "            color:  #000000;\n",
       "        }    #T_33c062c2_4628_11ea_bcb1_107d1a375793row7_col5 {\n",
       "            background-color:  #4b64d5;\n",
       "            color:  #f1f1f1;\n",
       "        }    #T_33c062c2_4628_11ea_bcb1_107d1a375793row7_col6 {\n",
       "            background-color:  #445acc;\n",
       "            color:  #f1f1f1;\n",
       "        }    #T_33c062c2_4628_11ea_bcb1_107d1a375793row7_col7 {\n",
       "            background-color:  #b40426;\n",
       "            color:  #f1f1f1;\n",
       "        }    #T_33c062c2_4628_11ea_bcb1_107d1a375793row7_col8 {\n",
       "            background-color:  #7093f3;\n",
       "            color:  #000000;\n",
       "        }    #T_33c062c2_4628_11ea_bcb1_107d1a375793row7_col9 {\n",
       "            background-color:  #455cce;\n",
       "            color:  #f1f1f1;\n",
       "        }    #T_33c062c2_4628_11ea_bcb1_107d1a375793row7_col10 {\n",
       "            background-color:  #4a63d3;\n",
       "            color:  #f1f1f1;\n",
       "        }    #T_33c062c2_4628_11ea_bcb1_107d1a375793row7_col11 {\n",
       "            background-color:  #445acc;\n",
       "            color:  #f1f1f1;\n",
       "        }    #T_33c062c2_4628_11ea_bcb1_107d1a375793row7_col12 {\n",
       "            background-color:  #4358cb;\n",
       "            color:  #f1f1f1;\n",
       "        }    #T_33c062c2_4628_11ea_bcb1_107d1a375793row7_col13 {\n",
       "            background-color:  #7b9ff9;\n",
       "            color:  #000000;\n",
       "        }    #T_33c062c2_4628_11ea_bcb1_107d1a375793row7_col14 {\n",
       "            background-color:  #88abfd;\n",
       "            color:  #000000;\n",
       "        }    #T_33c062c2_4628_11ea_bcb1_107d1a375793row7_col15 {\n",
       "            background-color:  #c4d5f3;\n",
       "            color:  #000000;\n",
       "        }    #T_33c062c2_4628_11ea_bcb1_107d1a375793row7_col16 {\n",
       "            background-color:  #cdd9ec;\n",
       "            color:  #000000;\n",
       "        }    #T_33c062c2_4628_11ea_bcb1_107d1a375793row7_col17 {\n",
       "            background-color:  #a3c2fe;\n",
       "            color:  #000000;\n",
       "        }    #T_33c062c2_4628_11ea_bcb1_107d1a375793row8_col0 {\n",
       "            background-color:  #5470de;\n",
       "            color:  #000000;\n",
       "        }    #T_33c062c2_4628_11ea_bcb1_107d1a375793row8_col1 {\n",
       "            background-color:  #80a3fa;\n",
       "            color:  #000000;\n",
       "        }    #T_33c062c2_4628_11ea_bcb1_107d1a375793row8_col2 {\n",
       "            background-color:  #5e7de7;\n",
       "            color:  #000000;\n",
       "        }    #T_33c062c2_4628_11ea_bcb1_107d1a375793row8_col3 {\n",
       "            background-color:  #d2dbe8;\n",
       "            color:  #000000;\n",
       "        }    #T_33c062c2_4628_11ea_bcb1_107d1a375793row8_col4 {\n",
       "            background-color:  #7093f3;\n",
       "            color:  #000000;\n",
       "        }    #T_33c062c2_4628_11ea_bcb1_107d1a375793row8_col5 {\n",
       "            background-color:  #3f53c6;\n",
       "            color:  #f1f1f1;\n",
       "        }    #T_33c062c2_4628_11ea_bcb1_107d1a375793row8_col6 {\n",
       "            background-color:  #3b4cc0;\n",
       "            color:  #f1f1f1;\n",
       "        }    #T_33c062c2_4628_11ea_bcb1_107d1a375793row8_col7 {\n",
       "            background-color:  #3b4cc0;\n",
       "            color:  #f1f1f1;\n",
       "        }    #T_33c062c2_4628_11ea_bcb1_107d1a375793row8_col8 {\n",
       "            background-color:  #b40426;\n",
       "            color:  #f1f1f1;\n",
       "        }    #T_33c062c2_4628_11ea_bcb1_107d1a375793row8_col9 {\n",
       "            background-color:  #3b4cc0;\n",
       "            color:  #f1f1f1;\n",
       "        }    #T_33c062c2_4628_11ea_bcb1_107d1a375793row8_col10 {\n",
       "            background-color:  #3d50c3;\n",
       "            color:  #f1f1f1;\n",
       "        }    #T_33c062c2_4628_11ea_bcb1_107d1a375793row8_col11 {\n",
       "            background-color:  #3b4cc0;\n",
       "            color:  #f1f1f1;\n",
       "        }    #T_33c062c2_4628_11ea_bcb1_107d1a375793row8_col12 {\n",
       "            background-color:  #3b4cc0;\n",
       "            color:  #f1f1f1;\n",
       "        }    #T_33c062c2_4628_11ea_bcb1_107d1a375793row8_col13 {\n",
       "            background-color:  #7396f5;\n",
       "            color:  #000000;\n",
       "        }    #T_33c062c2_4628_11ea_bcb1_107d1a375793row8_col14 {\n",
       "            background-color:  #9ebeff;\n",
       "            color:  #000000;\n",
       "        }    #T_33c062c2_4628_11ea_bcb1_107d1a375793row8_col15 {\n",
       "            background-color:  #afcafc;\n",
       "            color:  #000000;\n",
       "        }    #T_33c062c2_4628_11ea_bcb1_107d1a375793row8_col16 {\n",
       "            background-color:  #f3c8b2;\n",
       "            color:  #000000;\n",
       "        }    #T_33c062c2_4628_11ea_bcb1_107d1a375793row8_col17 {\n",
       "            background-color:  #6f92f3;\n",
       "            color:  #000000;\n",
       "        }    #T_33c062c2_4628_11ea_bcb1_107d1a375793row9_col0 {\n",
       "            background-color:  #5470de;\n",
       "            color:  #000000;\n",
       "        }    #T_33c062c2_4628_11ea_bcb1_107d1a375793row9_col1 {\n",
       "            background-color:  #7093f3;\n",
       "            color:  #000000;\n",
       "        }    #T_33c062c2_4628_11ea_bcb1_107d1a375793row9_col2 {\n",
       "            background-color:  #5470de;\n",
       "            color:  #000000;\n",
       "        }    #T_33c062c2_4628_11ea_bcb1_107d1a375793row9_col3 {\n",
       "            background-color:  #6b8df0;\n",
       "            color:  #000000;\n",
       "        }    #T_33c062c2_4628_11ea_bcb1_107d1a375793row9_col4 {\n",
       "            background-color:  #7396f5;\n",
       "            color:  #000000;\n",
       "        }    #T_33c062c2_4628_11ea_bcb1_107d1a375793row9_col5 {\n",
       "            background-color:  #485fd1;\n",
       "            color:  #f1f1f1;\n",
       "        }    #T_33c062c2_4628_11ea_bcb1_107d1a375793row9_col6 {\n",
       "            background-color:  #4055c8;\n",
       "            color:  #f1f1f1;\n",
       "        }    #T_33c062c2_4628_11ea_bcb1_107d1a375793row9_col7 {\n",
       "            background-color:  #3e51c5;\n",
       "            color:  #f1f1f1;\n",
       "        }    #T_33c062c2_4628_11ea_bcb1_107d1a375793row9_col8 {\n",
       "            background-color:  #6a8bef;\n",
       "            color:  #000000;\n",
       "        }    #T_33c062c2_4628_11ea_bcb1_107d1a375793row9_col9 {\n",
       "            background-color:  #b40426;\n",
       "            color:  #f1f1f1;\n",
       "        }    #T_33c062c2_4628_11ea_bcb1_107d1a375793row9_col10 {\n",
       "            background-color:  #455cce;\n",
       "            color:  #f1f1f1;\n",
       "        }    #T_33c062c2_4628_11ea_bcb1_107d1a375793row9_col11 {\n",
       "            background-color:  #4055c8;\n",
       "            color:  #f1f1f1;\n",
       "        }    #T_33c062c2_4628_11ea_bcb1_107d1a375793row9_col12 {\n",
       "            background-color:  #3f53c6;\n",
       "            color:  #f1f1f1;\n",
       "        }    #T_33c062c2_4628_11ea_bcb1_107d1a375793row9_col13 {\n",
       "            background-color:  #779af7;\n",
       "            color:  #000000;\n",
       "        }    #T_33c062c2_4628_11ea_bcb1_107d1a375793row9_col14 {\n",
       "            background-color:  #4f69d9;\n",
       "            color:  #000000;\n",
       "        }    #T_33c062c2_4628_11ea_bcb1_107d1a375793row9_col15 {\n",
       "            background-color:  #c4d5f3;\n",
       "            color:  #000000;\n",
       "        }    #T_33c062c2_4628_11ea_bcb1_107d1a375793row9_col16 {\n",
       "            background-color:  #c3d5f4;\n",
       "            color:  #000000;\n",
       "        }    #T_33c062c2_4628_11ea_bcb1_107d1a375793row9_col17 {\n",
       "            background-color:  #b6cefa;\n",
       "            color:  #000000;\n",
       "        }    #T_33c062c2_4628_11ea_bcb1_107d1a375793row10_col0 {\n",
       "            background-color:  #5470de;\n",
       "            color:  #000000;\n",
       "        }    #T_33c062c2_4628_11ea_bcb1_107d1a375793row10_col1 {\n",
       "            background-color:  #7396f5;\n",
       "            color:  #000000;\n",
       "        }    #T_33c062c2_4628_11ea_bcb1_107d1a375793row10_col2 {\n",
       "            background-color:  #4e68d8;\n",
       "            color:  #000000;\n",
       "        }    #T_33c062c2_4628_11ea_bcb1_107d1a375793row10_col3 {\n",
       "            background-color:  #5f7fe8;\n",
       "            color:  #000000;\n",
       "        }    #T_33c062c2_4628_11ea_bcb1_107d1a375793row10_col4 {\n",
       "            background-color:  #7396f5;\n",
       "            color:  #000000;\n",
       "        }    #T_33c062c2_4628_11ea_bcb1_107d1a375793row10_col5 {\n",
       "            background-color:  #455cce;\n",
       "            color:  #f1f1f1;\n",
       "        }    #T_33c062c2_4628_11ea_bcb1_107d1a375793row10_col6 {\n",
       "            background-color:  #3f53c6;\n",
       "            color:  #f1f1f1;\n",
       "        }    #T_33c062c2_4628_11ea_bcb1_107d1a375793row10_col7 {\n",
       "            background-color:  #3e51c5;\n",
       "            color:  #f1f1f1;\n",
       "        }    #T_33c062c2_4628_11ea_bcb1_107d1a375793row10_col8 {\n",
       "            background-color:  #6788ee;\n",
       "            color:  #000000;\n",
       "        }    #T_33c062c2_4628_11ea_bcb1_107d1a375793row10_col9 {\n",
       "            background-color:  #4055c8;\n",
       "            color:  #f1f1f1;\n",
       "        }    #T_33c062c2_4628_11ea_bcb1_107d1a375793row10_col10 {\n",
       "            background-color:  #b40426;\n",
       "            color:  #f1f1f1;\n",
       "        }    #T_33c062c2_4628_11ea_bcb1_107d1a375793row10_col11 {\n",
       "            background-color:  #3f53c6;\n",
       "            color:  #f1f1f1;\n",
       "        }    #T_33c062c2_4628_11ea_bcb1_107d1a375793row10_col12 {\n",
       "            background-color:  #3f53c6;\n",
       "            color:  #f1f1f1;\n",
       "        }    #T_33c062c2_4628_11ea_bcb1_107d1a375793row10_col13 {\n",
       "            background-color:  #7699f6;\n",
       "            color:  #000000;\n",
       "        }    #T_33c062c2_4628_11ea_bcb1_107d1a375793row10_col14 {\n",
       "            background-color:  #4b64d5;\n",
       "            color:  #f1f1f1;\n",
       "        }    #T_33c062c2_4628_11ea_bcb1_107d1a375793row10_col15 {\n",
       "            background-color:  #c9d7f0;\n",
       "            color:  #000000;\n",
       "        }    #T_33c062c2_4628_11ea_bcb1_107d1a375793row10_col16 {\n",
       "            background-color:  #c4d5f3;\n",
       "            color:  #000000;\n",
       "        }    #T_33c062c2_4628_11ea_bcb1_107d1a375793row10_col17 {\n",
       "            background-color:  #adc9fd;\n",
       "            color:  #000000;\n",
       "        }    #T_33c062c2_4628_11ea_bcb1_107d1a375793row11_col0 {\n",
       "            background-color:  #5977e3;\n",
       "            color:  #000000;\n",
       "        }    #T_33c062c2_4628_11ea_bcb1_107d1a375793row11_col1 {\n",
       "            background-color:  #799cf8;\n",
       "            color:  #000000;\n",
       "        }    #T_33c062c2_4628_11ea_bcb1_107d1a375793row11_col2 {\n",
       "            background-color:  #6384eb;\n",
       "            color:  #000000;\n",
       "        }    #T_33c062c2_4628_11ea_bcb1_107d1a375793row11_col3 {\n",
       "            background-color:  #6c8ff1;\n",
       "            color:  #000000;\n",
       "        }    #T_33c062c2_4628_11ea_bcb1_107d1a375793row11_col4 {\n",
       "            background-color:  #7295f4;\n",
       "            color:  #000000;\n",
       "        }    #T_33c062c2_4628_11ea_bcb1_107d1a375793row11_col5 {\n",
       "            background-color:  #485fd1;\n",
       "            color:  #f1f1f1;\n",
       "        }    #T_33c062c2_4628_11ea_bcb1_107d1a375793row11_col6 {\n",
       "            background-color:  #4257c9;\n",
       "            color:  #f1f1f1;\n",
       "        }    #T_33c062c2_4628_11ea_bcb1_107d1a375793row11_col7 {\n",
       "            background-color:  #3f53c6;\n",
       "            color:  #f1f1f1;\n",
       "        }    #T_33c062c2_4628_11ea_bcb1_107d1a375793row11_col8 {\n",
       "            background-color:  #6b8df0;\n",
       "            color:  #000000;\n",
       "        }    #T_33c062c2_4628_11ea_bcb1_107d1a375793row11_col9 {\n",
       "            background-color:  #4358cb;\n",
       "            color:  #f1f1f1;\n",
       "        }    #T_33c062c2_4628_11ea_bcb1_107d1a375793row11_col10 {\n",
       "            background-color:  #465ecf;\n",
       "            color:  #f1f1f1;\n",
       "        }    #T_33c062c2_4628_11ea_bcb1_107d1a375793row11_col11 {\n",
       "            background-color:  #b40426;\n",
       "            color:  #f1f1f1;\n",
       "        }    #T_33c062c2_4628_11ea_bcb1_107d1a375793row11_col12 {\n",
       "            background-color:  #4055c8;\n",
       "            color:  #f1f1f1;\n",
       "        }    #T_33c062c2_4628_11ea_bcb1_107d1a375793row11_col13 {\n",
       "            background-color:  #81a4fb;\n",
       "            color:  #000000;\n",
       "        }    #T_33c062c2_4628_11ea_bcb1_107d1a375793row11_col14 {\n",
       "            background-color:  #90b2fe;\n",
       "            color:  #000000;\n",
       "        }    #T_33c062c2_4628_11ea_bcb1_107d1a375793row11_col15 {\n",
       "            background-color:  #c0d4f5;\n",
       "            color:  #000000;\n",
       "        }    #T_33c062c2_4628_11ea_bcb1_107d1a375793row11_col16 {\n",
       "            background-color:  #cbd8ee;\n",
       "            color:  #000000;\n",
       "        }    #T_33c062c2_4628_11ea_bcb1_107d1a375793row11_col17 {\n",
       "            background-color:  #aec9fc;\n",
       "            color:  #000000;\n",
       "        }    #T_33c062c2_4628_11ea_bcb1_107d1a375793row12_col0 {\n",
       "            background-color:  #5875e1;\n",
       "            color:  #000000;\n",
       "        }    #T_33c062c2_4628_11ea_bcb1_107d1a375793row12_col1 {\n",
       "            background-color:  #688aef;\n",
       "            color:  #000000;\n",
       "        }    #T_33c062c2_4628_11ea_bcb1_107d1a375793row12_col2 {\n",
       "            background-color:  #5470de;\n",
       "            color:  #000000;\n",
       "        }    #T_33c062c2_4628_11ea_bcb1_107d1a375793row12_col3 {\n",
       "            background-color:  #6c8ff1;\n",
       "            color:  #000000;\n",
       "        }    #T_33c062c2_4628_11ea_bcb1_107d1a375793row12_col4 {\n",
       "            background-color:  #7396f5;\n",
       "            color:  #000000;\n",
       "        }    #T_33c062c2_4628_11ea_bcb1_107d1a375793row12_col5 {\n",
       "            background-color:  #4a63d3;\n",
       "            color:  #f1f1f1;\n",
       "        }    #T_33c062c2_4628_11ea_bcb1_107d1a375793row12_col6 {\n",
       "            background-color:  #4358cb;\n",
       "            color:  #f1f1f1;\n",
       "        }    #T_33c062c2_4628_11ea_bcb1_107d1a375793row12_col7 {\n",
       "            background-color:  #3f53c6;\n",
       "            color:  #f1f1f1;\n",
       "        }    #T_33c062c2_4628_11ea_bcb1_107d1a375793row12_col8 {\n",
       "            background-color:  #6e90f2;\n",
       "            color:  #000000;\n",
       "        }    #T_33c062c2_4628_11ea_bcb1_107d1a375793row12_col9 {\n",
       "            background-color:  #445acc;\n",
       "            color:  #f1f1f1;\n",
       "        }    #T_33c062c2_4628_11ea_bcb1_107d1a375793row12_col10 {\n",
       "            background-color:  #485fd1;\n",
       "            color:  #f1f1f1;\n",
       "        }    #T_33c062c2_4628_11ea_bcb1_107d1a375793row12_col11 {\n",
       "            background-color:  #4358cb;\n",
       "            color:  #f1f1f1;\n",
       "        }    #T_33c062c2_4628_11ea_bcb1_107d1a375793row12_col12 {\n",
       "            background-color:  #b40426;\n",
       "            color:  #f1f1f1;\n",
       "        }    #T_33c062c2_4628_11ea_bcb1_107d1a375793row12_col13 {\n",
       "            background-color:  #7da0f9;\n",
       "            color:  #000000;\n",
       "        }    #T_33c062c2_4628_11ea_bcb1_107d1a375793row12_col14 {\n",
       "            background-color:  #5d7ce6;\n",
       "            color:  #000000;\n",
       "        }    #T_33c062c2_4628_11ea_bcb1_107d1a375793row12_col15 {\n",
       "            background-color:  #bfd3f6;\n",
       "            color:  #000000;\n",
       "        }    #T_33c062c2_4628_11ea_bcb1_107d1a375793row12_col16 {\n",
       "            background-color:  #ccd9ed;\n",
       "            color:  #000000;\n",
       "        }    #T_33c062c2_4628_11ea_bcb1_107d1a375793row12_col17 {\n",
       "            background-color:  #aec9fc;\n",
       "            color:  #000000;\n",
       "        }    #T_33c062c2_4628_11ea_bcb1_107d1a375793row13_col0 {\n",
       "            background-color:  #5977e3;\n",
       "            color:  #000000;\n",
       "        }    #T_33c062c2_4628_11ea_bcb1_107d1a375793row13_col1 {\n",
       "            background-color:  #6485ec;\n",
       "            color:  #000000;\n",
       "        }    #T_33c062c2_4628_11ea_bcb1_107d1a375793row13_col2 {\n",
       "            background-color:  #5a78e4;\n",
       "            color:  #000000;\n",
       "        }    #T_33c062c2_4628_11ea_bcb1_107d1a375793row13_col3 {\n",
       "            background-color:  #799cf8;\n",
       "            color:  #000000;\n",
       "        }    #T_33c062c2_4628_11ea_bcb1_107d1a375793row13_col4 {\n",
       "            background-color:  #3b4cc0;\n",
       "            color:  #f1f1f1;\n",
       "        }    #T_33c062c2_4628_11ea_bcb1_107d1a375793row13_col5 {\n",
       "            background-color:  #506bda;\n",
       "            color:  #000000;\n",
       "        }    #T_33c062c2_4628_11ea_bcb1_107d1a375793row13_col6 {\n",
       "            background-color:  #4c66d6;\n",
       "            color:  #000000;\n",
       "        }    #T_33c062c2_4628_11ea_bcb1_107d1a375793row13_col7 {\n",
       "            background-color:  #4a63d3;\n",
       "            color:  #f1f1f1;\n",
       "        }    #T_33c062c2_4628_11ea_bcb1_107d1a375793row13_col8 {\n",
       "            background-color:  #799cf8;\n",
       "            color:  #000000;\n",
       "        }    #T_33c062c2_4628_11ea_bcb1_107d1a375793row13_col9 {\n",
       "            background-color:  #4c66d6;\n",
       "            color:  #000000;\n",
       "        }    #T_33c062c2_4628_11ea_bcb1_107d1a375793row13_col10 {\n",
       "            background-color:  #516ddb;\n",
       "            color:  #000000;\n",
       "        }    #T_33c062c2_4628_11ea_bcb1_107d1a375793row13_col11 {\n",
       "            background-color:  #5572df;\n",
       "            color:  #000000;\n",
       "        }    #T_33c062c2_4628_11ea_bcb1_107d1a375793row13_col12 {\n",
       "            background-color:  #4f69d9;\n",
       "            color:  #000000;\n",
       "        }    #T_33c062c2_4628_11ea_bcb1_107d1a375793row13_col13 {\n",
       "            background-color:  #b40426;\n",
       "            color:  #f1f1f1;\n",
       "        }    #T_33c062c2_4628_11ea_bcb1_107d1a375793row13_col14 {\n",
       "            background-color:  #6788ee;\n",
       "            color:  #000000;\n",
       "        }    #T_33c062c2_4628_11ea_bcb1_107d1a375793row13_col15 {\n",
       "            background-color:  #cedaeb;\n",
       "            color:  #000000;\n",
       "        }    #T_33c062c2_4628_11ea_bcb1_107d1a375793row13_col16 {\n",
       "            background-color:  #cbd8ee;\n",
       "            color:  #000000;\n",
       "        }    #T_33c062c2_4628_11ea_bcb1_107d1a375793row13_col17 {\n",
       "            background-color:  #94b6ff;\n",
       "            color:  #000000;\n",
       "        }    #T_33c062c2_4628_11ea_bcb1_107d1a375793row14_col0 {\n",
       "            background-color:  #5b7ae5;\n",
       "            color:  #000000;\n",
       "        }    #T_33c062c2_4628_11ea_bcb1_107d1a375793row14_col1 {\n",
       "            background-color:  #7b9ff9;\n",
       "            color:  #000000;\n",
       "        }    #T_33c062c2_4628_11ea_bcb1_107d1a375793row14_col2 {\n",
       "            background-color:  #5f7fe8;\n",
       "            color:  #000000;\n",
       "        }    #T_33c062c2_4628_11ea_bcb1_107d1a375793row14_col3 {\n",
       "            background-color:  #9fbfff;\n",
       "            color:  #000000;\n",
       "        }    #T_33c062c2_4628_11ea_bcb1_107d1a375793row14_col4 {\n",
       "            background-color:  #7295f4;\n",
       "            color:  #000000;\n",
       "        }    #T_33c062c2_4628_11ea_bcb1_107d1a375793row14_col5 {\n",
       "            background-color:  #4c66d6;\n",
       "            color:  #000000;\n",
       "        }    #T_33c062c2_4628_11ea_bcb1_107d1a375793row14_col6 {\n",
       "            background-color:  #3d50c3;\n",
       "            color:  #f1f1f1;\n",
       "        }    #T_33c062c2_4628_11ea_bcb1_107d1a375793row14_col7 {\n",
       "            background-color:  #7295f4;\n",
       "            color:  #000000;\n",
       "        }    #T_33c062c2_4628_11ea_bcb1_107d1a375793row14_col8 {\n",
       "            background-color:  #b6cefa;\n",
       "            color:  #000000;\n",
       "        }    #T_33c062c2_4628_11ea_bcb1_107d1a375793row14_col9 {\n",
       "            background-color:  #3f53c6;\n",
       "            color:  #f1f1f1;\n",
       "        }    #T_33c062c2_4628_11ea_bcb1_107d1a375793row14_col10 {\n",
       "            background-color:  #4055c8;\n",
       "            color:  #f1f1f1;\n",
       "        }    #T_33c062c2_4628_11ea_bcb1_107d1a375793row14_col11 {\n",
       "            background-color:  #80a3fa;\n",
       "            color:  #000000;\n",
       "        }    #T_33c062c2_4628_11ea_bcb1_107d1a375793row14_col12 {\n",
       "            background-color:  #4961d2;\n",
       "            color:  #f1f1f1;\n",
       "        }    #T_33c062c2_4628_11ea_bcb1_107d1a375793row14_col13 {\n",
       "            background-color:  #81a4fb;\n",
       "            color:  #000000;\n",
       "        }    #T_33c062c2_4628_11ea_bcb1_107d1a375793row14_col14 {\n",
       "            background-color:  #b40426;\n",
       "            color:  #f1f1f1;\n",
       "        }    #T_33c062c2_4628_11ea_bcb1_107d1a375793row14_col15 {\n",
       "            background-color:  #c5d6f2;\n",
       "            color:  #000000;\n",
       "        }    #T_33c062c2_4628_11ea_bcb1_107d1a375793row14_col16 {\n",
       "            background-color:  #d8dce2;\n",
       "            color:  #000000;\n",
       "        }    #T_33c062c2_4628_11ea_bcb1_107d1a375793row14_col17 {\n",
       "            background-color:  #8db0fe;\n",
       "            color:  #000000;\n",
       "        }    #T_33c062c2_4628_11ea_bcb1_107d1a375793row15_col0 {\n",
       "            background-color:  #3f53c6;\n",
       "            color:  #f1f1f1;\n",
       "        }    #T_33c062c2_4628_11ea_bcb1_107d1a375793row15_col1 {\n",
       "            background-color:  #ccd9ed;\n",
       "            color:  #000000;\n",
       "        }    #T_33c062c2_4628_11ea_bcb1_107d1a375793row15_col2 {\n",
       "            background-color:  #3e51c5;\n",
       "            color:  #f1f1f1;\n",
       "        }    #T_33c062c2_4628_11ea_bcb1_107d1a375793row15_col3 {\n",
       "            background-color:  #536edd;\n",
       "            color:  #000000;\n",
       "        }    #T_33c062c2_4628_11ea_bcb1_107d1a375793row15_col4 {\n",
       "            background-color:  #7b9ff9;\n",
       "            color:  #000000;\n",
       "        }    #T_33c062c2_4628_11ea_bcb1_107d1a375793row15_col5 {\n",
       "            background-color:  #4a63d3;\n",
       "            color:  #f1f1f1;\n",
       "        }    #T_33c062c2_4628_11ea_bcb1_107d1a375793row15_col6 {\n",
       "            background-color:  #4257c9;\n",
       "            color:  #f1f1f1;\n",
       "        }    #T_33c062c2_4628_11ea_bcb1_107d1a375793row15_col7 {\n",
       "            background-color:  #3e51c5;\n",
       "            color:  #f1f1f1;\n",
       "        }    #T_33c062c2_4628_11ea_bcb1_107d1a375793row15_col8 {\n",
       "            background-color:  #5875e1;\n",
       "            color:  #000000;\n",
       "        }    #T_33c062c2_4628_11ea_bcb1_107d1a375793row15_col9 {\n",
       "            background-color:  #455cce;\n",
       "            color:  #f1f1f1;\n",
       "        }    #T_33c062c2_4628_11ea_bcb1_107d1a375793row15_col10 {\n",
       "            background-color:  #516ddb;\n",
       "            color:  #000000;\n",
       "        }    #T_33c062c2_4628_11ea_bcb1_107d1a375793row15_col11 {\n",
       "            background-color:  #3e51c5;\n",
       "            color:  #f1f1f1;\n",
       "        }    #T_33c062c2_4628_11ea_bcb1_107d1a375793row15_col12 {\n",
       "            background-color:  #3b4cc0;\n",
       "            color:  #f1f1f1;\n",
       "        }    #T_33c062c2_4628_11ea_bcb1_107d1a375793row15_col13 {\n",
       "            background-color:  #81a4fb;\n",
       "            color:  #000000;\n",
       "        }    #T_33c062c2_4628_11ea_bcb1_107d1a375793row15_col14 {\n",
       "            background-color:  #5875e1;\n",
       "            color:  #000000;\n",
       "        }    #T_33c062c2_4628_11ea_bcb1_107d1a375793row15_col15 {\n",
       "            background-color:  #b40426;\n",
       "            color:  #f1f1f1;\n",
       "        }    #T_33c062c2_4628_11ea_bcb1_107d1a375793row15_col16 {\n",
       "            background-color:  #3b4cc0;\n",
       "            color:  #f1f1f1;\n",
       "        }    #T_33c062c2_4628_11ea_bcb1_107d1a375793row15_col17 {\n",
       "            background-color:  #3b4cc0;\n",
       "            color:  #f1f1f1;\n",
       "        }    #T_33c062c2_4628_11ea_bcb1_107d1a375793row16_col0 {\n",
       "            background-color:  #6a8bef;\n",
       "            color:  #000000;\n",
       "        }    #T_33c062c2_4628_11ea_bcb1_107d1a375793row16_col1 {\n",
       "            background-color:  #3e51c5;\n",
       "            color:  #f1f1f1;\n",
       "        }    #T_33c062c2_4628_11ea_bcb1_107d1a375793row16_col2 {\n",
       "            background-color:  #799cf8;\n",
       "            color:  #000000;\n",
       "        }    #T_33c062c2_4628_11ea_bcb1_107d1a375793row16_col3 {\n",
       "            background-color:  #ccd9ed;\n",
       "            color:  #000000;\n",
       "        }    #T_33c062c2_4628_11ea_bcb1_107d1a375793row16_col4 {\n",
       "            background-color:  #7396f5;\n",
       "            color:  #000000;\n",
       "        }    #T_33c062c2_4628_11ea_bcb1_107d1a375793row16_col5 {\n",
       "            background-color:  #5470de;\n",
       "            color:  #000000;\n",
       "        }    #T_33c062c2_4628_11ea_bcb1_107d1a375793row16_col6 {\n",
       "            background-color:  #4961d2;\n",
       "            color:  #f1f1f1;\n",
       "        }    #T_33c062c2_4628_11ea_bcb1_107d1a375793row16_col7 {\n",
       "            background-color:  #4f69d9;\n",
       "            color:  #000000;\n",
       "        }    #T_33c062c2_4628_11ea_bcb1_107d1a375793row16_col8 {\n",
       "            background-color:  #d3dbe7;\n",
       "            color:  #000000;\n",
       "        }    #T_33c062c2_4628_11ea_bcb1_107d1a375793row16_col9 {\n",
       "            background-color:  #4358cb;\n",
       "            color:  #f1f1f1;\n",
       "        }    #T_33c062c2_4628_11ea_bcb1_107d1a375793row16_col10 {\n",
       "            background-color:  #4a63d3;\n",
       "            color:  #f1f1f1;\n",
       "        }    #T_33c062c2_4628_11ea_bcb1_107d1a375793row16_col11 {\n",
       "            background-color:  #506bda;\n",
       "            color:  #000000;\n",
       "        }    #T_33c062c2_4628_11ea_bcb1_107d1a375793row16_col12 {\n",
       "            background-color:  #4f69d9;\n",
       "            color:  #000000;\n",
       "        }    #T_33c062c2_4628_11ea_bcb1_107d1a375793row16_col13 {\n",
       "            background-color:  #7b9ff9;\n",
       "            color:  #000000;\n",
       "        }    #T_33c062c2_4628_11ea_bcb1_107d1a375793row16_col14 {\n",
       "            background-color:  #7a9df8;\n",
       "            color:  #000000;\n",
       "        }    #T_33c062c2_4628_11ea_bcb1_107d1a375793row16_col15 {\n",
       "            background-color:  #3b4cc0;\n",
       "            color:  #f1f1f1;\n",
       "        }    #T_33c062c2_4628_11ea_bcb1_107d1a375793row16_col16 {\n",
       "            background-color:  #b40426;\n",
       "            color:  #f1f1f1;\n",
       "        }    #T_33c062c2_4628_11ea_bcb1_107d1a375793row16_col17 {\n",
       "            background-color:  #7295f4;\n",
       "            color:  #000000;\n",
       "        }    #T_33c062c2_4628_11ea_bcb1_107d1a375793row17_col0 {\n",
       "            background-color:  #3b4cc0;\n",
       "            color:  #f1f1f1;\n",
       "        }    #T_33c062c2_4628_11ea_bcb1_107d1a375793row17_col1 {\n",
       "            background-color:  #3b4cc0;\n",
       "            color:  #f1f1f1;\n",
       "        }    #T_33c062c2_4628_11ea_bcb1_107d1a375793row17_col2 {\n",
       "            background-color:  #3b4cc0;\n",
       "            color:  #f1f1f1;\n",
       "        }    #T_33c062c2_4628_11ea_bcb1_107d1a375793row17_col3 {\n",
       "            background-color:  #3b4cc0;\n",
       "            color:  #f1f1f1;\n",
       "        }    #T_33c062c2_4628_11ea_bcb1_107d1a375793row17_col4 {\n",
       "            background-color:  #6e90f2;\n",
       "            color:  #000000;\n",
       "        }    #T_33c062c2_4628_11ea_bcb1_107d1a375793row17_col5 {\n",
       "            background-color:  #5572df;\n",
       "            color:  #000000;\n",
       "        }    #T_33c062c2_4628_11ea_bcb1_107d1a375793row17_col6 {\n",
       "            background-color:  #506bda;\n",
       "            color:  #000000;\n",
       "        }    #T_33c062c2_4628_11ea_bcb1_107d1a375793row17_col7 {\n",
       "            background-color:  #3c4ec2;\n",
       "            color:  #f1f1f1;\n",
       "        }    #T_33c062c2_4628_11ea_bcb1_107d1a375793row17_col8 {\n",
       "            background-color:  #3b4cc0;\n",
       "            color:  #f1f1f1;\n",
       "        }    #T_33c062c2_4628_11ea_bcb1_107d1a375793row17_col9 {\n",
       "            background-color:  #5d7ce6;\n",
       "            color:  #000000;\n",
       "        }    #T_33c062c2_4628_11ea_bcb1_107d1a375793row17_col10 {\n",
       "            background-color:  #5470de;\n",
       "            color:  #000000;\n",
       "        }    #T_33c062c2_4628_11ea_bcb1_107d1a375793row17_col11 {\n",
       "            background-color:  #4f69d9;\n",
       "            color:  #000000;\n",
       "        }    #T_33c062c2_4628_11ea_bcb1_107d1a375793row17_col12 {\n",
       "            background-color:  #4e68d8;\n",
       "            color:  #000000;\n",
       "        }    #T_33c062c2_4628_11ea_bcb1_107d1a375793row17_col13 {\n",
       "            background-color:  #5d7ce6;\n",
       "            color:  #000000;\n",
       "        }    #T_33c062c2_4628_11ea_bcb1_107d1a375793row17_col14 {\n",
       "            background-color:  #3b4cc0;\n",
       "            color:  #f1f1f1;\n",
       "        }    #T_33c062c2_4628_11ea_bcb1_107d1a375793row17_col15 {\n",
       "            background-color:  #6485ec;\n",
       "            color:  #000000;\n",
       "        }    #T_33c062c2_4628_11ea_bcb1_107d1a375793row17_col16 {\n",
       "            background-color:  #9abbff;\n",
       "            color:  #000000;\n",
       "        }    #T_33c062c2_4628_11ea_bcb1_107d1a375793row17_col17 {\n",
       "            background-color:  #b40426;\n",
       "            color:  #f1f1f1;\n",
       "        }</style><table id=\"T_33c062c2_4628_11ea_bcb1_107d1a375793\" ><thead>    <tr>        <th class=\"blank level0\" ></th>        <th class=\"col_heading level0 col0\" >Installs</th>        <th class=\"col_heading level0 col1\" >Rating</th>        <th class=\"col_heading level0 col2\" >Reviews</th>        <th class=\"col_heading level0 col3\" >Size</th>        <th class=\"col_heading level0 col4\" >Price</th>        <th class=\"col_heading level0 col5\" >Category_COMMUNICATION</th>        <th class=\"col_heading level0 col6\" >Category_TRAVEL_AND_LOCAL</th>        <th class=\"col_heading level0 col7\" >Category_ENTERTAINMENT</th>        <th class=\"col_heading level0 col8\" >Category_GAME</th>        <th class=\"col_heading level0 col9\" >Category_PHOTOGRAPHY</th>        <th class=\"col_heading level0 col10\" >Category_PRODUCTIVITY</th>        <th class=\"col_heading level0 col11\" >Category_SOCIAL</th>        <th class=\"col_heading level0 col12\" >Category_VIDEO_PLAYERS</th>        <th class=\"col_heading level0 col13\" >Type_Free</th>        <th class=\"col_heading level0 col14\" >Content Rating_Teen</th>        <th class=\"col_heading level0 col15\" >Positive</th>        <th class=\"col_heading level0 col16\" >Negative</th>        <th class=\"col_heading level0 col17\" >Neutral</th>    </tr></thead><tbody>\n",
       "                <tr>\n",
       "                        <th id=\"T_33c062c2_4628_11ea_bcb1_107d1a375793level0_row0\" class=\"row_heading level0 row0\" >Installs</th>\n",
       "                        <td id=\"T_33c062c2_4628_11ea_bcb1_107d1a375793row0_col0\" class=\"data row0 col0\" >1</td>\n",
       "                        <td id=\"T_33c062c2_4628_11ea_bcb1_107d1a375793row0_col1\" class=\"data row0 col1\" >0.040308</td>\n",
       "                        <td id=\"T_33c062c2_4628_11ea_bcb1_107d1a375793row0_col2\" class=\"data row0 col2\" >0.625039</td>\n",
       "                        <td id=\"T_33c062c2_4628_11ea_bcb1_107d1a375793row0_col3\" class=\"data row0 col3\" >0.0420317</td>\n",
       "                        <td id=\"T_33c062c2_4628_11ea_bcb1_107d1a375793row0_col4\" class=\"data row0 col4\" >-0.00940555</td>\n",
       "                        <td id=\"T_33c062c2_4628_11ea_bcb1_107d1a375793row0_col5\" class=\"data row0 col5\" >0.0928498</td>\n",
       "                        <td id=\"T_33c062c2_4628_11ea_bcb1_107d1a375793row0_col6\" class=\"data row0 col6\" >0.0153806</td>\n",
       "                        <td id=\"T_33c062c2_4628_11ea_bcb1_107d1a375793row0_col7\" class=\"data row0 col7\" >0.0207028</td>\n",
       "                        <td id=\"T_33c062c2_4628_11ea_bcb1_107d1a375793row0_col8\" class=\"data row0 col8\" >0.025154</td>\n",
       "                        <td id=\"T_33c062c2_4628_11ea_bcb1_107d1a375793row0_col9\" class=\"data row0 col9\" >0.028292</td>\n",
       "                        <td id=\"T_33c062c2_4628_11ea_bcb1_107d1a375793row0_col10\" class=\"data row0 col10\" >0.0286933</td>\n",
       "                        <td id=\"T_33c062c2_4628_11ea_bcb1_107d1a375793row0_col11\" class=\"data row0 col11\" >0.044949</td>\n",
       "                        <td id=\"T_33c062c2_4628_11ea_bcb1_107d1a375793row0_col12\" class=\"data row0 col12\" >0.0395765</td>\n",
       "                        <td id=\"T_33c062c2_4628_11ea_bcb1_107d1a375793row0_col13\" class=\"data row0 col13\" >0.0418044</td>\n",
       "                        <td id=\"T_33c062c2_4628_11ea_bcb1_107d1a375793row0_col14\" class=\"data row0 col14\" >0.0523384</td>\n",
       "                        <td id=\"T_33c062c2_4628_11ea_bcb1_107d1a375793row0_col15\" class=\"data row0 col15\" >-0.0431461</td>\n",
       "                        <td id=\"T_33c062c2_4628_11ea_bcb1_107d1a375793row0_col16\" class=\"data row0 col16\" >0.0971842</td>\n",
       "                        <td id=\"T_33c062c2_4628_11ea_bcb1_107d1a375793row0_col17\" class=\"data row0 col17\" >-0.062318</td>\n",
       "            </tr>\n",
       "            <tr>\n",
       "                        <th id=\"T_33c062c2_4628_11ea_bcb1_107d1a375793level0_row1\" class=\"row_heading level0 row1\" >Rating</th>\n",
       "                        <td id=\"T_33c062c2_4628_11ea_bcb1_107d1a375793row1_col0\" class=\"data row1 col0\" >0.040308</td>\n",
       "                        <td id=\"T_33c062c2_4628_11ea_bcb1_107d1a375793row1_col1\" class=\"data row1 col1\" >1</td>\n",
       "                        <td id=\"T_33c062c2_4628_11ea_bcb1_107d1a375793row1_col2\" class=\"data row1 col2\" >0.0550838</td>\n",
       "                        <td id=\"T_33c062c2_4628_11ea_bcb1_107d1a375793row1_col3\" class=\"data row1 col3\" >0.0580508</td>\n",
       "                        <td id=\"T_33c062c2_4628_11ea_bcb1_107d1a375793row1_col4\" class=\"data row1 col4\" >-0.019524</td>\n",
       "                        <td id=\"T_33c062c2_4628_11ea_bcb1_107d1a375793row1_col5\" class=\"data row1 col5\" >-0.0188996</td>\n",
       "                        <td id=\"T_33c062c2_4628_11ea_bcb1_107d1a375793row1_col6\" class=\"data row1 col6\" >-0.0315865</td>\n",
       "                        <td id=\"T_33c062c2_4628_11ea_bcb1_107d1a375793row1_col7\" class=\"data row1 col7\" >-0.0110631</td>\n",
       "                        <td id=\"T_33c062c2_4628_11ea_bcb1_107d1a375793row1_col8\" class=\"data row1 col8\" >0.0471323</td>\n",
       "                        <td id=\"T_33c062c2_4628_11ea_bcb1_107d1a375793row1_col9\" class=\"data row1 col9\" >-0.00574999</td>\n",
       "                        <td id=\"T_33c062c2_4628_11ea_bcb1_107d1a375793row1_col10\" class=\"data row1 col10\" >0.0044599</td>\n",
       "                        <td id=\"T_33c062c2_4628_11ea_bcb1_107d1a375793row1_col11\" class=\"data row1 col11\" >0.0240631</td>\n",
       "                        <td id=\"T_33c062c2_4628_11ea_bcb1_107d1a375793row1_col12\" class=\"data row1 col12\" >-0.0341113</td>\n",
       "                        <td id=\"T_33c062c2_4628_11ea_bcb1_107d1a375793row1_col13\" class=\"data row1 col13\" >-0.0453924</td>\n",
       "                        <td id=\"T_33c062c2_4628_11ea_bcb1_107d1a375793row1_col14\" class=\"data row1 col14\" >0.0358938</td>\n",
       "                        <td id=\"T_33c062c2_4628_11ea_bcb1_107d1a375793row1_col15\" class=\"data row1 col15\" >0.321744</td>\n",
       "                        <td id=\"T_33c062c2_4628_11ea_bcb1_107d1a375793row1_col16\" class=\"data row1 col16\" >-0.193836</td>\n",
       "                        <td id=\"T_33c062c2_4628_11ea_bcb1_107d1a375793row1_col17\" class=\"data row1 col17\" >-0.209065</td>\n",
       "            </tr>\n",
       "            <tr>\n",
       "                        <th id=\"T_33c062c2_4628_11ea_bcb1_107d1a375793level0_row2\" class=\"row_heading level0 row2\" >Reviews</th>\n",
       "                        <td id=\"T_33c062c2_4628_11ea_bcb1_107d1a375793row2_col0\" class=\"data row2 col0\" >0.625039</td>\n",
       "                        <td id=\"T_33c062c2_4628_11ea_bcb1_107d1a375793row2_col1\" class=\"data row2 col1\" >0.0550838</td>\n",
       "                        <td id=\"T_33c062c2_4628_11ea_bcb1_107d1a375793row2_col2\" class=\"data row2 col2\" >1</td>\n",
       "                        <td id=\"T_33c062c2_4628_11ea_bcb1_107d1a375793row2_col3\" class=\"data row2 col3\" >0.0765438</td>\n",
       "                        <td id=\"T_33c062c2_4628_11ea_bcb1_107d1a375793row2_col4\" class=\"data row2 col4\" >-0.00758772</td>\n",
       "                        <td id=\"T_33c062c2_4628_11ea_bcb1_107d1a375793row2_col5\" class=\"data row2 col5\" >0.0691139</td>\n",
       "                        <td id=\"T_33c062c2_4628_11ea_bcb1_107d1a375793row2_col6\" class=\"data row2 col6\" >-0.00782711</td>\n",
       "                        <td id=\"T_33c062c2_4628_11ea_bcb1_107d1a375793row2_col7\" class=\"data row2 col7\" >0.00176914</td>\n",
       "                        <td id=\"T_33c062c2_4628_11ea_bcb1_107d1a375793row2_col8\" class=\"data row2 col8\" >0.0458477</td>\n",
       "                        <td id=\"T_33c062c2_4628_11ea_bcb1_107d1a375793row2_col9\" class=\"data row2 col9\" >0.0150465</td>\n",
       "                        <td id=\"T_33c062c2_4628_11ea_bcb1_107d1a375793row2_col10\" class=\"data row2 col10\" >-0.00744799</td>\n",
       "                        <td id=\"T_33c062c2_4628_11ea_bcb1_107d1a375793row2_col11\" class=\"data row2 col11\" >0.0640916</td>\n",
       "                        <td id=\"T_33c062c2_4628_11ea_bcb1_107d1a375793row2_col12\" class=\"data row2 col12\" >0.0140644</td>\n",
       "                        <td id=\"T_33c062c2_4628_11ea_bcb1_107d1a375793row2_col13\" class=\"data row2 col13\" >0.0330763</td>\n",
       "                        <td id=\"T_33c062c2_4628_11ea_bcb1_107d1a375793row2_col14\" class=\"data row2 col14\" >0.0509057</td>\n",
       "                        <td id=\"T_33c062c2_4628_11ea_bcb1_107d1a375793row2_col15\" class=\"data row2 col15\" >-0.0639309</td>\n",
       "                        <td id=\"T_33c062c2_4628_11ea_bcb1_107d1a375793row2_col16\" class=\"data row2 col16\" >0.132257</td>\n",
       "                        <td id=\"T_33c062c2_4628_11ea_bcb1_107d1a375793row2_col17\" class=\"data row2 col17\" >-0.0774333</td>\n",
       "            </tr>\n",
       "            <tr>\n",
       "                        <th id=\"T_33c062c2_4628_11ea_bcb1_107d1a375793level0_row3\" class=\"row_heading level0 row3\" >Size</th>\n",
       "                        <td id=\"T_33c062c2_4628_11ea_bcb1_107d1a375793row3_col0\" class=\"data row3 col0\" >0.0420317</td>\n",
       "                        <td id=\"T_33c062c2_4628_11ea_bcb1_107d1a375793row3_col1\" class=\"data row3 col1\" >0.0580508</td>\n",
       "                        <td id=\"T_33c062c2_4628_11ea_bcb1_107d1a375793row3_col2\" class=\"data row3 col2\" >0.0765438</td>\n",
       "                        <td id=\"T_33c062c2_4628_11ea_bcb1_107d1a375793row3_col3\" class=\"data row3 col3\" >1</td>\n",
       "                        <td id=\"T_33c062c2_4628_11ea_bcb1_107d1a375793row3_col4\" class=\"data row3 col4\" >-0.0216784</td>\n",
       "                        <td id=\"T_33c062c2_4628_11ea_bcb1_107d1a375793row3_col5\" class=\"data row3 col5\" >-0.078759</td>\n",
       "                        <td id=\"T_33c062c2_4628_11ea_bcb1_107d1a375793row3_col6\" class=\"data row3 col6\" >0.0299089</td>\n",
       "                        <td id=\"T_33c062c2_4628_11ea_bcb1_107d1a375793row3_col7\" class=\"data row3 col7\" >0.0107406</td>\n",
       "                        <td id=\"T_33c062c2_4628_11ea_bcb1_107d1a375793row3_col8\" class=\"data row3 col8\" >0.340937</td>\n",
       "                        <td id=\"T_33c062c2_4628_11ea_bcb1_107d1a375793row3_col9\" class=\"data row3 col9\" >-0.0350389</td>\n",
       "                        <td id=\"T_33c062c2_4628_11ea_bcb1_107d1a375793row3_col10\" class=\"data row3 col10\" >-0.0754954</td>\n",
       "                        <td id=\"T_33c062c2_4628_11ea_bcb1_107d1a375793row3_col11\" class=\"data row3 col11\" >-0.0301614</td>\n",
       "                        <td id=\"T_33c062c2_4628_11ea_bcb1_107d1a375793row3_col12\" class=\"data row3 col12\" >-0.0275999</td>\n",
       "                        <td id=\"T_33c062c2_4628_11ea_bcb1_107d1a375793row3_col13\" class=\"data row3 col13\" >0.0155771</td>\n",
       "                        <td id=\"T_33c062c2_4628_11ea_bcb1_107d1a375793row3_col14\" class=\"data row3 col14\" >0.150183</td>\n",
       "                        <td id=\"T_33c062c2_4628_11ea_bcb1_107d1a375793row3_col15\" class=\"data row3 col15\" >-0.124378</td>\n",
       "                        <td id=\"T_33c062c2_4628_11ea_bcb1_107d1a375793row3_col16\" class=\"data row3 col16\" >0.313275</td>\n",
       "                        <td id=\"T_33c062c2_4628_11ea_bcb1_107d1a375793row3_col17\" class=\"data row3 col17\" >-0.221681</td>\n",
       "            </tr>\n",
       "            <tr>\n",
       "                        <th id=\"T_33c062c2_4628_11ea_bcb1_107d1a375793level0_row4\" class=\"row_heading level0 row4\" >Price</th>\n",
       "                        <td id=\"T_33c062c2_4628_11ea_bcb1_107d1a375793row4_col0\" class=\"data row4 col0\" >-0.00940555</td>\n",
       "                        <td id=\"T_33c062c2_4628_11ea_bcb1_107d1a375793row4_col1\" class=\"data row4 col1\" >-0.019524</td>\n",
       "                        <td id=\"T_33c062c2_4628_11ea_bcb1_107d1a375793row4_col2\" class=\"data row4 col2\" >-0.00758772</td>\n",
       "                        <td id=\"T_33c062c2_4628_11ea_bcb1_107d1a375793row4_col3\" class=\"data row4 col3\" >-0.0216784</td>\n",
       "                        <td id=\"T_33c062c2_4628_11ea_bcb1_107d1a375793row4_col4\" class=\"data row4 col4\" >1</td>\n",
       "                        <td id=\"T_33c062c2_4628_11ea_bcb1_107d1a375793row4_col5\" class=\"data row4 col5\" >-0.0091003</td>\n",
       "                        <td id=\"T_33c062c2_4628_11ea_bcb1_107d1a375793row4_col6\" class=\"data row4 col6\" >-0.00785344</td>\n",
       "                        <td id=\"T_33c062c2_4628_11ea_bcb1_107d1a375793row4_col7\" class=\"data row4 col7\" >-0.00595387</td>\n",
       "                        <td id=\"T_33c062c2_4628_11ea_bcb1_107d1a375793row4_col8\" class=\"data row4 col8\" >-0.0154801</td>\n",
       "                        <td id=\"T_33c062c2_4628_11ea_bcb1_107d1a375793row4_col9\" class=\"data row4 col9\" >-0.0069443</td>\n",
       "                        <td id=\"T_33c062c2_4628_11ea_bcb1_107d1a375793row4_col10\" class=\"data row4 col10\" >-0.00507378</td>\n",
       "                        <td id=\"T_33c062c2_4628_11ea_bcb1_107d1a375793row4_col11\" class=\"data row4 col11\" >-0.00973724</td>\n",
       "                        <td id=\"T_33c062c2_4628_11ea_bcb1_107d1a375793row4_col12\" class=\"data row4 col12\" >-0.00802976</td>\n",
       "                        <td id=\"T_33c062c2_4628_11ea_bcb1_107d1a375793row4_col13\" class=\"data row4 col13\" >-0.223586</td>\n",
       "                        <td id=\"T_33c062c2_4628_11ea_bcb1_107d1a375793row4_col14\" class=\"data row4 col14\" >-0.00955066</td>\n",
       "                        <td id=\"T_33c062c2_4628_11ea_bcb1_107d1a375793row4_col15\" class=\"data row4 col15\" >0.0240787</td>\n",
       "                        <td id=\"T_33c062c2_4628_11ea_bcb1_107d1a375793row4_col16\" class=\"data row4 col16\" >-0.00682907</td>\n",
       "                        <td id=\"T_33c062c2_4628_11ea_bcb1_107d1a375793row4_col17\" class=\"data row4 col17\" >-0.0253898</td>\n",
       "            </tr>\n",
       "            <tr>\n",
       "                        <th id=\"T_33c062c2_4628_11ea_bcb1_107d1a375793level0_row5\" class=\"row_heading level0 row5\" >Category_COMMUNICATION</th>\n",
       "                        <td id=\"T_33c062c2_4628_11ea_bcb1_107d1a375793row5_col0\" class=\"data row5 col0\" >0.0928498</td>\n",
       "                        <td id=\"T_33c062c2_4628_11ea_bcb1_107d1a375793row5_col1\" class=\"data row5 col1\" >-0.0188996</td>\n",
       "                        <td id=\"T_33c062c2_4628_11ea_bcb1_107d1a375793row5_col2\" class=\"data row5 col2\" >0.0691139</td>\n",
       "                        <td id=\"T_33c062c2_4628_11ea_bcb1_107d1a375793row5_col3\" class=\"data row5 col3\" >-0.078759</td>\n",
       "                        <td id=\"T_33c062c2_4628_11ea_bcb1_107d1a375793row5_col4\" class=\"data row5 col4\" >-0.0091003</td>\n",
       "                        <td id=\"T_33c062c2_4628_11ea_bcb1_107d1a375793row5_col5\" class=\"data row5 col5\" >1</td>\n",
       "                        <td id=\"T_33c062c2_4628_11ea_bcb1_107d1a375793row5_col6\" class=\"data row5 col6\" >-0.0278425</td>\n",
       "                        <td id=\"T_33c062c2_4628_11ea_bcb1_107d1a375793row5_col7\" class=\"data row5 col7\" >-0.0181222</td>\n",
       "                        <td id=\"T_33c062c2_4628_11ea_bcb1_107d1a375793row5_col8\" class=\"data row5 col8\" >-0.0600061</td>\n",
       "                        <td id=\"T_33c062c2_4628_11ea_bcb1_107d1a375793row5_col9\" class=\"data row5 col9\" >-0.0316418</td>\n",
       "                        <td id=\"T_33c062c2_4628_11ea_bcb1_107d1a375793row5_col10\" class=\"data row5 col10\" >-0.0366856</td>\n",
       "                        <td id=\"T_33c062c2_4628_11ea_bcb1_107d1a375793row5_col11\" class=\"data row5 col11\" >-0.0291168</td>\n",
       "                        <td id=\"T_33c062c2_4628_11ea_bcb1_107d1a375793row5_col12\" class=\"data row5 col12\" >-0.0239499</td>\n",
       "                        <td id=\"T_33c062c2_4628_11ea_bcb1_107d1a375793row5_col13\" class=\"data row5 col13\" >-0.00172269</td>\n",
       "                        <td id=\"T_33c062c2_4628_11ea_bcb1_107d1a375793row5_col14\" class=\"data row5 col14\" >-0.012641</td>\n",
       "                        <td id=\"T_33c062c2_4628_11ea_bcb1_107d1a375793row5_col15\" class=\"data row5 col15\" >-0.0216942</td>\n",
       "                        <td id=\"T_33c062c2_4628_11ea_bcb1_107d1a375793row5_col16\" class=\"data row5 col16\" >0.0106679</td>\n",
       "                        <td id=\"T_33c062c2_4628_11ea_bcb1_107d1a375793row5_col17\" class=\"data row5 col17\" >0.0172907</td>\n",
       "            </tr>\n",
       "            <tr>\n",
       "                        <th id=\"T_33c062c2_4628_11ea_bcb1_107d1a375793level0_row6\" class=\"row_heading level0 row6\" >Category_TRAVEL_AND_LOCAL</th>\n",
       "                        <td id=\"T_33c062c2_4628_11ea_bcb1_107d1a375793row6_col0\" class=\"data row6 col0\" >0.0153806</td>\n",
       "                        <td id=\"T_33c062c2_4628_11ea_bcb1_107d1a375793row6_col1\" class=\"data row6 col1\" >-0.0315865</td>\n",
       "                        <td id=\"T_33c062c2_4628_11ea_bcb1_107d1a375793row6_col2\" class=\"data row6 col2\" >-0.00782711</td>\n",
       "                        <td id=\"T_33c062c2_4628_11ea_bcb1_107d1a375793row6_col3\" class=\"data row6 col3\" >0.0299089</td>\n",
       "                        <td id=\"T_33c062c2_4628_11ea_bcb1_107d1a375793row6_col4\" class=\"data row6 col4\" >-0.00785344</td>\n",
       "                        <td id=\"T_33c062c2_4628_11ea_bcb1_107d1a375793row6_col5\" class=\"data row6 col5\" >-0.0278425</td>\n",
       "                        <td id=\"T_33c062c2_4628_11ea_bcb1_107d1a375793row6_col6\" class=\"data row6 col6\" >1</td>\n",
       "                        <td id=\"T_33c062c2_4628_11ea_bcb1_107d1a375793row6_col7\" class=\"data row6 col7\" >-0.0150093</td>\n",
       "                        <td id=\"T_33c062c2_4628_11ea_bcb1_107d1a375793row6_col8\" class=\"data row6 col8\" >-0.0496986</td>\n",
       "                        <td id=\"T_33c062c2_4628_11ea_bcb1_107d1a375793row6_col9\" class=\"data row6 col9\" >-0.0262066</td>\n",
       "                        <td id=\"T_33c062c2_4628_11ea_bcb1_107d1a375793row6_col10\" class=\"data row6 col10\" >-0.030384</td>\n",
       "                        <td id=\"T_33c062c2_4628_11ea_bcb1_107d1a375793row6_col11\" class=\"data row6 col11\" >-0.0241153</td>\n",
       "                        <td id=\"T_33c062c2_4628_11ea_bcb1_107d1a375793row6_col12\" class=\"data row6 col12\" >-0.0198359</td>\n",
       "                        <td id=\"T_33c062c2_4628_11ea_bcb1_107d1a375793row6_col13\" class=\"data row6 col13\" >0.0154568</td>\n",
       "                        <td id=\"T_33c062c2_4628_11ea_bcb1_107d1a375793row6_col14\" class=\"data row6 col14\" >-0.0390167</td>\n",
       "                        <td id=\"T_33c062c2_4628_11ea_bcb1_107d1a375793row6_col15\" class=\"data row6 col15\" >-0.0221196</td>\n",
       "                        <td id=\"T_33c062c2_4628_11ea_bcb1_107d1a375793row6_col16\" class=\"data row6 col16\" >0.0035902</td>\n",
       "                        <td id=\"T_33c062c2_4628_11ea_bcb1_107d1a375793row6_col17\" class=\"data row6 col17\" >0.0268978</td>\n",
       "            </tr>\n",
       "            <tr>\n",
       "                        <th id=\"T_33c062c2_4628_11ea_bcb1_107d1a375793level0_row7\" class=\"row_heading level0 row7\" >Category_ENTERTAINMENT</th>\n",
       "                        <td id=\"T_33c062c2_4628_11ea_bcb1_107d1a375793row7_col0\" class=\"data row7 col0\" >0.0207028</td>\n",
       "                        <td id=\"T_33c062c2_4628_11ea_bcb1_107d1a375793row7_col1\" class=\"data row7 col1\" >-0.0110631</td>\n",
       "                        <td id=\"T_33c062c2_4628_11ea_bcb1_107d1a375793row7_col2\" class=\"data row7 col2\" >0.00176914</td>\n",
       "                        <td id=\"T_33c062c2_4628_11ea_bcb1_107d1a375793row7_col3\" class=\"data row7 col3\" >0.0107406</td>\n",
       "                        <td id=\"T_33c062c2_4628_11ea_bcb1_107d1a375793row7_col4\" class=\"data row7 col4\" >-0.00595387</td>\n",
       "                        <td id=\"T_33c062c2_4628_11ea_bcb1_107d1a375793row7_col5\" class=\"data row7 col5\" >-0.0181222</td>\n",
       "                        <td id=\"T_33c062c2_4628_11ea_bcb1_107d1a375793row7_col6\" class=\"data row7 col6\" >-0.0150093</td>\n",
       "                        <td id=\"T_33c062c2_4628_11ea_bcb1_107d1a375793row7_col7\" class=\"data row7 col7\" >1</td>\n",
       "                        <td id=\"T_33c062c2_4628_11ea_bcb1_107d1a375793row7_col8\" class=\"data row7 col8\" >-0.032348</td>\n",
       "                        <td id=\"T_33c062c2_4628_11ea_bcb1_107d1a375793row7_col9\" class=\"data row7 col9\" >-0.0170574</td>\n",
       "                        <td id=\"T_33c062c2_4628_11ea_bcb1_107d1a375793row7_col10\" class=\"data row7 col10\" >-0.0197764</td>\n",
       "                        <td id=\"T_33c062c2_4628_11ea_bcb1_107d1a375793row7_col11\" class=\"data row7 col11\" >-0.0156962</td>\n",
       "                        <td id=\"T_33c062c2_4628_11ea_bcb1_107d1a375793row7_col12\" class=\"data row7 col12\" >-0.0129109</td>\n",
       "                        <td id=\"T_33c062c2_4628_11ea_bcb1_107d1a375793row7_col13\" class=\"data row7 col13\" >0.0220786</td>\n",
       "                        <td id=\"T_33c062c2_4628_11ea_bcb1_107d1a375793row7_col14\" class=\"data row7 col14\" >0.14632</td>\n",
       "                        <td id=\"T_33c062c2_4628_11ea_bcb1_107d1a375793row7_col15\" class=\"data row7 col15\" >-0.0179122</td>\n",
       "                        <td id=\"T_33c062c2_4628_11ea_bcb1_107d1a375793row7_col16\" class=\"data row7 col16\" >0.0400919</td>\n",
       "                        <td id=\"T_33c062c2_4628_11ea_bcb1_107d1a375793row7_col17\" class=\"data row7 col17\" >-0.0255125</td>\n",
       "            </tr>\n",
       "            <tr>\n",
       "                        <th id=\"T_33c062c2_4628_11ea_bcb1_107d1a375793level0_row8\" class=\"row_heading level0 row8\" >Category_GAME</th>\n",
       "                        <td id=\"T_33c062c2_4628_11ea_bcb1_107d1a375793row8_col0\" class=\"data row8 col0\" >0.025154</td>\n",
       "                        <td id=\"T_33c062c2_4628_11ea_bcb1_107d1a375793row8_col1\" class=\"data row8 col1\" >0.0471323</td>\n",
       "                        <td id=\"T_33c062c2_4628_11ea_bcb1_107d1a375793row8_col2\" class=\"data row8 col2\" >0.0458477</td>\n",
       "                        <td id=\"T_33c062c2_4628_11ea_bcb1_107d1a375793row8_col3\" class=\"data row8 col3\" >0.340937</td>\n",
       "                        <td id=\"T_33c062c2_4628_11ea_bcb1_107d1a375793row8_col4\" class=\"data row8 col4\" >-0.0154801</td>\n",
       "                        <td id=\"T_33c062c2_4628_11ea_bcb1_107d1a375793row8_col5\" class=\"data row8 col5\" >-0.0600061</td>\n",
       "                        <td id=\"T_33c062c2_4628_11ea_bcb1_107d1a375793row8_col6\" class=\"data row8 col6\" >-0.0496986</td>\n",
       "                        <td id=\"T_33c062c2_4628_11ea_bcb1_107d1a375793row8_col7\" class=\"data row8 col7\" >-0.032348</td>\n",
       "                        <td id=\"T_33c062c2_4628_11ea_bcb1_107d1a375793row8_col8\" class=\"data row8 col8\" >1</td>\n",
       "                        <td id=\"T_33c062c2_4628_11ea_bcb1_107d1a375793row8_col9\" class=\"data row8 col9\" >-0.0564804</td>\n",
       "                        <td id=\"T_33c062c2_4628_11ea_bcb1_107d1a375793row8_col10\" class=\"data row8 col10\" >-0.0654834</td>\n",
       "                        <td id=\"T_33c062c2_4628_11ea_bcb1_107d1a375793row8_col11\" class=\"data row8 col11\" >-0.0519732</td>\n",
       "                        <td id=\"T_33c062c2_4628_11ea_bcb1_107d1a375793row8_col12\" class=\"data row8 col12\" >-0.0427503</td>\n",
       "                        <td id=\"T_33c062c2_4628_11ea_bcb1_107d1a375793row8_col13\" class=\"data row8 col13\" >-0.00520136</td>\n",
       "                        <td id=\"T_33c062c2_4628_11ea_bcb1_107d1a375793row8_col14\" class=\"data row8 col14\" >0.217256</td>\n",
       "                        <td id=\"T_33c062c2_4628_11ea_bcb1_107d1a375793row8_col15\" class=\"data row8 col15\" >-0.123311</td>\n",
       "                        <td id=\"T_33c062c2_4628_11ea_bcb1_107d1a375793row8_col16\" class=\"data row8 col16\" >0.329638</td>\n",
       "                        <td id=\"T_33c062c2_4628_11ea_bcb1_107d1a375793row8_col17\" class=\"data row8 col17\" >-0.243853</td>\n",
       "            </tr>\n",
       "            <tr>\n",
       "                        <th id=\"T_33c062c2_4628_11ea_bcb1_107d1a375793level0_row9\" class=\"row_heading level0 row9\" >Category_PHOTOGRAPHY</th>\n",
       "                        <td id=\"T_33c062c2_4628_11ea_bcb1_107d1a375793row9_col0\" class=\"data row9 col0\" >0.028292</td>\n",
       "                        <td id=\"T_33c062c2_4628_11ea_bcb1_107d1a375793row9_col1\" class=\"data row9 col1\" >-0.00574999</td>\n",
       "                        <td id=\"T_33c062c2_4628_11ea_bcb1_107d1a375793row9_col2\" class=\"data row9 col2\" >0.0150465</td>\n",
       "                        <td id=\"T_33c062c2_4628_11ea_bcb1_107d1a375793row9_col3\" class=\"data row9 col3\" >-0.0350389</td>\n",
       "                        <td id=\"T_33c062c2_4628_11ea_bcb1_107d1a375793row9_col4\" class=\"data row9 col4\" >-0.0069443</td>\n",
       "                        <td id=\"T_33c062c2_4628_11ea_bcb1_107d1a375793row9_col5\" class=\"data row9 col5\" >-0.0316418</td>\n",
       "                        <td id=\"T_33c062c2_4628_11ea_bcb1_107d1a375793row9_col6\" class=\"data row9 col6\" >-0.0262066</td>\n",
       "                        <td id=\"T_33c062c2_4628_11ea_bcb1_107d1a375793row9_col7\" class=\"data row9 col7\" >-0.0170574</td>\n",
       "                        <td id=\"T_33c062c2_4628_11ea_bcb1_107d1a375793row9_col8\" class=\"data row9 col8\" >-0.0564804</td>\n",
       "                        <td id=\"T_33c062c2_4628_11ea_bcb1_107d1a375793row9_col9\" class=\"data row9 col9\" >1</td>\n",
       "                        <td id=\"T_33c062c2_4628_11ea_bcb1_107d1a375793row9_col10\" class=\"data row9 col10\" >-0.0345301</td>\n",
       "                        <td id=\"T_33c062c2_4628_11ea_bcb1_107d1a375793row9_col11\" class=\"data row9 col11\" >-0.027406</td>\n",
       "                        <td id=\"T_33c062c2_4628_11ea_bcb1_107d1a375793row9_col12\" class=\"data row9 col12\" >-0.0225427</td>\n",
       "                        <td id=\"T_33c062c2_4628_11ea_bcb1_107d1a375793row9_col13\" class=\"data row9 col13\" >0.00953934</td>\n",
       "                        <td id=\"T_33c062c2_4628_11ea_bcb1_107d1a375793row9_col14\" class=\"data row9 col14\" >-0.0397634</td>\n",
       "                        <td id=\"T_33c062c2_4628_11ea_bcb1_107d1a375793row9_col15\" class=\"data row9 col15\" >-0.018766</td>\n",
       "                        <td id=\"T_33c062c2_4628_11ea_bcb1_107d1a375793row9_col16\" class=\"data row9 col16\" >-0.0257187</td>\n",
       "                        <td id=\"T_33c062c2_4628_11ea_bcb1_107d1a375793row9_col17\" class=\"data row9 col17\" >0.0594046</td>\n",
       "            </tr>\n",
       "            <tr>\n",
       "                        <th id=\"T_33c062c2_4628_11ea_bcb1_107d1a375793level0_row10\" class=\"row_heading level0 row10\" >Category_PRODUCTIVITY</th>\n",
       "                        <td id=\"T_33c062c2_4628_11ea_bcb1_107d1a375793row10_col0\" class=\"data row10 col0\" >0.0286933</td>\n",
       "                        <td id=\"T_33c062c2_4628_11ea_bcb1_107d1a375793row10_col1\" class=\"data row10 col1\" >0.0044599</td>\n",
       "                        <td id=\"T_33c062c2_4628_11ea_bcb1_107d1a375793row10_col2\" class=\"data row10 col2\" >-0.00744799</td>\n",
       "                        <td id=\"T_33c062c2_4628_11ea_bcb1_107d1a375793row10_col3\" class=\"data row10 col3\" >-0.0754954</td>\n",
       "                        <td id=\"T_33c062c2_4628_11ea_bcb1_107d1a375793row10_col4\" class=\"data row10 col4\" >-0.00507378</td>\n",
       "                        <td id=\"T_33c062c2_4628_11ea_bcb1_107d1a375793row10_col5\" class=\"data row10 col5\" >-0.0366856</td>\n",
       "                        <td id=\"T_33c062c2_4628_11ea_bcb1_107d1a375793row10_col6\" class=\"data row10 col6\" >-0.030384</td>\n",
       "                        <td id=\"T_33c062c2_4628_11ea_bcb1_107d1a375793row10_col7\" class=\"data row10 col7\" >-0.0197764</td>\n",
       "                        <td id=\"T_33c062c2_4628_11ea_bcb1_107d1a375793row10_col8\" class=\"data row10 col8\" >-0.0654834</td>\n",
       "                        <td id=\"T_33c062c2_4628_11ea_bcb1_107d1a375793row10_col9\" class=\"data row10 col9\" >-0.0345301</td>\n",
       "                        <td id=\"T_33c062c2_4628_11ea_bcb1_107d1a375793row10_col10\" class=\"data row10 col10\" >1</td>\n",
       "                        <td id=\"T_33c062c2_4628_11ea_bcb1_107d1a375793row10_col11\" class=\"data row10 col11\" >-0.0317745</td>\n",
       "                        <td id=\"T_33c062c2_4628_11ea_bcb1_107d1a375793row10_col12\" class=\"data row10 col12\" >-0.026136</td>\n",
       "                        <td id=\"T_33c062c2_4628_11ea_bcb1_107d1a375793row10_col13\" class=\"data row10 col13\" >0.0057971</td>\n",
       "                        <td id=\"T_33c062c2_4628_11ea_bcb1_107d1a375793row10_col14\" class=\"data row10 col14\" >-0.0535687</td>\n",
       "                        <td id=\"T_33c062c2_4628_11ea_bcb1_107d1a375793row10_col15\" class=\"data row10 col15\" >0.00669029</td>\n",
       "                        <td id=\"T_33c062c2_4628_11ea_bcb1_107d1a375793row10_col16\" class=\"data row10 col16\" >-0.01838</td>\n",
       "                        <td id=\"T_33c062c2_4628_11ea_bcb1_107d1a375793row10_col17\" class=\"data row10 col17\" >0.0138603</td>\n",
       "            </tr>\n",
       "            <tr>\n",
       "                        <th id=\"T_33c062c2_4628_11ea_bcb1_107d1a375793level0_row11\" class=\"row_heading level0 row11\" >Category_SOCIAL</th>\n",
       "                        <td id=\"T_33c062c2_4628_11ea_bcb1_107d1a375793row11_col0\" class=\"data row11 col0\" >0.044949</td>\n",
       "                        <td id=\"T_33c062c2_4628_11ea_bcb1_107d1a375793row11_col1\" class=\"data row11 col1\" >0.0240631</td>\n",
       "                        <td id=\"T_33c062c2_4628_11ea_bcb1_107d1a375793row11_col2\" class=\"data row11 col2\" >0.0640916</td>\n",
       "                        <td id=\"T_33c062c2_4628_11ea_bcb1_107d1a375793row11_col3\" class=\"data row11 col3\" >-0.0301614</td>\n",
       "                        <td id=\"T_33c062c2_4628_11ea_bcb1_107d1a375793row11_col4\" class=\"data row11 col4\" >-0.00973724</td>\n",
       "                        <td id=\"T_33c062c2_4628_11ea_bcb1_107d1a375793row11_col5\" class=\"data row11 col5\" >-0.0291168</td>\n",
       "                        <td id=\"T_33c062c2_4628_11ea_bcb1_107d1a375793row11_col6\" class=\"data row11 col6\" >-0.0241153</td>\n",
       "                        <td id=\"T_33c062c2_4628_11ea_bcb1_107d1a375793row11_col7\" class=\"data row11 col7\" >-0.0156962</td>\n",
       "                        <td id=\"T_33c062c2_4628_11ea_bcb1_107d1a375793row11_col8\" class=\"data row11 col8\" >-0.0519732</td>\n",
       "                        <td id=\"T_33c062c2_4628_11ea_bcb1_107d1a375793row11_col9\" class=\"data row11 col9\" >-0.027406</td>\n",
       "                        <td id=\"T_33c062c2_4628_11ea_bcb1_107d1a375793row11_col10\" class=\"data row11 col10\" >-0.0317745</td>\n",
       "                        <td id=\"T_33c062c2_4628_11ea_bcb1_107d1a375793row11_col11\" class=\"data row11 col11\" >1</td>\n",
       "                        <td id=\"T_33c062c2_4628_11ea_bcb1_107d1a375793row11_col12\" class=\"data row11 col12\" >-0.0207438</td>\n",
       "                        <td id=\"T_33c062c2_4628_11ea_bcb1_107d1a375793row11_col13\" class=\"data row11 col13\" >0.0404995</td>\n",
       "                        <td id=\"T_33c062c2_4628_11ea_bcb1_107d1a375793row11_col14\" class=\"data row11 col14\" >0.17106</td>\n",
       "                        <td id=\"T_33c062c2_4628_11ea_bcb1_107d1a375793row11_col15\" class=\"data row11 col15\" >-0.0372979</td>\n",
       "                        <td id=\"T_33c062c2_4628_11ea_bcb1_107d1a375793row11_col16\" class=\"data row11 col16\" >0.0260376</td>\n",
       "                        <td id=\"T_33c062c2_4628_11ea_bcb1_107d1a375793row11_col17\" class=\"data row11 col17\" >0.019938</td>\n",
       "            </tr>\n",
       "            <tr>\n",
       "                        <th id=\"T_33c062c2_4628_11ea_bcb1_107d1a375793level0_row12\" class=\"row_heading level0 row12\" >Category_VIDEO_PLAYERS</th>\n",
       "                        <td id=\"T_33c062c2_4628_11ea_bcb1_107d1a375793row12_col0\" class=\"data row12 col0\" >0.0395765</td>\n",
       "                        <td id=\"T_33c062c2_4628_11ea_bcb1_107d1a375793row12_col1\" class=\"data row12 col1\" >-0.0341113</td>\n",
       "                        <td id=\"T_33c062c2_4628_11ea_bcb1_107d1a375793row12_col2\" class=\"data row12 col2\" >0.0140644</td>\n",
       "                        <td id=\"T_33c062c2_4628_11ea_bcb1_107d1a375793row12_col3\" class=\"data row12 col3\" >-0.0275999</td>\n",
       "                        <td id=\"T_33c062c2_4628_11ea_bcb1_107d1a375793row12_col4\" class=\"data row12 col4\" >-0.00802976</td>\n",
       "                        <td id=\"T_33c062c2_4628_11ea_bcb1_107d1a375793row12_col5\" class=\"data row12 col5\" >-0.0239499</td>\n",
       "                        <td id=\"T_33c062c2_4628_11ea_bcb1_107d1a375793row12_col6\" class=\"data row12 col6\" >-0.0198359</td>\n",
       "                        <td id=\"T_33c062c2_4628_11ea_bcb1_107d1a375793row12_col7\" class=\"data row12 col7\" >-0.0129109</td>\n",
       "                        <td id=\"T_33c062c2_4628_11ea_bcb1_107d1a375793row12_col8\" class=\"data row12 col8\" >-0.0427503</td>\n",
       "                        <td id=\"T_33c062c2_4628_11ea_bcb1_107d1a375793row12_col9\" class=\"data row12 col9\" >-0.0225427</td>\n",
       "                        <td id=\"T_33c062c2_4628_11ea_bcb1_107d1a375793row12_col10\" class=\"data row12 col10\" >-0.026136</td>\n",
       "                        <td id=\"T_33c062c2_4628_11ea_bcb1_107d1a375793row12_col11\" class=\"data row12 col11\" >-0.0207438</td>\n",
       "                        <td id=\"T_33c062c2_4628_11ea_bcb1_107d1a375793row12_col12\" class=\"data row12 col12\" >1</td>\n",
       "                        <td id=\"T_33c062c2_4628_11ea_bcb1_107d1a375793row12_col13\" class=\"data row12 col13\" >0.0276323</td>\n",
       "                        <td id=\"T_33c062c2_4628_11ea_bcb1_107d1a375793row12_col14\" class=\"data row12 col14\" >0.00935066</td>\n",
       "                        <td id=\"T_33c062c2_4628_11ea_bcb1_107d1a375793row12_col15\" class=\"data row12 col15\" >-0.041633</td>\n",
       "                        <td id=\"T_33c062c2_4628_11ea_bcb1_107d1a375793row12_col16\" class=\"data row12 col16\" >0.0281542</td>\n",
       "                        <td id=\"T_33c062c2_4628_11ea_bcb1_107d1a375793row12_col17\" class=\"data row12 col17\" >0.0234123</td>\n",
       "            </tr>\n",
       "            <tr>\n",
       "                        <th id=\"T_33c062c2_4628_11ea_bcb1_107d1a375793level0_row13\" class=\"row_heading level0 row13\" >Type_Free</th>\n",
       "                        <td id=\"T_33c062c2_4628_11ea_bcb1_107d1a375793row13_col0\" class=\"data row13 col0\" >0.0418044</td>\n",
       "                        <td id=\"T_33c062c2_4628_11ea_bcb1_107d1a375793row13_col1\" class=\"data row13 col1\" >-0.0453924</td>\n",
       "                        <td id=\"T_33c062c2_4628_11ea_bcb1_107d1a375793row13_col2\" class=\"data row13 col2\" >0.0330763</td>\n",
       "                        <td id=\"T_33c062c2_4628_11ea_bcb1_107d1a375793row13_col3\" class=\"data row13 col3\" >0.0155771</td>\n",
       "                        <td id=\"T_33c062c2_4628_11ea_bcb1_107d1a375793row13_col4\" class=\"data row13 col4\" >-0.223586</td>\n",
       "                        <td id=\"T_33c062c2_4628_11ea_bcb1_107d1a375793row13_col5\" class=\"data row13 col5\" >-0.00172269</td>\n",
       "                        <td id=\"T_33c062c2_4628_11ea_bcb1_107d1a375793row13_col6\" class=\"data row13 col6\" >0.0154568</td>\n",
       "                        <td id=\"T_33c062c2_4628_11ea_bcb1_107d1a375793row13_col7\" class=\"data row13 col7\" >0.0220786</td>\n",
       "                        <td id=\"T_33c062c2_4628_11ea_bcb1_107d1a375793row13_col8\" class=\"data row13 col8\" >-0.00520136</td>\n",
       "                        <td id=\"T_33c062c2_4628_11ea_bcb1_107d1a375793row13_col9\" class=\"data row13 col9\" >0.00953934</td>\n",
       "                        <td id=\"T_33c062c2_4628_11ea_bcb1_107d1a375793row13_col10\" class=\"data row13 col10\" >0.0057971</td>\n",
       "                        <td id=\"T_33c062c2_4628_11ea_bcb1_107d1a375793row13_col11\" class=\"data row13 col11\" >0.0404995</td>\n",
       "                        <td id=\"T_33c062c2_4628_11ea_bcb1_107d1a375793row13_col12\" class=\"data row13 col12\" >0.0276323</td>\n",
       "                        <td id=\"T_33c062c2_4628_11ea_bcb1_107d1a375793row13_col13\" class=\"data row13 col13\" >1</td>\n",
       "                        <td id=\"T_33c062c2_4628_11ea_bcb1_107d1a375793row13_col14\" class=\"data row13 col14\" >0.0410147</td>\n",
       "                        <td id=\"T_33c062c2_4628_11ea_bcb1_107d1a375793row13_col15\" class=\"data row13 col15\" >0.0410665</td>\n",
       "                        <td id=\"T_33c062c2_4628_11ea_bcb1_107d1a375793row13_col16\" class=\"data row13 col16\" >0.0245844</td>\n",
       "                        <td id=\"T_33c062c2_4628_11ea_bcb1_107d1a375793row13_col17\" class=\"data row13 col17\" >-0.0896833</td>\n",
       "            </tr>\n",
       "            <tr>\n",
       "                        <th id=\"T_33c062c2_4628_11ea_bcb1_107d1a375793level0_row14\" class=\"row_heading level0 row14\" >Content Rating_Teen</th>\n",
       "                        <td id=\"T_33c062c2_4628_11ea_bcb1_107d1a375793row14_col0\" class=\"data row14 col0\" >0.0523384</td>\n",
       "                        <td id=\"T_33c062c2_4628_11ea_bcb1_107d1a375793row14_col1\" class=\"data row14 col1\" >0.0358938</td>\n",
       "                        <td id=\"T_33c062c2_4628_11ea_bcb1_107d1a375793row14_col2\" class=\"data row14 col2\" >0.0509057</td>\n",
       "                        <td id=\"T_33c062c2_4628_11ea_bcb1_107d1a375793row14_col3\" class=\"data row14 col3\" >0.150183</td>\n",
       "                        <td id=\"T_33c062c2_4628_11ea_bcb1_107d1a375793row14_col4\" class=\"data row14 col4\" >-0.00955066</td>\n",
       "                        <td id=\"T_33c062c2_4628_11ea_bcb1_107d1a375793row14_col5\" class=\"data row14 col5\" >-0.012641</td>\n",
       "                        <td id=\"T_33c062c2_4628_11ea_bcb1_107d1a375793row14_col6\" class=\"data row14 col6\" >-0.0390167</td>\n",
       "                        <td id=\"T_33c062c2_4628_11ea_bcb1_107d1a375793row14_col7\" class=\"data row14 col7\" >0.14632</td>\n",
       "                        <td id=\"T_33c062c2_4628_11ea_bcb1_107d1a375793row14_col8\" class=\"data row14 col8\" >0.217256</td>\n",
       "                        <td id=\"T_33c062c2_4628_11ea_bcb1_107d1a375793row14_col9\" class=\"data row14 col9\" >-0.0397634</td>\n",
       "                        <td id=\"T_33c062c2_4628_11ea_bcb1_107d1a375793row14_col10\" class=\"data row14 col10\" >-0.0535687</td>\n",
       "                        <td id=\"T_33c062c2_4628_11ea_bcb1_107d1a375793row14_col11\" class=\"data row14 col11\" >0.17106</td>\n",
       "                        <td id=\"T_33c062c2_4628_11ea_bcb1_107d1a375793row14_col12\" class=\"data row14 col12\" >0.00935066</td>\n",
       "                        <td id=\"T_33c062c2_4628_11ea_bcb1_107d1a375793row14_col13\" class=\"data row14 col13\" >0.0410147</td>\n",
       "                        <td id=\"T_33c062c2_4628_11ea_bcb1_107d1a375793row14_col14\" class=\"data row14 col14\" >1</td>\n",
       "                        <td id=\"T_33c062c2_4628_11ea_bcb1_107d1a375793row14_col15\" class=\"data row14 col15\" >-0.0104675</td>\n",
       "                        <td id=\"T_33c062c2_4628_11ea_bcb1_107d1a375793row14_col16\" class=\"data row14 col16\" >0.103683</td>\n",
       "                        <td id=\"T_33c062c2_4628_11ea_bcb1_107d1a375793row14_col17\" class=\"data row14 col17\" >-0.116982</td>\n",
       "            </tr>\n",
       "            <tr>\n",
       "                        <th id=\"T_33c062c2_4628_11ea_bcb1_107d1a375793level0_row15\" class=\"row_heading level0 row15\" >Positive</th>\n",
       "                        <td id=\"T_33c062c2_4628_11ea_bcb1_107d1a375793row15_col0\" class=\"data row15 col0\" >-0.0431461</td>\n",
       "                        <td id=\"T_33c062c2_4628_11ea_bcb1_107d1a375793row15_col1\" class=\"data row15 col1\" >0.321744</td>\n",
       "                        <td id=\"T_33c062c2_4628_11ea_bcb1_107d1a375793row15_col2\" class=\"data row15 col2\" >-0.0639309</td>\n",
       "                        <td id=\"T_33c062c2_4628_11ea_bcb1_107d1a375793row15_col3\" class=\"data row15 col3\" >-0.124378</td>\n",
       "                        <td id=\"T_33c062c2_4628_11ea_bcb1_107d1a375793row15_col4\" class=\"data row15 col4\" >0.0240787</td>\n",
       "                        <td id=\"T_33c062c2_4628_11ea_bcb1_107d1a375793row15_col5\" class=\"data row15 col5\" >-0.0216942</td>\n",
       "                        <td id=\"T_33c062c2_4628_11ea_bcb1_107d1a375793row15_col6\" class=\"data row15 col6\" >-0.0221196</td>\n",
       "                        <td id=\"T_33c062c2_4628_11ea_bcb1_107d1a375793row15_col7\" class=\"data row15 col7\" >-0.0179122</td>\n",
       "                        <td id=\"T_33c062c2_4628_11ea_bcb1_107d1a375793row15_col8\" class=\"data row15 col8\" >-0.123311</td>\n",
       "                        <td id=\"T_33c062c2_4628_11ea_bcb1_107d1a375793row15_col9\" class=\"data row15 col9\" >-0.018766</td>\n",
       "                        <td id=\"T_33c062c2_4628_11ea_bcb1_107d1a375793row15_col10\" class=\"data row15 col10\" >0.00669029</td>\n",
       "                        <td id=\"T_33c062c2_4628_11ea_bcb1_107d1a375793row15_col11\" class=\"data row15 col11\" >-0.0372979</td>\n",
       "                        <td id=\"T_33c062c2_4628_11ea_bcb1_107d1a375793row15_col12\" class=\"data row15 col12\" >-0.041633</td>\n",
       "                        <td id=\"T_33c062c2_4628_11ea_bcb1_107d1a375793row15_col13\" class=\"data row15 col13\" >0.0410665</td>\n",
       "                        <td id=\"T_33c062c2_4628_11ea_bcb1_107d1a375793row15_col14\" class=\"data row15 col14\" >-0.0104675</td>\n",
       "                        <td id=\"T_33c062c2_4628_11ea_bcb1_107d1a375793row15_col15\" class=\"data row15 col15\" >1</td>\n",
       "                        <td id=\"T_33c062c2_4628_11ea_bcb1_107d1a375793row15_col16\" class=\"data row15 col16\" >-0.729897</td>\n",
       "                        <td id=\"T_33c062c2_4628_11ea_bcb1_107d1a375793row15_col17\" class=\"data row15 col17\" >-0.494116</td>\n",
       "            </tr>\n",
       "            <tr>\n",
       "                        <th id=\"T_33c062c2_4628_11ea_bcb1_107d1a375793level0_row16\" class=\"row_heading level0 row16\" >Negative</th>\n",
       "                        <td id=\"T_33c062c2_4628_11ea_bcb1_107d1a375793row16_col0\" class=\"data row16 col0\" >0.0971842</td>\n",
       "                        <td id=\"T_33c062c2_4628_11ea_bcb1_107d1a375793row16_col1\" class=\"data row16 col1\" >-0.193836</td>\n",
       "                        <td id=\"T_33c062c2_4628_11ea_bcb1_107d1a375793row16_col2\" class=\"data row16 col2\" >0.132257</td>\n",
       "                        <td id=\"T_33c062c2_4628_11ea_bcb1_107d1a375793row16_col3\" class=\"data row16 col3\" >0.313275</td>\n",
       "                        <td id=\"T_33c062c2_4628_11ea_bcb1_107d1a375793row16_col4\" class=\"data row16 col4\" >-0.00682907</td>\n",
       "                        <td id=\"T_33c062c2_4628_11ea_bcb1_107d1a375793row16_col5\" class=\"data row16 col5\" >0.0106679</td>\n",
       "                        <td id=\"T_33c062c2_4628_11ea_bcb1_107d1a375793row16_col6\" class=\"data row16 col6\" >0.0035902</td>\n",
       "                        <td id=\"T_33c062c2_4628_11ea_bcb1_107d1a375793row16_col7\" class=\"data row16 col7\" >0.0400919</td>\n",
       "                        <td id=\"T_33c062c2_4628_11ea_bcb1_107d1a375793row16_col8\" class=\"data row16 col8\" >0.329638</td>\n",
       "                        <td id=\"T_33c062c2_4628_11ea_bcb1_107d1a375793row16_col9\" class=\"data row16 col9\" >-0.0257187</td>\n",
       "                        <td id=\"T_33c062c2_4628_11ea_bcb1_107d1a375793row16_col10\" class=\"data row16 col10\" >-0.01838</td>\n",
       "                        <td id=\"T_33c062c2_4628_11ea_bcb1_107d1a375793row16_col11\" class=\"data row16 col11\" >0.0260376</td>\n",
       "                        <td id=\"T_33c062c2_4628_11ea_bcb1_107d1a375793row16_col12\" class=\"data row16 col12\" >0.0281542</td>\n",
       "                        <td id=\"T_33c062c2_4628_11ea_bcb1_107d1a375793row16_col13\" class=\"data row16 col13\" >0.0245844</td>\n",
       "                        <td id=\"T_33c062c2_4628_11ea_bcb1_107d1a375793row16_col14\" class=\"data row16 col14\" >0.103683</td>\n",
       "                        <td id=\"T_33c062c2_4628_11ea_bcb1_107d1a375793row16_col15\" class=\"data row16 col15\" >-0.729897</td>\n",
       "                        <td id=\"T_33c062c2_4628_11ea_bcb1_107d1a375793row16_col16\" class=\"data row16 col16\" >1</td>\n",
       "                        <td id=\"T_33c062c2_4628_11ea_bcb1_107d1a375793row16_col17\" class=\"data row16 col17\" >-0.233628</td>\n",
       "            </tr>\n",
       "            <tr>\n",
       "                        <th id=\"T_33c062c2_4628_11ea_bcb1_107d1a375793level0_row17\" class=\"row_heading level0 row17\" >Neutral</th>\n",
       "                        <td id=\"T_33c062c2_4628_11ea_bcb1_107d1a375793row17_col0\" class=\"data row17 col0\" >-0.062318</td>\n",
       "                        <td id=\"T_33c062c2_4628_11ea_bcb1_107d1a375793row17_col1\" class=\"data row17 col1\" >-0.209065</td>\n",
       "                        <td id=\"T_33c062c2_4628_11ea_bcb1_107d1a375793row17_col2\" class=\"data row17 col2\" >-0.0774333</td>\n",
       "                        <td id=\"T_33c062c2_4628_11ea_bcb1_107d1a375793row17_col3\" class=\"data row17 col3\" >-0.221681</td>\n",
       "                        <td id=\"T_33c062c2_4628_11ea_bcb1_107d1a375793row17_col4\" class=\"data row17 col4\" >-0.0253898</td>\n",
       "                        <td id=\"T_33c062c2_4628_11ea_bcb1_107d1a375793row17_col5\" class=\"data row17 col5\" >0.0172907</td>\n",
       "                        <td id=\"T_33c062c2_4628_11ea_bcb1_107d1a375793row17_col6\" class=\"data row17 col6\" >0.0268978</td>\n",
       "                        <td id=\"T_33c062c2_4628_11ea_bcb1_107d1a375793row17_col7\" class=\"data row17 col7\" >-0.0255125</td>\n",
       "                        <td id=\"T_33c062c2_4628_11ea_bcb1_107d1a375793row17_col8\" class=\"data row17 col8\" >-0.243853</td>\n",
       "                        <td id=\"T_33c062c2_4628_11ea_bcb1_107d1a375793row17_col9\" class=\"data row17 col9\" >0.0594046</td>\n",
       "                        <td id=\"T_33c062c2_4628_11ea_bcb1_107d1a375793row17_col10\" class=\"data row17 col10\" >0.0138603</td>\n",
       "                        <td id=\"T_33c062c2_4628_11ea_bcb1_107d1a375793row17_col11\" class=\"data row17 col11\" >0.019938</td>\n",
       "                        <td id=\"T_33c062c2_4628_11ea_bcb1_107d1a375793row17_col12\" class=\"data row17 col12\" >0.0234123</td>\n",
       "                        <td id=\"T_33c062c2_4628_11ea_bcb1_107d1a375793row17_col13\" class=\"data row17 col13\" >-0.0896833</td>\n",
       "                        <td id=\"T_33c062c2_4628_11ea_bcb1_107d1a375793row17_col14\" class=\"data row17 col14\" >-0.116982</td>\n",
       "                        <td id=\"T_33c062c2_4628_11ea_bcb1_107d1a375793row17_col15\" class=\"data row17 col15\" >-0.494116</td>\n",
       "                        <td id=\"T_33c062c2_4628_11ea_bcb1_107d1a375793row17_col16\" class=\"data row17 col16\" >-0.233628</td>\n",
       "                        <td id=\"T_33c062c2_4628_11ea_bcb1_107d1a375793row17_col17\" class=\"data row17 col17\" >1</td>\n",
       "            </tr>\n",
       "    </tbody></table>"
      ],
      "text/plain": [
       "<pandas.io.formats.style.Styler at 0x232c5d1b748>"
      ]
     },
     "execution_count": 113,
     "metadata": {},
     "output_type": "execute_result"
    }
   ],
   "source": [
    "X = df_combined_dummies[['Installs', 'Rating','Reviews', 'Size','Price', \n",
    "                 'Category_COMMUNICATION',\n",
    "                         'Category_TRAVEL_AND_LOCAL',\n",
    "                 'Category_ENTERTAINMENT', 'Category_GAME',\n",
    "                'Category_PHOTOGRAPHY',\n",
    "                 'Category_PRODUCTIVITY', 'Category_SOCIAL',\n",
    "                 'Category_VIDEO_PLAYERS', 'Type_Free',\n",
    "                 'Content Rating_Teen', 'Positive', 'Negative', 'Neutral']]\n",
    "corr = X.corr()\n",
    "corr.style.background_gradient(cmap='coolwarm')"
   ]
  },
  {
   "cell_type": "markdown",
   "metadata": {},
   "source": [
    "<b>In order to develop the next top trending application on the Google Play Store, company should focus on on building:\n",
    "<ol><li> Category (Preference Wise)): <ol><li>'Communication' </li>\n",
    "                        <li>'Social'</li>\n",
    "                        <li>'Video_Players'</li>\n",
    "                        <li>'Games'</li></ol>\n",
    "    <li> Type : 'Free' </li>\n",
    "    <li> Content Rating : 'Teen' </li></ol></b>\n",
    "\n",
    "Please Note : By trending, I am assuming more number of Installs."
   ]
  },
  {
   "cell_type": "markdown",
   "metadata": {},
   "source": [
    "<b>Ratings are not highly correlated with Installs which means that the high ratings not necessarily influence users to download the app.\n",
    "\n",
    "However, Number of Reviews are highly correlated with Installs. For an app which has high number of reviews, the chances of downloading that app by an user is also high."
   ]
  },
  {
   "cell_type": "markdown",
   "metadata": {},
   "source": [
    "<b>The top rated application name and its’ rating for each category. If there are ties, return all tied applications. (ie: the top application in the category ART_AND_DESIGN is “Spring flowers theme couleurs d t space” with a rating of 5.0.)"
   ]
  },
  {
   "cell_type": "code",
   "execution_count": 49,
   "metadata": {},
   "outputs": [
    {
     "data": {
      "text/html": [
       "<div>\n",
       "<style scoped>\n",
       "    .dataframe tbody tr th:only-of-type {\n",
       "        vertical-align: middle;\n",
       "    }\n",
       "\n",
       "    .dataframe tbody tr th {\n",
       "        vertical-align: top;\n",
       "    }\n",
       "\n",
       "    .dataframe thead th {\n",
       "        text-align: right;\n",
       "    }\n",
       "</style>\n",
       "<table border=\"1\" class=\"dataframe\">\n",
       "  <thead>\n",
       "    <tr style=\"text-align: right;\">\n",
       "      <th></th>\n",
       "      <th>App</th>\n",
       "      <th>Rating</th>\n",
       "      <th>Category</th>\n",
       "    </tr>\n",
       "  </thead>\n",
       "  <tbody>\n",
       "    <tr>\n",
       "      <th>7776</th>\n",
       "      <td>Spring flowers theme couleurs d t space</td>\n",
       "      <td>5.00</td>\n",
       "      <td>ART_AND_DESIGN</td>\n",
       "    </tr>\n",
       "    <tr>\n",
       "      <th>55</th>\n",
       "      <td>Tickets SDA 2018 and Exam from the State Traff...</td>\n",
       "      <td>4.90</td>\n",
       "      <td>AUTO_AND_VEHICLES</td>\n",
       "    </tr>\n",
       "    <tr>\n",
       "      <th>99</th>\n",
       "      <td>ipsy: Makeup, Beauty, and Tips</td>\n",
       "      <td>4.90</td>\n",
       "      <td>BEAUTY</td>\n",
       "    </tr>\n",
       "    <tr>\n",
       "      <th>3543</th>\n",
       "      <td>R Programing Offline Tutorial</td>\n",
       "      <td>5.00</td>\n",
       "      <td>BOOKS_AND_REFERENCE</td>\n",
       "    </tr>\n",
       "    <tr>\n",
       "      <th>4115</th>\n",
       "      <td>Ag Valley Cooperative</td>\n",
       "      <td>5.00</td>\n",
       "      <td>BUSINESS</td>\n",
       "    </tr>\n",
       "    <tr>\n",
       "      <th>292</th>\n",
       "      <td>Hojiboy Tojiboyev Life Hacks</td>\n",
       "      <td>5.00</td>\n",
       "      <td>COMICS</td>\n",
       "    </tr>\n",
       "    <tr>\n",
       "      <th>5682</th>\n",
       "      <td>BS-Mobile</td>\n",
       "      <td>5.00</td>\n",
       "      <td>COMMUNICATION</td>\n",
       "    </tr>\n",
       "    <tr>\n",
       "      <th>504</th>\n",
       "      <td>American Girls Mobile Numbers</td>\n",
       "      <td>5.00</td>\n",
       "      <td>DATING</td>\n",
       "    </tr>\n",
       "    <tr>\n",
       "      <th>577</th>\n",
       "      <td>Learn Japanese, Korean, Chinese Offline &amp; Free</td>\n",
       "      <td>4.90</td>\n",
       "      <td>EDUCATION</td>\n",
       "    </tr>\n",
       "    <tr>\n",
       "      <th>706</th>\n",
       "      <td>🔥 Football Wallpapers 4K | Full HD Backgrounds 😍</td>\n",
       "      <td>4.70</td>\n",
       "      <td>ENTERTAINMENT</td>\n",
       "    </tr>\n",
       "    <tr>\n",
       "      <th>801</th>\n",
       "      <td>SUMMER SONIC app</td>\n",
       "      <td>5.00</td>\n",
       "      <td>EVENTS</td>\n",
       "    </tr>\n",
       "    <tr>\n",
       "      <th>4235</th>\n",
       "      <td>Hey AJ! It's Bedtime!</td>\n",
       "      <td>5.00</td>\n",
       "      <td>FAMILY</td>\n",
       "    </tr>\n",
       "    <tr>\n",
       "      <th>5251</th>\n",
       "      <td>BI APP</td>\n",
       "      <td>5.00</td>\n",
       "      <td>FINANCE</td>\n",
       "    </tr>\n",
       "    <tr>\n",
       "      <th>4758</th>\n",
       "      <td>Food-Aw - Order Food Online in Aruba</td>\n",
       "      <td>5.00</td>\n",
       "      <td>FOOD_AND_DRINK</td>\n",
       "    </tr>\n",
       "    <tr>\n",
       "      <th>4777</th>\n",
       "      <td>Axe Champs! Wars</td>\n",
       "      <td>5.00</td>\n",
       "      <td>GAME</td>\n",
       "    </tr>\n",
       "    <tr>\n",
       "      <th>5451</th>\n",
       "      <td>BM Physiotherapy Clinic</td>\n",
       "      <td>5.00</td>\n",
       "      <td>HEALTH_AND_FITNESS</td>\n",
       "    </tr>\n",
       "    <tr>\n",
       "      <th>1148</th>\n",
       "      <td>Viva Decora - Decoration, Photos, Architecture...</td>\n",
       "      <td>4.80</td>\n",
       "      <td>HOUSE_AND_HOME</td>\n",
       "    </tr>\n",
       "    <tr>\n",
       "      <th>1237</th>\n",
       "      <td>Eternal life</td>\n",
       "      <td>5.00</td>\n",
       "      <td>LIBRARIES_AND_DEMO</td>\n",
       "    </tr>\n",
       "    <tr>\n",
       "      <th>4054</th>\n",
       "      <td>Tafsiir Quraan MP3 Af Soomaali Quraanka Kariimka</td>\n",
       "      <td>5.00</td>\n",
       "      <td>LIFESTYLE</td>\n",
       "    </tr>\n",
       "    <tr>\n",
       "      <th>5001</th>\n",
       "      <td>Tour BD (Bahir Dar Map)</td>\n",
       "      <td>4.90</td>\n",
       "      <td>MAPS_AND_NAVIGATION</td>\n",
       "    </tr>\n",
       "    <tr>\n",
       "      <th>1687</th>\n",
       "      <td>Super Hearing Secret Voices Recorder PRO</td>\n",
       "      <td>5.00</td>\n",
       "      <td>MEDICAL</td>\n",
       "    </tr>\n",
       "    <tr>\n",
       "      <th>4185</th>\n",
       "      <td>AI Today : Artificial Intelligence News &amp; AI 101</td>\n",
       "      <td>5.00</td>\n",
       "      <td>NEWS_AND_MAGAZINES</td>\n",
       "    </tr>\n",
       "    <tr>\n",
       "      <th>7252</th>\n",
       "      <td>DF Glue Board</td>\n",
       "      <td>5.00</td>\n",
       "      <td>PARENTING</td>\n",
       "    </tr>\n",
       "    <tr>\n",
       "      <th>3456</th>\n",
       "      <td>P-Home for KLWP</td>\n",
       "      <td>5.00</td>\n",
       "      <td>PERSONALIZATION</td>\n",
       "    </tr>\n",
       "    <tr>\n",
       "      <th>4219</th>\n",
       "      <td>AJ Cam</td>\n",
       "      <td>5.00</td>\n",
       "      <td>PHOTOGRAPHY</td>\n",
       "    </tr>\n",
       "    <tr>\n",
       "      <th>5805</th>\n",
       "      <td>BV Mobile Apps</td>\n",
       "      <td>5.00</td>\n",
       "      <td>PRODUCTIVITY</td>\n",
       "    </tr>\n",
       "    <tr>\n",
       "      <th>4234</th>\n",
       "      <td>AJ RETAILS</td>\n",
       "      <td>5.00</td>\n",
       "      <td>SHOPPING</td>\n",
       "    </tr>\n",
       "    <tr>\n",
       "      <th>4108</th>\n",
       "      <td>Eternal Light AG</td>\n",
       "      <td>5.00</td>\n",
       "      <td>SOCIAL</td>\n",
       "    </tr>\n",
       "    <tr>\n",
       "      <th>6693</th>\n",
       "      <td>CricQuick</td>\n",
       "      <td>5.00</td>\n",
       "      <td>SPORTS</td>\n",
       "    </tr>\n",
       "    <tr>\n",
       "      <th>2982</th>\n",
       "      <td>ADS-B Driver</td>\n",
       "      <td>5.00</td>\n",
       "      <td>TOOLS</td>\n",
       "    </tr>\n",
       "    <tr>\n",
       "      <th>5147</th>\n",
       "      <td>BG Guide</td>\n",
       "      <td>5.00</td>\n",
       "      <td>TRAVEL_AND_LOCAL</td>\n",
       "    </tr>\n",
       "    <tr>\n",
       "      <th>4297</th>\n",
       "      <td>AK Lodi Films</td>\n",
       "      <td>4.90</td>\n",
       "      <td>VIDEO_PLAYERS</td>\n",
       "    </tr>\n",
       "    <tr>\n",
       "      <th>2700</th>\n",
       "      <td>Weather forecast</td>\n",
       "      <td>4.80</td>\n",
       "      <td>WEATHER</td>\n",
       "    </tr>\n",
       "  </tbody>\n",
       "</table>\n",
       "</div>"
      ],
      "text/plain": [
       "                                                    App  Rating  \\\n",
       "7776            Spring flowers theme couleurs d t space    5.00   \n",
       "55    Tickets SDA 2018 and Exam from the State Traff...    4.90   \n",
       "99                       ipsy: Makeup, Beauty, and Tips    4.90   \n",
       "3543                      R Programing Offline Tutorial    5.00   \n",
       "4115                              Ag Valley Cooperative    5.00   \n",
       "292                        Hojiboy Tojiboyev Life Hacks    5.00   \n",
       "5682                                          BS-Mobile    5.00   \n",
       "504                       American Girls Mobile Numbers    5.00   \n",
       "577      Learn Japanese, Korean, Chinese Offline & Free    4.90   \n",
       "706    🔥 Football Wallpapers 4K | Full HD Backgrounds 😍    4.70   \n",
       "801                                    SUMMER SONIC app    5.00   \n",
       "4235                              Hey AJ! It's Bedtime!    5.00   \n",
       "5251                                             BI APP    5.00   \n",
       "4758               Food-Aw - Order Food Online in Aruba    5.00   \n",
       "4777                                   Axe Champs! Wars    5.00   \n",
       "5451                            BM Physiotherapy Clinic    5.00   \n",
       "1148  Viva Decora - Decoration, Photos, Architecture...    4.80   \n",
       "1237                                       Eternal life    5.00   \n",
       "4054   Tafsiir Quraan MP3 Af Soomaali Quraanka Kariimka    5.00   \n",
       "5001                            Tour BD (Bahir Dar Map)    4.90   \n",
       "1687           Super Hearing Secret Voices Recorder PRO    5.00   \n",
       "4185   AI Today : Artificial Intelligence News & AI 101    5.00   \n",
       "7252                                      DF Glue Board    5.00   \n",
       "3456                                    P-Home for KLWP    5.00   \n",
       "4219                                             AJ Cam    5.00   \n",
       "5805                                     BV Mobile Apps    5.00   \n",
       "4234                                         AJ RETAILS    5.00   \n",
       "4108                                   Eternal Light AG    5.00   \n",
       "6693                                          CricQuick    5.00   \n",
       "2982                                       ADS-B Driver    5.00   \n",
       "5147                                           BG Guide    5.00   \n",
       "4297                                      AK Lodi Films    4.90   \n",
       "2700                                   Weather forecast    4.80   \n",
       "\n",
       "                 Category  \n",
       "7776       ART_AND_DESIGN  \n",
       "55      AUTO_AND_VEHICLES  \n",
       "99                 BEAUTY  \n",
       "3543  BOOKS_AND_REFERENCE  \n",
       "4115             BUSINESS  \n",
       "292                COMICS  \n",
       "5682        COMMUNICATION  \n",
       "504                DATING  \n",
       "577             EDUCATION  \n",
       "706         ENTERTAINMENT  \n",
       "801                EVENTS  \n",
       "4235               FAMILY  \n",
       "5251              FINANCE  \n",
       "4758       FOOD_AND_DRINK  \n",
       "4777                 GAME  \n",
       "5451   HEALTH_AND_FITNESS  \n",
       "1148       HOUSE_AND_HOME  \n",
       "1237   LIBRARIES_AND_DEMO  \n",
       "4054            LIFESTYLE  \n",
       "5001  MAPS_AND_NAVIGATION  \n",
       "1687              MEDICAL  \n",
       "4185   NEWS_AND_MAGAZINES  \n",
       "7252            PARENTING  \n",
       "3456      PERSONALIZATION  \n",
       "4219          PHOTOGRAPHY  \n",
       "5805         PRODUCTIVITY  \n",
       "4234             SHOPPING  \n",
       "4108               SOCIAL  \n",
       "6693               SPORTS  \n",
       "2982                TOOLS  \n",
       "5147     TRAVEL_AND_LOCAL  \n",
       "4297        VIDEO_PLAYERS  \n",
       "2700              WEATHER  "
      ]
     },
     "execution_count": 49,
     "metadata": {},
     "output_type": "execute_result"
    }
   ],
   "source": [
    "df_combined.loc[df_combined.reset_index().groupby(['Category'])['Rating'].idxmax(),['App','Rating','Category']]"
   ]
  },
  {
   "cell_type": "markdown",
   "metadata": {},
   "source": [
    "PRATIK KHANDELWAL"
   ]
  },
  {
   "cell_type": "markdown",
   "metadata": {},
   "source": [
    "----------------------------------------- End of the Document -----------------------------------------"
   ]
  }
 ],
 "metadata": {
  "kernelspec": {
   "display_name": "Python 3",
   "language": "python",
   "name": "python3"
  },
  "language_info": {
   "codemirror_mode": {
    "name": "ipython",
    "version": 3
   },
   "file_extension": ".py",
   "mimetype": "text/x-python",
   "name": "python",
   "nbconvert_exporter": "python",
   "pygments_lexer": "ipython3",
   "version": "3.6.4"
  }
 },
 "nbformat": 4,
 "nbformat_minor": 2
}
